{
 "cells": [
  {
   "cell_type": "code",
   "execution_count": 1,
   "metadata": {},
   "outputs": [],
   "source": [
    "from paths import *\n",
    "import pandas as pd\n",
    "import numpy as np\n",
    "import xml.etree.ElementTree as ET\n",
    "import matplotlib.pyplot as plt\n",
    "from collections import Counter\n",
    "from matplotlib import rc\n",
    "rc('font', **{'family': 'serif', 'serif': ['Computer Modern']})\n",
    "rc('text', usetex=True)\n",
    "rc('text.latex', preamble= r'\\usepackage{amsfonts}')"
   ]
  },
  {
   "cell_type": "code",
   "execution_count": 2,
   "metadata": {},
   "outputs": [],
   "source": [
    "# for c in all_parsed_pdb_ids[list(parsed_and_found)[0]]:\r\n",
    "#     print(c.attrib)\r\n",
    "nrscc = pd.read_pickle(nrscc_path)\r\n",
    "dccc = pd.read_pickle(commercial_conditions_path)\r\n",
    "chems_pdb = pd.read_pickle(chems_table_from_pdb_path)\r\n",
    "chems_dccc = pd.read_pickle(chems_table_from_commercial_screens_path)\r\n",
    "pdb_dates = pd.read_pickle(pdb_dates_path)\r\n",
    "pdb_conditions = pd.read_pickle(pdb_conditions_path)\r\n",
    "dupes = pd.read_pickle(pdb_duplicates_lookup_path)\r\n",
    "nrscc_clusters = pd.read_pickle(nrscc_clusters_path)\r\n",
    "\r\n",
    "all_dupes = dupes.copy()\r\n",
    "for v in dupes.values():\r\n",
    "    all_dupes[v] = v\r\n",
    "\r\n",
    "def resolve_dupes(cond):\r\n",
    "    new_cond = []\r\n",
    "    for f in cond:\r\n",
    "        if f in all_dupes: \r\n",
    "            new_cond.append(all_dupes[f])\r\n",
    "        else:\r\n",
    "            new_cond.append(f)\r\n",
    "    return tuple(sorted(new_cond))\r\n",
    "\r\n",
    "nrscc_all = []\r\n",
    "for cluster in nrscc:\r\n",
    "    for cond in cluster:\r\n",
    "        nrscc_all.append(tuple(sorted(cond)))\r\n",
    "        \r\n",
    "clusters = {}\r\n",
    "for i in range(len(nrscc)):\r\n",
    "    cluster = nrscc[i]\r\n",
    "    for cond in cluster:\r\n",
    "        clusters.setdefault(resolve_dupes(cond), set()).add(i)\r\n",
    "\r\n",
    "linking_table = pd.read_pickle(pdb_commercial_linking_table_path)\r\n",
    "np_linking_table = linking_table.to_numpy()\r\n",
    "pdb_to_commercial = -1*np.ones(np.max(np_linking_table[:,1])+1, dtype=int)\r\n",
    "pdb_to_commercial[np_linking_table[:,1]] = np_linking_table[:,0]\r\n",
    "commercial_to_pdb = -1*np.ones(np.max(np_linking_table[:,0])+1, dtype=int)\r\n",
    "commercial_to_pdb[np_linking_table[:,0]] = np_linking_table[:,1]\r\n",
    "\r\n",
    "nrscc_filtered = []\r\n",
    "\r\n",
    "# Remove any conditions that are\r\n",
    "# -> only composed of a buffer\r\n",
    "# -> only one factor with concentration < 0.1 M\r\n",
    "# Also, filter by in DCCC\r\n",
    "for cond in nrscc_all:\r\n",
    "    if -1 in pdb_to_commercial[list(cond)]: # Note: doing this makes no difference, as expected :)\r\n",
    "        continue\r\n",
    "    if len(cond) == 1:\r\n",
    "        details = chems_pdb.iloc[cond[0]]\r\n",
    "        if details[\"buffer\"] == \"Buffer\" or details[\"molarity\"] <= 0.1:\r\n",
    "            continue\r\n",
    "    nrscc_filtered.append(cond)\r\n",
    "\r\n",
    "c = Counter(nrscc_filtered)\r\n",
    "nrscc_sorted = sorted(c, key=lambda x:c[x], reverse=True)"
   ]
  },
  {
   "cell_type": "code",
   "execution_count": 3,
   "metadata": {},
   "outputs": [
    {
     "name": "stdout",
     "output_type": "stream",
     "text": [
      "#conditions in nrscc = 79917\n",
      "   #factors in nrscc = 230672\n"
     ]
    }
   ],
   "source": [
    "num_conditions_in_nrscc = 0\n",
    "num_factors_in_nrscc = 0\n",
    "for cluster in nrscc:\n",
    "    for condition in cluster:\n",
    "        num_conditions_in_nrscc += 1\n",
    "        num_factors_in_nrscc += len(condition)\n",
    "\n",
    "print(f\"#conditions in nrscc = {num_conditions_in_nrscc}\")\n",
    "print(f\"   #factors in nrscc = {num_factors_in_nrscc}\")"
   ]
  },
  {
   "cell_type": "code",
   "execution_count": 4,
   "metadata": {},
   "outputs": [],
   "source": [
    "# number of conditions in NRSCC [x]\n",
    "# number of conditions in DCCC  [ ]\n",
    "# chemicals in NRSCC ranked     [x]\n",
    "# how many conditions in D-CCC map onto NR-SCC\n",
    "# how many conditions in NR-SCC map onto D-CCC"
   ]
  },
  {
   "cell_type": "code",
   "execution_count": 5,
   "metadata": {},
   "outputs": [
    {
     "name": "stdout",
     "output_type": "stream",
     "text": [
      "Number of conditions in NRSCC = 79917\n",
      "Number of clusters in NRSCC = 49250\n"
     ]
    }
   ],
   "source": [
    "print(f\"Number of conditions in NRSCC = {sum([len(x) for x in nrscc])}\")\n",
    "print(f\"Number of clusters in NRSCC = {len(nrscc)}\")"
   ]
  },
  {
   "cell_type": "code",
   "execution_count": 6,
   "metadata": {},
   "outputs": [],
   "source": [
    "nrscc_all = []\n",
    "for x in nrscc:\n",
    "    for y in x:\n",
    "        nrscc_all.extend(y)"
   ]
  },
  {
   "cell_type": "code",
   "execution_count": 7,
   "metadata": {},
   "outputs": [],
   "source": [
    "dccc_conds = set()\n",
    "for screen in dccc:\n",
    "    for condition in dccc[screen]:\n",
    "        dccc_conds.add(tuple(sorted(condition)))\n",
    "all_dccc_chems = []\n",
    "for cond in dccc_conds:\n",
    "    all_dccc_chems.extend(cond)"
   ]
  },
  {
   "cell_type": "code",
   "execution_count": 8,
   "metadata": {},
   "outputs": [
    {
     "data": {
      "text/plain": [
       "12484"
      ]
     },
     "execution_count": 8,
     "metadata": {},
     "output_type": "execute_result"
    }
   ],
   "source": [
    "len(dccc_conds)"
   ]
  },
  {
   "cell_type": "code",
   "execution_count": 9,
   "metadata": {},
   "outputs": [
    {
     "name": "stdout",
     "output_type": "stream",
     "text": [
      "\\begin{tabular}{lrlr}\n",
      "\\toprule\n",
      "                     NRSCC &  BufferCountNRSCC &                       DCCC &  BufferCountDCCC \\\\\n",
      "\\midrule\n",
      "             tris chloride &             11531 &               sodium hepes &             1438 \\\\\n",
      "              sodium hepes &             11307 &              tris chloride &             1390 \\\\\n",
      "                sodium mes &              6410 &                 sodium mes &             1007 \\\\\n",
      "            sodium acetate &              5704 &             sodium acetate &              951 \\\\\n",
      "         bis-tris chloride &              4467 &          trisodium citrate &              709 \\\\\n",
      "         trisodium citrate &              3962 &          sodium cacodylate &              483 \\\\\n",
      "         sodium cacodylate &              3141 &          bis-tris chloride &              328 \\\\\n",
      " bis-tris propane chloride &              1711 &  bis-tris propane chloride &              310 \\\\\n",
      "                 imidazole &              1205 &                  imidazole &              218 \\\\\n",
      "             sodium bicine &               779 &              sodium bicine &              188 \\\\\n",
      "\\bottomrule\n",
      "\\end{tabular}\n",
      "\n"
     ]
    }
   ],
   "source": [
    "t1 = chems_pdb.where(chems_pdb[\"buffer\"]==\"Buffer\")[\"name\"].iloc[nrscc_all].value_counts()[:10]\n",
    "t2 = chems_dccc.where(chems_dccc[\"buffer\"]==\"Buffer\")[\"name\"].iloc[all_dccc_chems].value_counts()[:10]\n",
    "table = pd.DataFrame()\n",
    "table[\"NRSCC\"] = t1.index\n",
    "table[\"BufferCountNRSCC\"] = t1.values\n",
    "table[\"DCCC\"] = t2.index\n",
    "table[\"BufferCountDCCC\"] = t2.values\n",
    "print(table.to_latex(index=False))"
   ]
  },
  {
   "cell_type": "code",
   "execution_count": 10,
   "metadata": {},
   "outputs": [
    {
     "name": "stdout",
     "output_type": "stream",
     "text": [
      "\\begin{tabular}{llrlrrrll}\n",
      "\\toprule\n",
      "{} &                   name &  conc & units &  ph &  percentage concentration &  molarity &                ions &     buffer \\\\\n",
      "\\midrule\n",
      "0 &  potassium thiocyanate &   0.1 &     m & NaN &                   0.09718 &       0.1 &  [(1, 21), (1, 14)] &  NotBuffer \\\\\n",
      "\\bottomrule\n",
      "\\end{tabular}\n",
      "\n"
     ]
    }
   ],
   "source": [
    "print(chems_pdb.iloc[:2:5].to_latex())"
   ]
  },
  {
   "cell_type": "code",
   "execution_count": 11,
   "metadata": {},
   "outputs": [
    {
     "name": "stdout",
     "output_type": "stream",
     "text": [
      "\\begin{tabular}{lrlr}\n",
      "\\toprule\n",
      "                    NRSCC &  NotBufferCountNRSCC &                      DCCC &  NotBufferCountDCCC \\\\\n",
      "\\midrule\n",
      " polyethylene glycol 3350 &                19320 &  polyethylene glycol 4000 &                1207 \\\\\n",
      "         ammonium sulfate &                14063 &           sodium chloride &                1199 \\\\\n",
      "          sodium chloride &                10124 &          ammonium sulfate &                1010 \\\\\n",
      " polyethylene glycol 4000 &                 9692 &   polyethylene glycol 400 &                 935 \\\\\n",
      " polyethylene glycol 8000 &                 7424 &        magnesium chloride &                 789 \\\\\n",
      "       magnesium chloride &                 7305 &  polyethylene glycol 3350 &                 783 \\\\\n",
      "                 glycerol &                 6320 &  polyethylene glycol 8000 &                 755 \\\\\n",
      "          lithium sulfate &                 4217 &  2-methyl-2,4-pentanediol &                 738 \\\\\n",
      "  polyethylene glycol 400 &                 4151 &                  glycerol &                 587 \\\\\n",
      " polyethylene glycol 6000 &                 3769 &           lithium sulfate &                 546 \\\\\n",
      "\\bottomrule\n",
      "\\end{tabular}\n",
      "\n"
     ]
    }
   ],
   "source": [
    "t1 = chems_pdb.where(chems_pdb[\"buffer\"]==\"NotBuffer\")[\"name\"].iloc[nrscc_all].value_counts()[:10]\n",
    "t2 = chems_dccc.where(chems_dccc[\"buffer\"]==\"NotBuffer\")[\"name\"].iloc[all_dccc_chems].value_counts()[:10]\n",
    "table = pd.DataFrame()\n",
    "table[\"NRSCC\"] = t1.index\n",
    "table[\"NotBufferCountNRSCC\"] = t1.values\n",
    "table[\"DCCC\"] = t2.index\n",
    "table[\"NotBufferCountDCCC\"] = t2.values\n",
    "print(table.to_latex(index=False))"
   ]
  },
  {
   "cell_type": "code",
   "execution_count": 12,
   "metadata": {},
   "outputs": [],
   "source": [
    "# percent of conditions vs number of factors\n",
    "counts_nrscc = {}\n",
    "for cluster in nrscc:\n",
    "    for condition in cluster:\n",
    "        counts_nrscc[len(condition)] = counts_nrscc.setdefault(len(condition), 0) + 1\n",
    "counts_dccc = {}\n",
    "for condition in dccc_conds:\n",
    "    counts_dccc[len(condition)] = counts_dccc.setdefault(len(condition), 0) + 1"
   ]
  },
  {
   "cell_type": "code",
   "execution_count": 13,
   "metadata": {},
   "outputs": [],
   "source": [
    "def linewidth_from_data_units(linewidth, axis, reference='y'):\n",
    "    \"\"\"\n",
    "    Convert a linewidth in data units to linewidth in points.\n",
    "\n",
    "    Parameters\n",
    "    ----------\n",
    "    linewidth: float\n",
    "        Linewidth in data units of the respective reference-axis\n",
    "    axis: matplotlib axis\n",
    "        The axis which is used to extract the relevant transformation\n",
    "        data (data limits and size must not change afterwards)\n",
    "    reference: string\n",
    "        The axis that is taken as a reference for the data width.\n",
    "        Possible values: 'x' and 'y'. Defaults to 'y'.\n",
    "\n",
    "    Returns\n",
    "    -------\n",
    "    linewidth: float\n",
    "        Linewidth in points\n",
    "    \"\"\"\n",
    "    fig = axis.get_figure()\n",
    "    if reference == 'x':\n",
    "        length = fig.bbox_inches.width * axis.get_position().width\n",
    "        value_range = np.diff(axis.get_xlim())\n",
    "    elif reference == 'y':\n",
    "        length = fig.bbox_inches.height * axis.get_position().height\n",
    "        value_range = np.diff(axis.get_ylim())\n",
    "    # Convert length to points\n",
    "    length *= 72\n",
    "    # Scale linewidth to value range\n",
    "    return linewidth * (length / value_range)"
   ]
  },
  {
   "cell_type": "code",
   "execution_count": 14,
   "metadata": {},
   "outputs": [
    {
     "data": {
      "text/plain": [
       "{3: 31495,\n",
       " 2: 26116,\n",
       " 1: 6116,\n",
       " 4: 9816,\n",
       " 5: 3125,\n",
       " 6: 1567,\n",
       " 7: 829,\n",
       " 8: 437,\n",
       " 11: 53,\n",
       " 10: 110,\n",
       " 12: 25,\n",
       " 9: 191,\n",
       " 21: 2,\n",
       " 13: 15,\n",
       " 14: 7,\n",
       " 16: 3,\n",
       " 17: 3,\n",
       " 15: 5,\n",
       " 18: 1,\n",
       " 20: 1}"
      ]
     },
     "execution_count": 14,
     "metadata": {},
     "output_type": "execute_result"
    }
   ],
   "source": [
    "counts_nrscc"
   ]
  },
  {
   "cell_type": "code",
   "execution_count": 15,
   "metadata": {},
   "outputs": [
    {
     "name": "stdout",
     "output_type": "stream",
     "text": [
      "[10.97704918]\n"
     ]
    },
    {
     "name": "stderr",
     "output_type": "stream",
     "text": [
      "findfont: Font family ['serif'] not found. Falling back to DejaVu Sans.\n"
     ]
    },
    {
     "data": {
      "image/png": "[encoded data removed]",
      "text/plain": [
       "<Figure size 432x288 with 1 Axes>"
      ]
     },
     "metadata": {
      "needs_background": "light"
     },
     "output_type": "display_data"
    }
   ],
   "source": [
    "nrscc_vals = np.asarray(list(counts_nrscc.values()))\r\n",
    "dccc_vals = np.asarray(list(counts_dccc.values()))\r\n",
    "fig, ax = plt.subplots()\r\n",
    "plt.xlim(-0.1, 12.1)\r\n",
    "lw = linewidth_from_data_units(0.4, ax, reference='x')\r\n",
    "print(lw)\r\n",
    "plt.vlines(np.asarray(list(counts_dccc.keys()))-0.2, 0, 100*dccc_vals/np.sum(dccc_vals), color='tab:blue', linewidth=lw, label=\"D-CCC\")\r\n",
    "plt.vlines(np.asarray(list(counts_nrscc.keys()))+0.2, 0, 100*nrscc_vals/np.sum(nrscc_vals), color='tab:orange', linewidth=lw, label=\"NR-SCC\")\r\n",
    "plt.xticks(np.arange(1, 12), np.arange(1, 12))\r\n",
    "plt.ylim(0, 40)\r\n",
    "plt.ylabel(\"Percent of conditions\")\r\n",
    "plt.xlabel(\"No. of factors\")\r\n",
    "plt.legend()\r\n",
    "plt.savefig(\"generated/histfactors.pdf\", dpi=90)\r\n",
    "plt.show()"
   ]
  },
  {
   "cell_type": "code",
   "execution_count": 16,
   "metadata": {},
   "outputs": [
    {
     "name": "stdout",
     "output_type": "stream",
     "text": [
      "[10.14545455]\n"
     ]
    },
    {
     "data": {
      "image/png": "[encoded data removed]",
      "text/plain": [
       "<Figure size 432x288 with 1 Axes>"
      ]
     },
     "metadata": {
      "needs_background": "light"
     },
     "output_type": "display_data"
    }
   ],
   "source": [
    "ph_nrscc = chems_pdb.iloc[nrscc_all].ph.dropna().values\r\n",
    "ph_dccc = chems_dccc.iloc[all_dccc_chems].ph.dropna().values\r\n",
    "ph_nrscc, counts_nrscc = np.unique(np.round(ph_nrscc[ph_nrscc < 14]), return_counts=True)\r\n",
    "ph_dccc, counts_dccc = np.unique(np.round(ph_dccc[ph_dccc < 14]), return_counts=True)\r\n",
    "fig, ax = plt.subplots()\r\n",
    "plt.xlim(-0.1, 13.1)\r\n",
    "lw = linewidth_from_data_units(0.4, ax, reference='x')\r\n",
    "print(lw)\r\n",
    "plt.vlines(ph_dccc-0.2, 0, 100*counts_dccc/np.sum(counts_dccc), linewidth=lw, color=\"tab:blue\", label=\"D-CCC\")\r\n",
    "plt.vlines(ph_nrscc+0.2, 0, 100*counts_nrscc/np.sum(counts_nrscc), linewidth=lw, color=\"tab:orange\", label=\"NR-SCC\")\r\n",
    "plt.legend()\r\n",
    "plt.xlabel(\"pH bin\")\r\n",
    "plt.ylabel(\"Percent of conditions\")\r\n",
    "plt.xticks(np.arange(13), np.arange(13))\r\n",
    "plt.savefig(\"generated/pHhist.pdf\", dpi=90)\r\n",
    "plt.show()"
   ]
  },
  {
   "cell_type": "code",
   "execution_count": 17,
   "metadata": {},
   "outputs": [],
   "source": [
    "# Load screens\n",
    "sgD = {}\n",
    "for i in range(1, 6):\n",
    "    sgD[f\"0.{i}\"] = np.load(f\"generated/screen/Shotgun_II_Greedy_0.{i}.npy\", allow_pickle=True)\n",
    "sgGreedy = np.load(\"generated/screen/Shotgun_II_Greedy.npy\", allow_pickle=True)"
   ]
  },
  {
   "cell_type": "code",
   "execution_count": 18,
   "metadata": {},
   "outputs": [],
   "source": [
    "def ranks(screen):\n",
    "    out = []\n",
    "    for cond in screen:\n",
    "        out.append(len(set(clusters[cond])))\n",
    "    return out"
   ]
  },
  {
   "cell_type": "code",
   "execution_count": 19,
   "metadata": {},
   "outputs": [
    {
     "data": {
      "text/plain": [
       "28"
      ]
     },
     "execution_count": 19,
     "metadata": {},
     "output_type": "execute_result"
    }
   ],
   "source": [
    "sorted(ranks(sgD['0.2']), reverse=True)[-1]"
   ]
  },
  {
   "cell_type": "code",
   "execution_count": 27,
   "metadata": {},
   "outputs": [
    {
     "data": {
      "image/png": "[encoded data removed]",
      "text/plain": [
       "<Figure size 432x288 with 1 Axes>"
      ]
     },
     "metadata": {
      "needs_background": "light"
     },
     "output_type": "display_data"
    }
   ],
   "source": [
    "fig, ax = plt.subplots()\r\n",
    "plt.vlines(range(96), 0, sorted(ranks(sgGreedy), reverse=True), colors=\"tab:orange\")\r\n",
    "plt.vlines(range(96), 0, sorted(ranks(sgD['0.2']), reverse=True), colors=\"tab:blue\")\r\n",
    "plt.xlabel(\"Wells (sorted by condition count)\", fontsize=15)\r\n",
    "plt.xticks(np.arange(0, 97, 5), 1+np.arange(0, 97, 5))\r\n",
    "plt.ylabel(\"Condition count in NRSCC\", fontsize=15)\r\n",
    "plt.title(\"Shotgun II\", fontsize=15)\r\n",
    "plt.legend([\"Diversity threshold = 0\", \"Diversity threshold = 0.2\"])\r\n",
    "plt.savefig(\"generated/screen/SGII.pdf\", transparent=False, dpi=90)"
   ]
  },
  {
   "cell_type": "code",
   "execution_count": 8,
   "metadata": {},
   "outputs": [
    {
     "name": "stdout",
     "output_type": "stream",
     "text": [
      "24303\n"
     ]
    }
   ],
   "source": [
    "# Number of wells in the commercial screens\n",
    "numWells = 0\n",
    "for dirpath, dirnames, filenames in os.walk(commercial_screens_folder):\n",
    "    for filename in [f for f in filenames if f.endswith(\".xml\")]:\n",
    "        tree = ET.parse(os.path.join(dirpath, filename))\n",
    "        root = tree.getroot()\n",
    "        numWells += len(list(root.iter(\"well\")))\n",
    "print(numWells)"
   ]
  },
  {
   "cell_type": "code",
   "execution_count": 9,
   "metadata": {},
   "outputs": [
    {
     "name": "stdout",
     "output_type": "stream",
     "text": [
      "347\n"
     ]
    }
   ],
   "source": [
    "# Total number of commercial screens\n",
    "numScreens=0\n",
    "for dirpath, dirnames, filenames in os.walk(commercial_screens_folder):\n",
    "    for fname in filenames:\n",
    "        numScreens += 1\n",
    "print(numScreens)"
   ]
  },
  {
   "cell_type": "code",
   "execution_count": 10,
   "metadata": {},
   "outputs": [
    {
     "data": {
      "text/plain": [
       "tris chloride                11531\n",
       "sodium hepes                 11307\n",
       "sodium mes                    6410\n",
       "sodium acetate                5704\n",
       "bis-tris chloride             4467\n",
       "trisodium citrate             3962\n",
       "sodium cacodylate             3141\n",
       "bis-tris propane chloride     1711\n",
       "imidazole                     1205\n",
       "sodium bicine                  779\n",
       "Name: name, dtype: int64"
      ]
     },
     "execution_count": 10,
     "metadata": {},
     "output_type": "execute_result"
    }
   ],
   "source": [
    "chems_pdb.where(chems_pdb[\"buffer\"]==\"Buffer\")[\"name\"].iloc[nrscc_all].value_counts()[:10]"
   ]
  },
  {
   "cell_type": "code",
   "execution_count": 11,
   "metadata": {},
   "outputs": [
    {
     "data": {
      "text/html": [
       "<div>\n",
       "<style scoped>\n",
       "    .dataframe tbody tr th:only-of-type {\n",
       "        vertical-align: middle;\n",
       "    }\n",
       "\n",
       "    .dataframe tbody tr th {\n",
       "        vertical-align: top;\n",
       "    }\n",
       "\n",
       "    .dataframe thead th {\n",
       "        text-align: right;\n",
       "    }\n",
       "</style>\n",
       "<table border=\"1\" class=\"dataframe\">\n",
       "  <thead>\n",
       "    <tr style=\"text-align: right;\">\n",
       "      <th></th>\n",
       "      <th>name</th>\n",
       "      <th>conc</th>\n",
       "      <th>units</th>\n",
       "      <th>ph</th>\n",
       "      <th>percentage concentration</th>\n",
       "      <th>molarity</th>\n",
       "      <th>ions</th>\n",
       "      <th>buffer</th>\n",
       "    </tr>\n",
       "  </thead>\n",
       "  <tbody>\n",
       "    <tr>\n",
       "      <th>10</th>\n",
       "      <td>sodium acetate</td>\n",
       "      <td>0.100</td>\n",
       "      <td>m</td>\n",
       "      <td>5.00</td>\n",
       "      <td>0.082020</td>\n",
       "      <td>0.100</td>\n",
       "      <td>[(1, 57), (1, 25)]</td>\n",
       "      <td>Buffer</td>\n",
       "    </tr>\n",
       "    <tr>\n",
       "      <th>106</th>\n",
       "      <td>sodium acetate</td>\n",
       "      <td>0.050</td>\n",
       "      <td>m</td>\n",
       "      <td>4.00</td>\n",
       "      <td>0.041010</td>\n",
       "      <td>0.050</td>\n",
       "      <td>[(1, 57), (1, 25)]</td>\n",
       "      <td>Buffer</td>\n",
       "    </tr>\n",
       "    <tr>\n",
       "      <th>167</th>\n",
       "      <td>sodium acetate</td>\n",
       "      <td>0.100</td>\n",
       "      <td>m</td>\n",
       "      <td>4.00</td>\n",
       "      <td>0.082020</td>\n",
       "      <td>0.100</td>\n",
       "      <td>[(1, 57), (1, 25)]</td>\n",
       "      <td>Buffer</td>\n",
       "    </tr>\n",
       "    <tr>\n",
       "      <th>169</th>\n",
       "      <td>sodium acetate</td>\n",
       "      <td>0.100</td>\n",
       "      <td>m</td>\n",
       "      <td>4.20</td>\n",
       "      <td>0.082020</td>\n",
       "      <td>0.100</td>\n",
       "      <td>[(1, 57), (1, 25)]</td>\n",
       "      <td>Buffer</td>\n",
       "    </tr>\n",
       "    <tr>\n",
       "      <th>187</th>\n",
       "      <td>sodium acetate</td>\n",
       "      <td>0.100</td>\n",
       "      <td>m</td>\n",
       "      <td>5.50</td>\n",
       "      <td>0.082020</td>\n",
       "      <td>0.100</td>\n",
       "      <td>[(1, 57), (1, 25)]</td>\n",
       "      <td>Buffer</td>\n",
       "    </tr>\n",
       "    <tr>\n",
       "      <th>...</th>\n",
       "      <td>...</td>\n",
       "      <td>...</td>\n",
       "      <td>...</td>\n",
       "      <td>...</td>\n",
       "      <td>...</td>\n",
       "      <td>...</td>\n",
       "      <td>...</td>\n",
       "      <td>...</td>\n",
       "    </tr>\n",
       "    <tr>\n",
       "      <th>22747</th>\n",
       "      <td>sodium acetate</td>\n",
       "      <td>0.085</td>\n",
       "      <td>m</td>\n",
       "      <td>5.00</td>\n",
       "      <td>0.069717</td>\n",
       "      <td>0.085</td>\n",
       "      <td>[(1, 57), (1, 25)]</td>\n",
       "      <td>Buffer</td>\n",
       "    </tr>\n",
       "    <tr>\n",
       "      <th>22799</th>\n",
       "      <td>sodium acetate</td>\n",
       "      <td>0.100</td>\n",
       "      <td>m</td>\n",
       "      <td>4.63</td>\n",
       "      <td>0.082020</td>\n",
       "      <td>0.100</td>\n",
       "      <td>[(1, 57), (1, 25)]</td>\n",
       "      <td>Buffer</td>\n",
       "    </tr>\n",
       "    <tr>\n",
       "      <th>22861</th>\n",
       "      <td>sodium acetate</td>\n",
       "      <td>0.010</td>\n",
       "      <td>m</td>\n",
       "      <td>4.20</td>\n",
       "      <td>0.008202</td>\n",
       "      <td>0.010</td>\n",
       "      <td>[(1, 57), (1, 25)]</td>\n",
       "      <td>Buffer</td>\n",
       "    </tr>\n",
       "    <tr>\n",
       "      <th>23004</th>\n",
       "      <td>sodium acetate</td>\n",
       "      <td>0.060</td>\n",
       "      <td>m</td>\n",
       "      <td>5.60</td>\n",
       "      <td>0.049212</td>\n",
       "      <td>0.060</td>\n",
       "      <td>[(1, 57), (1, 25)]</td>\n",
       "      <td>Buffer</td>\n",
       "    </tr>\n",
       "    <tr>\n",
       "      <th>23010</th>\n",
       "      <td>sodium acetate</td>\n",
       "      <td>0.025</td>\n",
       "      <td>m</td>\n",
       "      <td>4.57</td>\n",
       "      <td>0.020505</td>\n",
       "      <td>0.025</td>\n",
       "      <td>[(1, 57), (1, 25)]</td>\n",
       "      <td>Buffer</td>\n",
       "    </tr>\n",
       "  </tbody>\n",
       "</table>\n",
       "<p>272 rows × 8 columns</p>\n",
       "</div>"
      ],
      "text/plain": [
       "                 name   conc units    ph  percentage concentration  molarity  \\\n",
       "10     sodium acetate  0.100     m  5.00                  0.082020     0.100   \n",
       "106    sodium acetate  0.050     m  4.00                  0.041010     0.050   \n",
       "167    sodium acetate  0.100     m  4.00                  0.082020     0.100   \n",
       "169    sodium acetate  0.100     m  4.20                  0.082020     0.100   \n",
       "187    sodium acetate  0.100     m  5.50                  0.082020     0.100   \n",
       "...               ...    ...   ...   ...                       ...       ...   \n",
       "22747  sodium acetate  0.085     m  5.00                  0.069717     0.085   \n",
       "22799  sodium acetate  0.100     m  4.63                  0.082020     0.100   \n",
       "22861  sodium acetate  0.010     m  4.20                  0.008202     0.010   \n",
       "23004  sodium acetate  0.060     m  5.60                  0.049212     0.060   \n",
       "23010  sodium acetate  0.025     m  4.57                  0.020505     0.025   \n",
       "\n",
       "                     ions  buffer  \n",
       "10     [(1, 57), (1, 25)]  Buffer  \n",
       "106    [(1, 57), (1, 25)]  Buffer  \n",
       "167    [(1, 57), (1, 25)]  Buffer  \n",
       "169    [(1, 57), (1, 25)]  Buffer  \n",
       "187    [(1, 57), (1, 25)]  Buffer  \n",
       "...                   ...     ...  \n",
       "22747  [(1, 57), (1, 25)]  Buffer  \n",
       "22799  [(1, 57), (1, 25)]  Buffer  \n",
       "22861  [(1, 57), (1, 25)]  Buffer  \n",
       "23004  [(1, 57), (1, 25)]  Buffer  \n",
       "23010  [(1, 57), (1, 25)]  Buffer  \n",
       "\n",
       "[272 rows x 8 columns]"
      ]
     },
     "execution_count": 11,
     "metadata": {},
     "output_type": "execute_result"
    }
   ],
   "source": [
    "chems_pdb[(chems_pdb[\"buffer\"]==\"Buffer\") & (chems_pdb[\"name\"]==\"sodium acetate\")]"
   ]
  },
  {
   "cell_type": "code",
   "execution_count": 12,
   "metadata": {},
   "outputs": [
    {
     "data": {
      "text/html": [
       "<div>\n",
       "<style scoped>\n",
       "    .dataframe tbody tr th:only-of-type {\n",
       "        vertical-align: middle;\n",
       "    }\n",
       "\n",
       "    .dataframe tbody tr th {\n",
       "        vertical-align: top;\n",
       "    }\n",
       "\n",
       "    .dataframe thead th {\n",
       "        text-align: right;\n",
       "    }\n",
       "</style>\n",
       "<table border=\"1\" class=\"dataframe\">\n",
       "  <thead>\n",
       "    <tr style=\"text-align: right;\">\n",
       "      <th></th>\n",
       "      <th>name</th>\n",
       "      <th>conc</th>\n",
       "      <th>units</th>\n",
       "      <th>ph</th>\n",
       "      <th>percentage concentration</th>\n",
       "      <th>molarity</th>\n",
       "      <th>ions</th>\n",
       "      <th>buffer</th>\n",
       "    </tr>\n",
       "  </thead>\n",
       "  <tbody>\n",
       "    <tr>\n",
       "      <th>10</th>\n",
       "      <td>sodium acetate</td>\n",
       "      <td>0.100</td>\n",
       "      <td>m</td>\n",
       "      <td>5.00</td>\n",
       "      <td>0.082020</td>\n",
       "      <td>0.100</td>\n",
       "      <td>[(1, 57), (1, 25)]</td>\n",
       "      <td>Buffer</td>\n",
       "    </tr>\n",
       "    <tr>\n",
       "      <th>100</th>\n",
       "      <td>sodium acetate</td>\n",
       "      <td>0.200</td>\n",
       "      <td>m</td>\n",
       "      <td>NaN</td>\n",
       "      <td>0.164040</td>\n",
       "      <td>0.200</td>\n",
       "      <td>[(1, 57), (1, 25)]</td>\n",
       "      <td>NotBuffer</td>\n",
       "    </tr>\n",
       "    <tr>\n",
       "      <th>106</th>\n",
       "      <td>sodium acetate</td>\n",
       "      <td>0.050</td>\n",
       "      <td>m</td>\n",
       "      <td>4.00</td>\n",
       "      <td>0.041010</td>\n",
       "      <td>0.050</td>\n",
       "      <td>[(1, 57), (1, 25)]</td>\n",
       "      <td>Buffer</td>\n",
       "    </tr>\n",
       "    <tr>\n",
       "      <th>165</th>\n",
       "      <td>sodium acetate</td>\n",
       "      <td>1.600</td>\n",
       "      <td>m</td>\n",
       "      <td>NaN</td>\n",
       "      <td>1.312320</td>\n",
       "      <td>1.600</td>\n",
       "      <td>[(1, 57), (1, 25)]</td>\n",
       "      <td>NotBuffer</td>\n",
       "    </tr>\n",
       "    <tr>\n",
       "      <th>167</th>\n",
       "      <td>sodium acetate</td>\n",
       "      <td>0.100</td>\n",
       "      <td>m</td>\n",
       "      <td>4.00</td>\n",
       "      <td>0.082020</td>\n",
       "      <td>0.100</td>\n",
       "      <td>[(1, 57), (1, 25)]</td>\n",
       "      <td>Buffer</td>\n",
       "    </tr>\n",
       "    <tr>\n",
       "      <th>...</th>\n",
       "      <td>...</td>\n",
       "      <td>...</td>\n",
       "      <td>...</td>\n",
       "      <td>...</td>\n",
       "      <td>...</td>\n",
       "      <td>...</td>\n",
       "      <td>...</td>\n",
       "      <td>...</td>\n",
       "    </tr>\n",
       "    <tr>\n",
       "      <th>22799</th>\n",
       "      <td>sodium acetate</td>\n",
       "      <td>0.100</td>\n",
       "      <td>m</td>\n",
       "      <td>4.63</td>\n",
       "      <td>0.082020</td>\n",
       "      <td>0.100</td>\n",
       "      <td>[(1, 57), (1, 25)]</td>\n",
       "      <td>Buffer</td>\n",
       "    </tr>\n",
       "    <tr>\n",
       "      <th>22861</th>\n",
       "      <td>sodium acetate</td>\n",
       "      <td>0.010</td>\n",
       "      <td>m</td>\n",
       "      <td>4.20</td>\n",
       "      <td>0.008202</td>\n",
       "      <td>0.010</td>\n",
       "      <td>[(1, 57), (1, 25)]</td>\n",
       "      <td>Buffer</td>\n",
       "    </tr>\n",
       "    <tr>\n",
       "      <th>22891</th>\n",
       "      <td>sodium acetate</td>\n",
       "      <td>2.700</td>\n",
       "      <td>m</td>\n",
       "      <td>7.20</td>\n",
       "      <td>2.214540</td>\n",
       "      <td>2.700</td>\n",
       "      <td>[(1, 57), (1, 25)]</td>\n",
       "      <td>NotBuffer</td>\n",
       "    </tr>\n",
       "    <tr>\n",
       "      <th>23004</th>\n",
       "      <td>sodium acetate</td>\n",
       "      <td>0.060</td>\n",
       "      <td>m</td>\n",
       "      <td>5.60</td>\n",
       "      <td>0.049212</td>\n",
       "      <td>0.060</td>\n",
       "      <td>[(1, 57), (1, 25)]</td>\n",
       "      <td>Buffer</td>\n",
       "    </tr>\n",
       "    <tr>\n",
       "      <th>23010</th>\n",
       "      <td>sodium acetate</td>\n",
       "      <td>0.025</td>\n",
       "      <td>m</td>\n",
       "      <td>4.57</td>\n",
       "      <td>0.020505</td>\n",
       "      <td>0.025</td>\n",
       "      <td>[(1, 57), (1, 25)]</td>\n",
       "      <td>Buffer</td>\n",
       "    </tr>\n",
       "  </tbody>\n",
       "</table>\n",
       "<p>548 rows × 8 columns</p>\n",
       "</div>"
      ],
      "text/plain": [
       "                 name   conc units    ph  percentage concentration  molarity  \\\n",
       "10     sodium acetate  0.100     m  5.00                  0.082020     0.100   \n",
       "100    sodium acetate  0.200     m   NaN                  0.164040     0.200   \n",
       "106    sodium acetate  0.050     m  4.00                  0.041010     0.050   \n",
       "165    sodium acetate  1.600     m   NaN                  1.312320     1.600   \n",
       "167    sodium acetate  0.100     m  4.00                  0.082020     0.100   \n",
       "...               ...    ...   ...   ...                       ...       ...   \n",
       "22799  sodium acetate  0.100     m  4.63                  0.082020     0.100   \n",
       "22861  sodium acetate  0.010     m  4.20                  0.008202     0.010   \n",
       "22891  sodium acetate  2.700     m  7.20                  2.214540     2.700   \n",
       "23004  sodium acetate  0.060     m  5.60                  0.049212     0.060   \n",
       "23010  sodium acetate  0.025     m  4.57                  0.020505     0.025   \n",
       "\n",
       "                     ions     buffer  \n",
       "10     [(1, 57), (1, 25)]     Buffer  \n",
       "100    [(1, 57), (1, 25)]  NotBuffer  \n",
       "106    [(1, 57), (1, 25)]     Buffer  \n",
       "165    [(1, 57), (1, 25)]  NotBuffer  \n",
       "167    [(1, 57), (1, 25)]     Buffer  \n",
       "...                   ...        ...  \n",
       "22799  [(1, 57), (1, 25)]     Buffer  \n",
       "22861  [(1, 57), (1, 25)]     Buffer  \n",
       "22891  [(1, 57), (1, 25)]  NotBuffer  \n",
       "23004  [(1, 57), (1, 25)]     Buffer  \n",
       "23010  [(1, 57), (1, 25)]     Buffer  \n",
       "\n",
       "[548 rows x 8 columns]"
      ]
     },
     "execution_count": 12,
     "metadata": {},
     "output_type": "execute_result"
    }
   ],
   "source": [
    "chems_pdb[chems_pdb[\"name\"]==\"sodium acetate\"]"
   ]
  },
  {
   "cell_type": "code",
   "execution_count": 13,
   "metadata": {},
   "outputs": [],
   "source": [
    "pkas_table = pd.read_pickle(chems_info_table_path)"
   ]
  },
  {
   "cell_type": "code",
   "execution_count": 14,
   "metadata": {},
   "outputs": [
    {
     "data": {
      "text/html": [
       "<div>\n",
       "<style scoped>\n",
       "    .dataframe tbody tr th:only-of-type {\n",
       "        vertical-align: middle;\n",
       "    }\n",
       "\n",
       "    .dataframe tbody tr th {\n",
       "        vertical-align: top;\n",
       "    }\n",
       "\n",
       "    .dataframe thead th {\n",
       "        text-align: right;\n",
       "    }\n",
       "</style>\n",
       "<table border=\"1\" class=\"dataframe\">\n",
       "  <thead>\n",
       "    <tr style=\"text-align: right;\">\n",
       "      <th></th>\n",
       "      <th>name</th>\n",
       "      <th>pka1</th>\n",
       "      <th>pka2</th>\n",
       "      <th>pka3</th>\n",
       "      <th>mw</th>\n",
       "      <th>solubility</th>\n",
       "      <th>density</th>\n",
       "    </tr>\n",
       "  </thead>\n",
       "  <tbody>\n",
       "    <tr>\n",
       "      <th>886</th>\n",
       "      <td>sodium acetate</td>\n",
       "      <td>4.76</td>\n",
       "      <td>None</td>\n",
       "      <td>None</td>\n",
       "      <td>82.03</td>\n",
       "      <td>46.5</td>\n",
       "      <td>None</td>\n",
       "    </tr>\n",
       "  </tbody>\n",
       "</table>\n",
       "</div>"
      ],
      "text/plain": [
       "               name  pka1  pka2  pka3     mw solubility density\n",
       "886  sodium acetate  4.76  None  None  82.03       46.5    None"
      ]
     },
     "execution_count": 14,
     "metadata": {},
     "output_type": "execute_result"
    }
   ],
   "source": [
    "pkas_table[pkas_table[\"name\"]==\"sodium acetate\"]"
   ]
  },
  {
   "cell_type": "code",
   "execution_count": 15,
   "metadata": {},
   "outputs": [],
   "source": [
    "_buffer_class = \"NotBuffer\"\n",
    "pkas = pkas_table[pkas_table[\"name\"] == \"sodium acetate\"]\n",
    "for pka in [\"pka1\", \"pka2\", \"pka3\"]:\n",
    "    if pd.notna(pkas[pka]).all():\n",
    "        if abs(pkas[pka]-5).all() < 1:\n",
    "            _buffer_class = \"Buffer\""
   ]
  },
  {
   "cell_type": "code",
   "execution_count": 16,
   "metadata": {},
   "outputs": [
    {
     "data": {
      "text/plain": [
       "'Buffer'"
      ]
     },
     "execution_count": 16,
     "metadata": {},
     "output_type": "execute_result"
    }
   ],
   "source": [
    "_buffer_class"
   ]
  },
  {
   "cell_type": "code",
   "execution_count": 17,
   "metadata": {},
   "outputs": [
    {
     "data": {
      "text/plain": [
       "True"
      ]
     },
     "execution_count": 17,
     "metadata": {},
     "output_type": "execute_result"
    }
   ],
   "source": [
    "abs(pkas[pka]-5).all()"
   ]
  },
  {
   "cell_type": "code",
   "execution_count": 18,
   "metadata": {},
   "outputs": [
    {
     "data": {
      "text/plain": [
       "name                            sodium acetate\n",
       "conc                                       0.1\n",
       "units                                        m\n",
       "ph                                           5\n",
       "percentage concentration               0.08202\n",
       "molarity                                   0.1\n",
       "ions                        [(1, 57), (1, 25)]\n",
       "buffer                                  Buffer\n",
       "Name: 10, dtype: object"
      ]
     },
     "execution_count": 18,
     "metadata": {},
     "output_type": "execute_result"
    }
   ],
   "source": [
    "chems_pdb.iloc[10]"
   ]
  },
  {
   "cell_type": "code",
   "execution_count": 19,
   "metadata": {},
   "outputs": [
    {
     "data": {
      "text/html": [
       "<div>\n",
       "<style scoped>\n",
       "    .dataframe tbody tr th:only-of-type {\n",
       "        vertical-align: middle;\n",
       "    }\n",
       "\n",
       "    .dataframe tbody tr th {\n",
       "        vertical-align: top;\n",
       "    }\n",
       "\n",
       "    .dataframe thead th {\n",
       "        text-align: right;\n",
       "    }\n",
       "</style>\n",
       "<table border=\"1\" class=\"dataframe\">\n",
       "  <thead>\n",
       "    <tr style=\"text-align: right;\">\n",
       "      <th></th>\n",
       "      <th>name</th>\n",
       "      <th>conc</th>\n",
       "      <th>units</th>\n",
       "      <th>ph</th>\n",
       "      <th>percentage concentration</th>\n",
       "      <th>molarity</th>\n",
       "      <th>ions</th>\n",
       "      <th>buffer</th>\n",
       "    </tr>\n",
       "  </thead>\n",
       "  <tbody>\n",
       "    <tr>\n",
       "      <th>23</th>\n",
       "      <td>trisodium citrate</td>\n",
       "      <td>0.100</td>\n",
       "      <td>m</td>\n",
       "      <td>5.4</td>\n",
       "      <td>0.258060</td>\n",
       "      <td>0.100</td>\n",
       "      <td>[(3, 57), (1, 46)]</td>\n",
       "      <td>Buffer</td>\n",
       "    </tr>\n",
       "    <tr>\n",
       "      <th>50</th>\n",
       "      <td>trisodium citrate</td>\n",
       "      <td>0.100</td>\n",
       "      <td>m</td>\n",
       "      <td>NaN</td>\n",
       "      <td>0.258060</td>\n",
       "      <td>0.100</td>\n",
       "      <td>[(3, 57), (1, 46)]</td>\n",
       "      <td>NotBuffer</td>\n",
       "    </tr>\n",
       "    <tr>\n",
       "      <th>61</th>\n",
       "      <td>trisodium citrate</td>\n",
       "      <td>0.010</td>\n",
       "      <td>m</td>\n",
       "      <td>NaN</td>\n",
       "      <td>0.025806</td>\n",
       "      <td>0.010</td>\n",
       "      <td>[(3, 57), (1, 46)]</td>\n",
       "      <td>NotBuffer</td>\n",
       "    </tr>\n",
       "    <tr>\n",
       "      <th>63</th>\n",
       "      <td>trisodium citrate</td>\n",
       "      <td>0.100</td>\n",
       "      <td>m</td>\n",
       "      <td>5.6</td>\n",
       "      <td>0.258060</td>\n",
       "      <td>0.100</td>\n",
       "      <td>[(3, 57), (1, 46)]</td>\n",
       "      <td>Buffer</td>\n",
       "    </tr>\n",
       "    <tr>\n",
       "      <th>71</th>\n",
       "      <td>trisodium citrate</td>\n",
       "      <td>0.100</td>\n",
       "      <td>m</td>\n",
       "      <td>5.5</td>\n",
       "      <td>0.258060</td>\n",
       "      <td>0.100</td>\n",
       "      <td>[(3, 57), (1, 46)]</td>\n",
       "      <td>Buffer</td>\n",
       "    </tr>\n",
       "    <tr>\n",
       "      <th>...</th>\n",
       "      <td>...</td>\n",
       "      <td>...</td>\n",
       "      <td>...</td>\n",
       "      <td>...</td>\n",
       "      <td>...</td>\n",
       "      <td>...</td>\n",
       "      <td>...</td>\n",
       "      <td>...</td>\n",
       "    </tr>\n",
       "    <tr>\n",
       "      <th>22958</th>\n",
       "      <td>trisodium citrate</td>\n",
       "      <td>0.033</td>\n",
       "      <td>m</td>\n",
       "      <td>5.6</td>\n",
       "      <td>0.085160</td>\n",
       "      <td>0.033</td>\n",
       "      <td>[(3, 57), (1, 46)]</td>\n",
       "      <td>Buffer</td>\n",
       "    </tr>\n",
       "    <tr>\n",
       "      <th>22972</th>\n",
       "      <td>trisodium citrate</td>\n",
       "      <td>0.092</td>\n",
       "      <td>m</td>\n",
       "      <td>2.2</td>\n",
       "      <td>0.237415</td>\n",
       "      <td>0.092</td>\n",
       "      <td>[(3, 57), (1, 46)]</td>\n",
       "      <td>Buffer</td>\n",
       "    </tr>\n",
       "    <tr>\n",
       "      <th>22983</th>\n",
       "      <td>trisodium citrate</td>\n",
       "      <td>0.020</td>\n",
       "      <td>m</td>\n",
       "      <td>4.0</td>\n",
       "      <td>0.051612</td>\n",
       "      <td>0.020</td>\n",
       "      <td>[(3, 57), (1, 46)]</td>\n",
       "      <td>Buffer</td>\n",
       "    </tr>\n",
       "    <tr>\n",
       "      <th>23007</th>\n",
       "      <td>trisodium citrate</td>\n",
       "      <td>0.222</td>\n",
       "      <td>m</td>\n",
       "      <td>6.3</td>\n",
       "      <td>0.572893</td>\n",
       "      <td>0.222</td>\n",
       "      <td>[(3, 57), (1, 46)]</td>\n",
       "      <td>Buffer</td>\n",
       "    </tr>\n",
       "    <tr>\n",
       "      <th>23044</th>\n",
       "      <td>trisodium citrate</td>\n",
       "      <td>0.150</td>\n",
       "      <td>m</td>\n",
       "      <td>NaN</td>\n",
       "      <td>0.387090</td>\n",
       "      <td>0.150</td>\n",
       "      <td>[(3, 57), (1, 46)]</td>\n",
       "      <td>NotBuffer</td>\n",
       "    </tr>\n",
       "  </tbody>\n",
       "</table>\n",
       "<p>796 rows × 8 columns</p>\n",
       "</div>"
      ],
      "text/plain": [
       "                    name   conc units   ph  percentage concentration  \\\n",
       "23     trisodium citrate  0.100     m  5.4                  0.258060   \n",
       "50     trisodium citrate  0.100     m  NaN                  0.258060   \n",
       "61     trisodium citrate  0.010     m  NaN                  0.025806   \n",
       "63     trisodium citrate  0.100     m  5.6                  0.258060   \n",
       "71     trisodium citrate  0.100     m  5.5                  0.258060   \n",
       "...                  ...    ...   ...  ...                       ...   \n",
       "22958  trisodium citrate  0.033     m  5.6                  0.085160   \n",
       "22972  trisodium citrate  0.092     m  2.2                  0.237415   \n",
       "22983  trisodium citrate  0.020     m  4.0                  0.051612   \n",
       "23007  trisodium citrate  0.222     m  6.3                  0.572893   \n",
       "23044  trisodium citrate  0.150     m  NaN                  0.387090   \n",
       "\n",
       "       molarity                ions     buffer  \n",
       "23        0.100  [(3, 57), (1, 46)]     Buffer  \n",
       "50        0.100  [(3, 57), (1, 46)]  NotBuffer  \n",
       "61        0.010  [(3, 57), (1, 46)]  NotBuffer  \n",
       "63        0.100  [(3, 57), (1, 46)]     Buffer  \n",
       "71        0.100  [(3, 57), (1, 46)]     Buffer  \n",
       "...         ...                 ...        ...  \n",
       "22958     0.033  [(3, 57), (1, 46)]     Buffer  \n",
       "22972     0.092  [(3, 57), (1, 46)]     Buffer  \n",
       "22983     0.020  [(3, 57), (1, 46)]     Buffer  \n",
       "23007     0.222  [(3, 57), (1, 46)]     Buffer  \n",
       "23044     0.150  [(3, 57), (1, 46)]  NotBuffer  \n",
       "\n",
       "[796 rows x 8 columns]"
      ]
     },
     "execution_count": 19,
     "metadata": {},
     "output_type": "execute_result"
    }
   ],
   "source": [
    "chems_pdb[chems_pdb[\"name\"]==\"trisodium citrate\"]"
   ]
  },
  {
   "cell_type": "code",
   "execution_count": 20,
   "metadata": {},
   "outputs": [],
   "source": [
    "pkas_table = pd.read_pickle(chems_info_table_path)"
   ]
  },
  {
   "cell_type": "code",
   "execution_count": 21,
   "metadata": {},
   "outputs": [
    {
     "name": "stdout",
     "output_type": "stream",
     "text": [
      "name                         trisodium citrate\n",
      "conc                                       0.1\n",
      "units                                        m\n",
      "ph                                         5.4\n",
      "percentage concentration               0.25806\n",
      "molarity                                   0.1\n",
      "ions                        [(3, 57), (1, 46)]\n",
      "buffer                                  Buffer\n",
      "Name: 23, dtype: object\n",
      "                   name  pka1  pka2 pka3      mw solubility density\n",
      "1059  trisodium citrate  3.13  4.74  6.4  258.06         63    None\n",
      "Buffer\n"
     ]
    }
   ],
   "source": [
    "row = chems_pdb[chems_pdb[\"name\"]==\"trisodium citrate\"].iloc[0]\n",
    "_buffer_class = \"NotBuffer\"\n",
    "if row[\"ph\"] != None:\n",
    "    pkas = pkas_table[pkas_table[\"name\"] == row[\"name\"]]\n",
    "    for pka in [\"pka1\", \"pka2\", \"pka3\"]:\n",
    "        if pd.notna(pkas[pka]).all():\n",
    "            if abs(pkas[pka]-row[\"ph\"]).all() < 1:\n",
    "                _buffer_class = \"Buffer\"\n",
    "print(row)\n",
    "print(pkas)\n",
    "print(_buffer_class)"
   ]
  },
  {
   "cell_type": "code",
   "execution_count": 11,
   "metadata": {},
   "outputs": [],
   "source": [
    "linking_table = pd.read_pickle(pdb_commercial_linking_table_path)\n",
    "np_linking_table = linking_table.to_numpy()\n",
    "pdb = pd.read_pickle(pdb_conditions_path)\n",
    "dccc = pd.read_pickle(commercial_conditions_path)"
   ]
  },
  {
   "cell_type": "code",
   "execution_count": 12,
   "metadata": {},
   "outputs": [],
   "source": [
    "# np_linking_table[:,0] commercial\n",
    "# np_linking_table[:,1] pdb\n",
    "pdb_to_commercial = -1*np.ones(np.max(np_linking_table[:,1])+1, dtype=int)\n",
    "pdb_to_commercial[np_linking_table[:,1]] = np_linking_table[:,0]\n",
    "commercial_to_pdb = -1*np.ones(np.max(np_linking_table[:,0])+1, dtype=int)\n",
    "commercial_to_pdb[np_linking_table[:,0]] = np_linking_table[:,1]"
   ]
  },
  {
   "cell_type": "code",
   "execution_count": 13,
   "metadata": {},
   "outputs": [],
   "source": [
    "all_dccc_conds = []\n",
    "for screen in dccc:\n",
    "    all_dccc_conds.extend(dccc[screen])\n",
    "\n",
    "all_pdb_conds = []\n",
    "for entry in pdb:\n",
    "    all_pdb_conds.append(pdb[entry])\n",
    "\n",
    "all_nrscc_conds = []\n",
    "for cluster in nrscc:\n",
    "    all_nrscc_conds.extend(cluster)\n",
    "\n",
    "# hash for fast lookups\n",
    "all_dccc_conds_hashed = set([frozenset(sorted(x)) for x in all_dccc_conds])\n",
    "all_nrscc_conds_hashed = set([frozenset(sorted(x)) for x in all_nrscc_conds])\n",
    "all_pdb_conds_hashed = set([frozenset(sorted(x)) for x in all_pdb_conds])"
   ]
  },
  {
   "cell_type": "code",
   "execution_count": 14,
   "metadata": {},
   "outputs": [
    {
     "name": "stdout",
     "output_type": "stream",
     "text": [
      "16889\n"
     ]
    }
   ],
   "source": [
    "nrscc_in_dccc = 0\n",
    "for x in all_nrscc_conds:\n",
    "    cond = frozenset(sorted(pdb_to_commercial[list(x)]))\n",
    "    nrscc_in_dccc += cond in all_dccc_conds_hashed\n",
    "print(nrscc_in_dccc)"
   ]
  },
  {
   "cell_type": "code",
   "execution_count": 15,
   "metadata": {},
   "outputs": [
    {
     "name": "stdout",
     "output_type": "stream",
     "text": [
      "21170\n"
     ]
    }
   ],
   "source": [
    "pdb_in_dccc = 0\n",
    "for x in all_pdb_conds:\n",
    "    try:\n",
    "        cond = frozenset(sorted(pdb_to_commercial[list(x)]))\n",
    "        pdb_in_dccc += cond in all_dccc_conds_hashed\n",
    "    except IndexError:\n",
    "        continue\n",
    "print(pdb_in_dccc)"
   ]
  },
  {
   "cell_type": "code",
   "execution_count": 16,
   "metadata": {},
   "outputs": [],
   "source": [
    "in_pdb_not_nrscc = []\n",
    "for x in all_dccc_conds:\n",
    "    try:\n",
    "        cond = frozenset(sorted(commercial_to_pdb[list(x)]))\n",
    "        if cond in all_pdb_conds_hashed and cond not in all_nrscc_conds_hashed:\n",
    "            in_pdb_not_nrscc.append(cond)\n",
    "    except IndexError:\n",
    "        continue"
   ]
  },
  {
   "cell_type": "code",
   "execution_count": 23,
   "metadata": {},
   "outputs": [
    {
     "data": {
      "text/plain": [
       "frozenset({58, 317, 429})"
      ]
     },
     "execution_count": 23,
     "metadata": {},
     "output_type": "execute_result"
    }
   ],
   "source": [
    "in_pdb_not_nrscc[0]"
   ]
  },
  {
   "cell_type": "code",
   "execution_count": 27,
   "metadata": {},
   "outputs": [
    {
     "name": "stdout",
     "output_type": "stream",
     "text": [
      "8501\n"
     ]
    }
   ],
   "source": [
    "dccc_in_nrscc = 0\n",
    "for x in all_dccc_conds:\n",
    "    try:\n",
    "        cond = frozenset(sorted(commercial_to_pdb[list(x)]))\n",
    "        dccc_in_nrscc += cond in all_nrscc_conds_hashed\n",
    "    except IndexError:\n",
    "        continue\n",
    "print(dccc_in_nrscc)"
   ]
  },
  {
   "cell_type": "code",
   "execution_count": 28,
   "metadata": {},
   "outputs": [
    {
     "name": "stdout",
     "output_type": "stream",
     "text": [
      "8959\n"
     ]
    }
   ],
   "source": [
    "dccc_in_pdb = 0\n",
    "for x in all_dccc_conds:\n",
    "    try:\n",
    "        cond = frozenset(sorted(commercial_to_pdb[list(x)]))\n",
    "        dccc_in_pdb += cond in all_pdb_conds_hashed\n",
    "    except IndexError:\n",
    "        continue\n",
    "print(dccc_in_pdb)"
   ]
  },
  {
   "cell_type": "code",
   "execution_count": 29,
   "metadata": {},
   "outputs": [],
   "source": [
    "screen00, counts00 = np.load(\"generated/screen/screen_counts_0.0.npy\", allow_pickle=True)\n",
    "screen02, counts02 = np.load(\"generated/screen/screen_counts_0.2.npy\", allow_pickle=True)"
   ]
  },
  {
   "cell_type": "code",
   "execution_count": 30,
   "metadata": {},
   "outputs": [
    {
     "data": {
      "image/png": "[encoded data removed]",
      "image/svg+xml": "<?xml version=\"1.0\" encoding=\"utf-8\" standalone=\"no\"?>\r\n<!DOCTYPE svg PUBLIC \"-//W3C//DTD SVG 1.1//EN\"\r\n  \"http://www.w3.org/Graphics/SVG/1.1/DTD/svg11.dtd\">\r\n<!-- Created with matplotlib (https://matplotlib.org/) -->\r\n<svg height=\"471.92775pt\" version=\"1.1\" viewBox=\"0 0 644.879688 471.92775\" width=\"644.879688pt\" xmlns=\"http://www.w3.org/2000/svg\" xmlns:xlink=\"http://www.w3.org/1999/xlink\">\r\n <metadata>\r\n  <rdf:RDF xmlns:cc=\"http://creativecommons.org/ns#\" xmlns:dc=\"http://purl.org/dc/elements/1.1/\" xmlns:rdf=\"http://www.w3.org/1999/02/22-rdf-syntax-ns#\">\r\n   <cc:Work>\r\n    <dc:type rdf:resource=\"http://purl.org/dc/dcmitype/StillImage\"/>\r\n    <dc:date>2021-04-26T17:45:00.908576</dc:date>\r\n    <dc:format>image/svg+xml</dc:format>\r\n    <dc:creator>\r\n     <cc:Agent>\r\n      <dc:title>Matplotlib v3.3.4, https://matplotlib.org/</dc:title>\r\n     </cc:Agent>\r\n    </dc:creator>\r\n   </cc:Work>\r\n  </rdf:RDF>\r\n </metadata>\r\n <defs>\r\n  <style type=\"text/css\">*{stroke-linecap:butt;stroke-linejoin:round;}</style>\r\n </defs>\r\n <g id=\"figure_1\">\r\n  <g id=\"patch_1\">\r\n   <path d=\"M 0 471.92775 \r\nL 644.879688 471.92775 \r\nL 644.879688 0 \r\nL 0 0 \r\nz\r\n\" style=\"fill:none;\"/>\r\n  </g>\r\n  <g id=\"axes_1\">\r\n   <g id=\"patch_2\">\r\n    <path d=\"M 79.679688 412.629 \r\nL 637.679688 412.629 \r\nL 637.679688 32.109 \r\nL 79.679688 32.109 \r\nz\r\n\" style=\"fill:#ffffff;\"/>\r\n   </g>\r\n   <g id=\"matplotlib.axis_1\">\r\n    <g id=\"xtick_1\">\r\n     <g id=\"line2d_1\">\r\n      <defs>\r\n       <path d=\"M 0 0 \r\nL 0 3.5 \r\n\" id=\"m7ef4bbb433\" style=\"stroke:#000000;stroke-width:0.8;\"/>\r\n      </defs>\r\n      <g>\r\n       <use style=\"stroke:#000000;stroke-width:0.8;\" x=\"105.043324\" xlink:href=\"#m7ef4bbb433\" y=\"412.629\"/>\r\n      </g>\r\n     </g>\r\n     <g id=\"text_1\">\r\n      <!-- 0 -->\r\n      <g transform=\"translate(98.221605 435.3865)scale(0.22 -0.22)\">\r\n       <defs>\r\n        <path d=\"M 31.15625 69.28125 \r\nQ 38.671875 69.28125 44.28125 65.453125 \r\nQ 49.90625 61.625 53.421875 53.421875 \r\nQ 56.9375 45.21875 56.9375 33.546875 \r\nQ 56.9375 16.265625 48.296875 6.640625 \r\nQ 41.265625 -1.171875 30.515625 -1.171875 \r\nQ 23.25 -1.171875 17.625 2.703125 \r\nQ 12.015625 6.59375 8.546875 14.359375 \r\nQ 5.078125 22.125 5.078125 34.078125 \r\nQ 5.078125 46.140625 8.46875 53.75 \r\nQ 11.859375 61.375 17.71875 65.328125 \r\nQ 23.578125 69.28125 31.15625 69.28125 \r\nz\r\nM 30.90625 64.453125 \r\nQ 25.828125 64.453125 21.96875 60.75 \r\nQ 18.609375 57.515625 16.65625 50.59375 \r\nQ 14.40625 42.671875 14.40625 33.109375 \r\nQ 14.40625 25.6875 15.796875 19.65625 \r\nQ 17.1875 13.625 19.484375 10.28125 \r\nQ 21.78125 6.9375 24.6875 5.328125 \r\nQ 27.59375 3.71875 30.8125 3.71875 \r\nQ 35.640625 3.71875 39.84375 7.46875 \r\nQ 43.21875 10.546875 45.171875 16.65625 \r\nQ 47.515625 24.078125 47.515625 34.078125 \r\nQ 47.515625 44.4375 45.109375 51.65625 \r\nQ 42.71875 58.890625 39.234375 61.671875 \r\nQ 35.75 64.453125 30.90625 64.453125 \r\nz\r\n\" id=\"BookmanOldStyle-48\"/>\r\n       </defs>\r\n       <use xlink:href=\"#BookmanOldStyle-48\"/>\r\n      </g>\r\n     </g>\r\n    </g>\r\n    <g id=\"xtick_2\">\r\n     <g id=\"line2d_2\">\r\n      <g>\r\n       <use style=\"stroke:#000000;stroke-width:0.8;\" x=\"211.837582\" xlink:href=\"#m7ef4bbb433\" y=\"412.629\"/>\r\n      </g>\r\n     </g>\r\n     <g id=\"text_2\">\r\n      <!-- 20 -->\r\n      <g transform=\"translate(198.194145 435.3865)scale(0.22 -0.22)\">\r\n       <defs>\r\n        <path d=\"M 11.328125 42.4375 \r\nL 6.59375 41.84375 \r\nQ 6.203125 45.3125 6.203125 47.515625 \r\nQ 6.203125 53.265625 9.328125 58.390625 \r\nQ 12.453125 63.53125 18.046875 66.40625 \r\nQ 23.640625 69.28125 30.859375 69.28125 \r\nQ 37.84375 69.28125 43.109375 66.578125 \r\nQ 48.390625 63.875 51.1875 59.15625 \r\nQ 54 54.4375 54 48.390625 \r\nQ 54 43.265625 52.171875 38.890625 \r\nQ 50.34375 34.515625 46.296875 30.078125 \r\nQ 43.265625 26.765625 34.03125 19.921875 \r\nQ 22.40625 11.234375 16.21875 7.328125 \r\nL 41.609375 7.328125 \r\nQ 46.09375 7.328125 47.46875 8.15625 \r\nQ 49.359375 9.234375 50.046875 13.140625 \r\nL 50.484375 15.921875 \r\nL 54.640625 15.921875 \r\nL 51.3125 -2.4375 \r\nL 48.1875 -2.4375 \r\nL 47.65625 0 \r\nL 4.984375 0 \r\nL 4.984375 4.109375 \r\nL 12.796875 10.015625 \r\nQ 21.6875 16.609375 25.828125 20.125 \r\nQ 33.6875 26.765625 37.671875 31.46875 \r\nQ 41.65625 36.1875 43.140625 39.96875 \r\nQ 44.625 43.75 44.625 47.90625 \r\nQ 44.625 54.78125 40.203125 59.171875 \r\nQ 35.796875 63.578125 28.71875 63.578125 \r\nQ 23.640625 63.578125 19.65625 61.375 \r\nQ 15.671875 59.1875 13.375 55.21875 \r\nQ 11.078125 51.265625 11.078125 46.6875 \r\nQ 11.078125 44.96875 11.328125 42.4375 \r\nz\r\n\" id=\"BookmanOldStyle-50\"/>\r\n       </defs>\r\n       <use xlink:href=\"#BookmanOldStyle-50\"/>\r\n       <use x=\"62.011719\" xlink:href=\"#BookmanOldStyle-48\"/>\r\n      </g>\r\n     </g>\r\n    </g>\r\n    <g id=\"xtick_3\">\r\n     <g id=\"line2d_3\">\r\n      <g>\r\n       <use style=\"stroke:#000000;stroke-width:0.8;\" x=\"318.631841\" xlink:href=\"#m7ef4bbb433\" y=\"412.629\"/>\r\n      </g>\r\n     </g>\r\n     <g id=\"text_3\">\r\n      <!-- 40 -->\r\n      <g transform=\"translate(304.988403 435.3865)scale(0.22 -0.22)\">\r\n       <defs>\r\n        <path d=\"M 36.234375 68.109375 \r\nL 44.484375 68.109375 \r\nL 44.484375 28.515625 \r\nL 57.28125 28.515625 \r\nL 57.28125 22.40625 \r\nL 44.484375 22.40625 \r\nL 44.484375 0 \r\nL 36.234375 0 \r\nL 36.234375 22.40625 \r\nL 4.15625 22.40625 \r\nL 4.15625 31 \r\nz\r\nM 36.234375 28.515625 \r\nL 36.234375 60.546875 \r\nL 8.59375 28.515625 \r\nz\r\n\" id=\"BookmanOldStyle-52\"/>\r\n       </defs>\r\n       <use xlink:href=\"#BookmanOldStyle-52\"/>\r\n       <use x=\"62.011719\" xlink:href=\"#BookmanOldStyle-48\"/>\r\n      </g>\r\n     </g>\r\n    </g>\r\n    <g id=\"xtick_4\">\r\n     <g id=\"line2d_4\">\r\n      <g>\r\n       <use style=\"stroke:#000000;stroke-width:0.8;\" x=\"425.426099\" xlink:href=\"#m7ef4bbb433\" y=\"412.629\"/>\r\n      </g>\r\n     </g>\r\n     <g id=\"text_4\">\r\n      <!-- 60 -->\r\n      <g transform=\"translate(411.782661 435.3865)scale(0.22 -0.22)\">\r\n       <defs>\r\n        <path d=\"M 50.59375 69.390625 \r\nL 50.59375 64.9375 \r\nQ 38.53125 64.796875 31.078125 61.421875 \r\nQ 23.640625 58.0625 20.125 51.34375 \r\nQ 16.609375 44.625 16.15625 34.8125 \r\nQ 18.65625 38.625 21.265625 40.75 \r\nQ 23.875 42.875 27.359375 44.015625 \r\nQ 30.859375 45.171875 35.015625 45.171875 \r\nQ 41.65625 45.171875 46.828125 42.234375 \r\nQ 52 39.3125 54.875 34.296875 \r\nQ 57.765625 29.296875 57.765625 22.515625 \r\nQ 57.765625 11.71875 51.265625 5.5625 \r\nQ 44.09375 -1.171875 32.671875 -1.171875 \r\nQ 24.421875 -1.171875 18.75 2.25 \r\nQ 13.09375 5.671875 9.734375 12.703125 \r\nQ 6.390625 19.734375 6.390625 30.078125 \r\nQ 6.390625 40.484375 9.9375 48.53125 \r\nQ 13.484375 56.59375 19.734375 61.46875 \r\nQ 25.984375 66.359375 33.421875 67.875 \r\nQ 40.875 69.390625 46.78125 69.390625 \r\nz\r\nM 32.765625 39.984375 \r\nQ 25.734375 39.984375 21.21875 34.65625 \r\nQ 16.703125 29.34375 16.703125 21.875 \r\nQ 16.703125 16.609375 18.890625 12.140625 \r\nQ 21.09375 7.671875 24.5625 5.5 \r\nQ 28.03125 3.328125 32.375 3.328125 \r\nQ 39.109375 3.328125 43.578125 8.421875 \r\nQ 48.046875 13.53125 48.046875 22.125 \r\nQ 48.046875 30.328125 43.703125 35.15625 \r\nQ 39.359375 39.984375 32.765625 39.984375 \r\nz\r\n\" id=\"BookmanOldStyle-54\"/>\r\n       </defs>\r\n       <use xlink:href=\"#BookmanOldStyle-54\"/>\r\n       <use x=\"62.011719\" xlink:href=\"#BookmanOldStyle-48\"/>\r\n      </g>\r\n     </g>\r\n    </g>\r\n    <g id=\"xtick_5\">\r\n     <g id=\"line2d_5\">\r\n      <g>\r\n       <use style=\"stroke:#000000;stroke-width:0.8;\" x=\"532.220357\" xlink:href=\"#m7ef4bbb433\" y=\"412.629\"/>\r\n      </g>\r\n     </g>\r\n     <g id=\"text_5\">\r\n      <!-- 80 -->\r\n      <g transform=\"translate(518.57692 435.3865)scale(0.22 -0.22)\">\r\n       <defs>\r\n        <path d=\"M 38.671875 37.796875 \r\nQ 44.4375 35.59375 47.46875 33.640625 \r\nQ 51.90625 30.8125 54.140625 26.96875 \r\nQ 56.390625 23.140625 56.390625 18.65625 \r\nQ 56.390625 10.59375 49.453125 4.703125 \r\nQ 42.53125 -1.171875 30.765625 -1.171875 \r\nQ 18.3125 -1.171875 11.234375 5.46875 \r\nQ 5.609375 10.796875 5.609375 17.53125 \r\nQ 5.609375 22.953125 9.421875 27.25 \r\nQ 14.015625 32.375 22.515625 35.25 \r\nQ 15.875 38.375 12.9375 41.609375 \r\nQ 9.1875 45.84375 9.1875 51.8125 \r\nQ 9.1875 59.1875 14.75 63.71875 \r\nQ 21.578125 69.28125 31.84375 69.28125 \r\nQ 41.21875 69.28125 47 64.46875 \r\nQ 52.78125 59.671875 52.78125 53.46875 \r\nQ 52.78125 50.390625 51.34375 47.578125 \r\nQ 49.90625 44.78125 46.921875 42.359375 \r\nQ 43.953125 39.9375 38.671875 37.796875 \r\nz\r\nM 34.234375 39.59375 \r\nQ 39.796875 43.796875 41.453125 45.453125 \r\nQ 43.109375 47.125 44.015625 49.25 \r\nQ 44.921875 51.375 44.921875 53.375 \r\nQ 44.921875 56.25 43.203125 58.859375 \r\nQ 41.5 61.46875 38.203125 63.078125 \r\nQ 34.90625 64.703125 30.8125 64.703125 \r\nQ 24.75 64.703125 20.75 61.359375 \r\nQ 16.75 58.015625 16.75 53.609375 \r\nQ 16.75 50.09375 19.234375 47.3125 \r\nQ 21.734375 44.53125 28.515625 41.84375 \r\nz\r\nM 27.34375 33.34375 \r\nQ 20.453125 30.328125 16.453125 25.484375 \r\nQ 13.328125 21.6875 13.328125 17.578125 \r\nQ 13.328125 12.015625 18.25 7.6875 \r\nQ 23.1875 3.375 31 3.375 \r\nQ 38.96875 3.375 44.28125 8.296875 \r\nQ 48.640625 12.3125 48.640625 16.890625 \r\nQ 48.640625 20.515625 45.78125 23.796875 \r\nQ 42.921875 27.09375 35.15625 30.21875 \r\nz\r\n\" id=\"BookmanOldStyle-56\"/>\r\n       </defs>\r\n       <use xlink:href=\"#BookmanOldStyle-56\"/>\r\n       <use x=\"62.011719\" xlink:href=\"#BookmanOldStyle-48\"/>\r\n      </g>\r\n     </g>\r\n    </g>\r\n    <g id=\"text_6\">\r\n     <!-- Well Number -->\r\n     <g transform=\"translate(288.944844 459.935875)scale(0.22 -0.22)\">\r\n      <defs>\r\n       <path d=\"M 1.265625 68.109375 \r\nL 25.6875 68.109375 \r\nL 25.6875 63.96875 \r\nL 23.09375 63.96875 \r\nQ 20.5625 63.96875 19.625 63.484375 \r\nQ 18.21875 62.703125 18.21875 61.140625 \r\nQ 18.21875 60.015625 19 57.5625 \r\nL 32.953125 12.15625 \r\nL 45.0625 49.46875 \r\nL 42.234375 58.5 \r\nQ 41.21875 61.71875 39.109375 63.140625 \r\nQ 37.84375 63.96875 34.671875 63.96875 \r\nL 34.671875 68.109375 \r\nL 58.890625 68.109375 \r\nL 58.890625 63.96875 \r\nL 56.59375 63.96875 \r\nQ 53.609375 63.96875 52.578125 63.234375 \r\nQ 51.5625 62.5 51.5625 61.234375 \r\nQ 51.5625 60.15625 52.34375 57.5625 \r\nL 66.359375 11.859375 \r\nL 80.46875 57.5625 \r\nQ 81.203125 59.96875 81.203125 61.1875 \r\nQ 81.203125 62.59375 80.21875 63.28125 \r\nQ 79.25 63.96875 76.375 63.96875 \r\nL 73.921875 63.96875 \r\nL 73.921875 68.109375 \r\nL 94.734375 68.109375 \r\nL 94.734375 63.96875 \r\nQ 92.09375 64.015625 90.796875 63.453125 \r\nQ 89.5 62.890625 88.671875 61.84375 \r\nQ 87.84375 60.796875 86.859375 57.5625 \r\nL 68.0625 0 \r\nL 60.984375 0 \r\nL 47.859375 40.71875 \r\nL 34.671875 0 \r\nL 27.640625 0 \r\nL 9.1875 57.5625 \r\nQ 7.859375 61.71875 5.90625 63.03125 \r\nQ 4.4375 63.96875 1.265625 63.96875 \r\nz\r\n\" id=\"BookmanOldStyle-87\"/>\r\n       <path d=\"M 45.40625 12.59375 \r\nL 48.53125 10.0625 \r\nQ 44.96875 5.8125 41.625 3.3125 \r\nQ 38.28125 0.828125 35.296875 -0.171875 \r\nQ 32.328125 -1.171875 28.328125 -1.171875 \r\nQ 21.140625 -1.171875 16.109375 1.765625 \r\nQ 10.359375 5.125 7.28125 10.546875 \r\nQ 4.203125 15.96875 4.203125 23.34375 \r\nQ 4.203125 31.0625 7.171875 36.53125 \r\nQ 10.15625 42 15.5 45.140625 \r\nQ 20.84375 48.296875 27.875 48.296875 \r\nQ 33.109375 48.296875 36.96875 46.65625 \r\nQ 40.828125 45.015625 43.5 41.71875 \r\nQ 46.1875 38.421875 47.40625 34.1875 \r\nQ 48.09375 31.6875 48.1875 27.734375 \r\nL 13.671875 27.734375 \r\nQ 13.53125 25.34375 13.53125 24.171875 \r\nQ 13.53125 18.015625 15.671875 13.203125 \r\nQ 17.828125 8.40625 21.359375 6.125 \r\nQ 24.90625 3.859375 29.390625 3.859375 \r\nQ 33.203125 3.859375 36.765625 5.640625 \r\nQ 40.328125 7.421875 45.40625 12.59375 \r\nz\r\nM 39.15625 32.328125 \r\nQ 38.421875 36.8125 37.078125 38.953125 \r\nQ 35.75 41.109375 33.28125 42.375 \r\nQ 30.8125 43.65625 27.734375 43.65625 \r\nQ 24.65625 43.65625 21.96875 42.375 \r\nQ 19.28125 41.109375 17.5 38.859375 \r\nQ 15.71875 36.625 14.40625 32.328125 \r\nz\r\n\" id=\"BookmanOldStyle-101\"/>\r\n       <path d=\"M 3.078125 63.53125 \r\nL 3.078125 67.53125 \r\nQ 9.71875 68.015625 16.015625 71.625 \r\nL 19.625 71.625 \r\nL 19.625 11.53125 \r\nQ 19.625 7.71875 20.125 6.734375 \r\nQ 20.75 5.375 21.96875 4.734375 \r\nQ 23.1875 4.109375 26.65625 4.109375 \r\nL 28.21875 4.109375 \r\nL 28.21875 0 \r\nL 3.078125 0 \r\nL 3.078125 4.109375 \r\nL 5.609375 4.109375 \r\nQ 8.015625 4.109375 9.203125 4.828125 \r\nQ 10.40625 5.5625 10.90625 6.828125 \r\nQ 11.421875 8.109375 11.421875 11.921875 \r\nL 11.421875 63.53125 \r\nz\r\n\" id=\"BookmanOldStyle-108\"/>\r\n       <path id=\"BookmanOldStyle-32\"/>\r\n       <path d=\"M 4.296875 68.109375 \r\nL 25.203125 68.109375 \r\nL 56.203125 17.046875 \r\nL 56.203125 55.90625 \r\nQ 56.203125 59.375 55.515625 60.890625 \r\nQ 54.828125 62.40625 53.453125 63.1875 \r\nQ 52.09375 63.96875 49.421875 63.96875 \r\nL 47.65625 63.96875 \r\nL 47.65625 68.109375 \r\nL 70.453125 68.109375 \r\nL 70.453125 63.96875 \r\nL 69.234375 63.96875 \r\nQ 66.21875 63.96875 65.140625 63.484375 \r\nQ 63.625 62.796875 62.859375 60.984375 \r\nQ 62.109375 59.1875 62.109375 55.90625 \r\nL 62.109375 0 \r\nL 56.203125 0 \r\nL 18.84375 61.375 \r\nL 18.84375 12.75 \r\nQ 18.84375 8.6875 19.09375 7.8125 \r\nQ 19.4375 6.6875 20.328125 5.75 \r\nQ 21.234375 4.828125 22.453125 4.484375 \r\nQ 23.6875 4.15625 27.390625 4.109375 \r\nL 27.390625 0 \r\nL 4.296875 0 \r\nL 4.296875 4.109375 \r\nL 5.515625 4.109375 \r\nQ 9.03125 4.109375 10.28125 4.78125 \r\nQ 11.53125 5.46875 12.203125 7.125 \r\nQ 12.890625 8.796875 12.890625 12.75 \r\nL 12.890625 55.90625 \r\nQ 12.890625 59.96875 12.703125 60.84375 \r\nQ 12.25 62.5 11 63.234375 \r\nQ 9.765625 63.96875 6.0625 63.96875 \r\nL 4.296875 63.96875 \r\nz\r\n\" id=\"BookmanOldStyle-78\"/>\r\n       <path d=\"M 0.984375 47.125 \r\nL 19.484375 47.859375 \r\nL 19.484375 16.40625 \r\nQ 19.484375 12.25 20.625 9.8125 \r\nQ 21.78125 7.375 24.140625 6.03125 \r\nQ 26.515625 4.6875 29.6875 4.6875 \r\nQ 33.59375 4.6875 38.546875 6.78125 \r\nQ 43.5 8.890625 48.4375 13.03125 \r\nL 48.4375 35.796875 \r\nQ 48.4375 39.40625 47.890625 40.53125 \r\nQ 47.359375 41.65625 45.984375 42.328125 \r\nQ 44.625 43.015625 41.703125 43.015625 \r\nL 38.140625 43.015625 \r\nL 38.140625 47.125 \r\nL 56.640625 47.859375 \r\nL 56.640625 11.421875 \r\nQ 56.640625 7.90625 57.21875 6.5625 \r\nQ 57.8125 5.21875 58.953125 4.65625 \r\nQ 60.109375 4.109375 63.578125 4.109375 \r\nL 65.09375 4.109375 \r\nL 65.09375 0 \r\nL 48.875 -0.828125 \r\nL 48.875 8.203125 \r\nQ 42.1875 2.875 37.203125 0.84375 \r\nQ 32.234375 -1.171875 27.09375 -1.171875 \r\nQ 23.296875 -1.171875 20.484375 -0.140625 \r\nQ 17.671875 0.875 15.546875 2.921875 \r\nQ 13.421875 4.984375 12.296875 7.859375 \r\nQ 11.1875 10.75 11.1875 14.015625 \r\nL 11.1875 36.234375 \r\nQ 11.1875 39.203125 10.640625 40.40625 \r\nQ 10.109375 41.609375 8.859375 42.3125 \r\nQ 7.625 43.015625 5.46875 43.015625 \r\nL 0.984375 43.015625 \r\nz\r\n\" id=\"BookmanOldStyle-117\"/>\r\n       <path d=\"M 3.515625 40.09375 \r\nL 3.515625 44.234375 \r\nQ 7.171875 44.578125 9.90625 45.4375 \r\nQ 12.640625 46.296875 16.15625 48.296875 \r\nL 19.78125 48.296875 \r\nL 19.78125 40.09375 \r\nQ 25.34375 44.484375 28.46875 46 \r\nQ 33.25 48.296875 37.59375 48.296875 \r\nQ 40.578125 48.296875 43.4375 47.1875 \r\nQ 46.296875 46.09375 48.015625 44.484375 \r\nQ 49.75 42.875 50.984375 40.09375 \r\nQ 56.109375 44.625 60.46875 46.453125 \r\nQ 64.84375 48.296875 69.34375 48.296875 \r\nQ 73.640625 48.296875 76.921875 46.515625 \r\nQ 80.21875 44.734375 81.703125 42.046875 \r\nQ 83.203125 39.359375 83.203125 34.1875 \r\nL 83.203125 11.53125 \r\nQ 83.203125 7.953125 83.34375 7.375 \r\nQ 83.59375 6.453125 84.390625 5.609375 \r\nQ 85.203125 4.78125 86.21875 4.4375 \r\nQ 87.25 4.109375 90.046875 4.109375 \r\nL 91.609375 4.109375 \r\nL 91.609375 0 \r\nL 67.046875 0 \r\nL 67.046875 4.109375 \r\nQ 71.234375 4.15625 72.484375 4.71875 \r\nQ 73.734375 5.28125 74.34375 6.546875 \r\nQ 74.953125 7.8125 74.953125 11.53125 \r\nL 74.953125 33.0625 \r\nQ 74.953125 37.15625 74.21875 38.71875 \r\nQ 73.484375 40.28125 71.609375 41.328125 \r\nQ 69.734375 42.390625 66.9375 42.390625 \r\nQ 63.484375 42.390625 59.671875 40.53125 \r\nQ 54.59375 37.984375 51.65625 34.8125 \r\nL 51.65625 11.53125 \r\nQ 51.65625 8.15625 51.96875 7.109375 \r\nQ 52.296875 6.0625 53.046875 5.34375 \r\nQ 53.8125 4.640625 54.8125 4.375 \r\nQ 55.8125 4.109375 59.671875 4.109375 \r\nL 59.671875 0 \r\nL 35.59375 0 \r\nL 35.59375 4.109375 \r\nL 36.96875 4.109375 \r\nQ 39.84375 4.109375 41.03125 4.78125 \r\nQ 42.234375 5.46875 42.921875 6.890625 \r\nQ 43.40625 8.015625 43.40625 11.53125 \r\nL 43.40625 32.328125 \r\nQ 43.40625 36.921875 42.703125 38.53125 \r\nQ 42 40.140625 39.984375 41.265625 \r\nQ 37.984375 42.390625 35.296875 42.390625 \r\nQ 32.125 42.390625 28.90625 40.828125 \r\nQ 24.125 38.53125 20.125 34.8125 \r\nL 20.125 9.71875 \r\nQ 20.125 7.46875 20.734375 6.421875 \r\nQ 21.34375 5.375 22.65625 4.734375 \r\nQ 23.96875 4.109375 26.265625 4.109375 \r\nL 28.078125 4.109375 \r\nL 28.078125 0 \r\nL 3.515625 0 \r\nL 3.515625 4.109375 \r\nL 4.828125 4.109375 \r\nQ 8.203125 4.109375 9.28125 4.640625 \r\nQ 10.84375 5.375 11.53125 6.984375 \r\nQ 11.921875 7.859375 11.921875 11.53125 \r\nL 11.921875 40.09375 \r\nz\r\n\" id=\"BookmanOldStyle-109\"/>\r\n       <path d=\"M 2.78125 63.484375 \r\nL 2.78125 67.53125 \r\nQ 6 67.78125 9 68.703125 \r\nQ 12.015625 69.625 15.71875 71.625 \r\nL 19.28125 71.625 \r\nL 19.28125 41.84375 \r\nQ 23.578125 45.0625 28.125 46.671875 \r\nQ 32.671875 48.296875 37.40625 48.296875 \r\nQ 42.875 48.296875 47.515625 45.359375 \r\nQ 52.15625 42.4375 54.8125 37.078125 \r\nQ 57.46875 31.734375 57.46875 24.46875 \r\nQ 57.46875 13.03125 50.78125 5.671875 \r\nQ 44.578125 -1.171875 35.0625 -1.171875 \r\nQ 29.34375 -1.171875 24.859375 1.21875 \r\nQ 21.53125 2.984375 18.40625 6.640625 \r\nL 15.71875 0 \r\nL 11.1875 0 \r\nL 11.1875 63.484375 \r\nz\r\nM 19.28125 37.015625 \r\nL 19.28125 18.21875 \r\nQ 19.28125 13.765625 19.921875 11.984375 \r\nQ 20.5625 10.203125 22.53125 8.328125 \r\nQ 24.515625 6.453125 27.171875 5.34375 \r\nQ 29.828125 4.25 32.671875 4.25 \r\nQ 37.015625 4.25 40.578125 6.546875 \r\nQ 44.140625 8.84375 46.1875 13.328125 \r\nQ 48.25 17.828125 48.25 24.125 \r\nQ 48.25 32.953125 43.890625 38.28125 \r\nQ 40.4375 42.671875 34.1875 42.671875 \r\nQ 30.953125 42.671875 27.625 41.46875 \r\nQ 24.3125 40.28125 19.28125 37.015625 \r\nz\r\n\" id=\"BookmanOldStyle-98\"/>\r\n       <path d=\"M 3.515625 40.140625 \r\nL 3.515625 44.140625 \r\nQ 7.078125 44.4375 9.859375 45.328125 \r\nQ 12.640625 46.234375 16.21875 48.296875 \r\nL 19.875 48.296875 \r\nL 19.875 39.0625 \r\nQ 23.34375 43.3125 27.921875 45.796875 \r\nQ 32.515625 48.296875 36.1875 48.296875 \r\nQ 39.796875 48.296875 41.890625 46.578125 \r\nQ 44 44.875 44 42.4375 \r\nQ 44 40.671875 42.609375 39.328125 \r\nQ 41.21875 37.984375 39.265625 37.984375 \r\nQ 38.375 37.984375 37.734375 38.234375 \r\nQ 37.109375 38.484375 35.890625 39.3125 \r\nQ 33.203125 41.0625 31.390625 41.0625 \r\nQ 28.953125 41.0625 26.03125 39.015625 \r\nQ 22.3125 36.375 20.21875 33.84375 \r\nL 20.21875 11.328125 \r\nQ 20.21875 8.40625 20.53125 7.34375 \r\nQ 20.84375 6.296875 21.578125 5.53125 \r\nQ 22.3125 4.78125 23.390625 4.4375 \r\nQ 24.46875 4.109375 27.15625 4.109375 \r\nL 28.765625 4.109375 \r\nL 28.765625 0 \r\nL 3.515625 0 \r\nL 3.515625 4.109375 \r\nL 5.609375 4.109375 \r\nQ 8.59375 4.109375 9.515625 4.640625 \r\nQ 10.796875 5.375 11.40625 6.65625 \r\nQ 12.015625 7.953125 12.015625 11.328125 \r\nL 12.015625 40.140625 \r\nz\r\n\" id=\"BookmanOldStyle-114\"/>\r\n      </defs>\r\n      <use xlink:href=\"#BookmanOldStyle-87\"/>\r\n      <use x=\"95.996094\" xlink:href=\"#BookmanOldStyle-101\"/>\r\n      <use x=\"147.998047\" xlink:href=\"#BookmanOldStyle-108\"/>\r\n      <use x=\"177.978516\" xlink:href=\"#BookmanOldStyle-108\"/>\r\n      <use x=\"207.958984\" xlink:href=\"#BookmanOldStyle-32\"/>\r\n      <use x=\"239.941406\" xlink:href=\"#BookmanOldStyle-78\"/>\r\n      <use x=\"313.916016\" xlink:href=\"#BookmanOldStyle-117\"/>\r\n      <use x=\"381.933594\" xlink:href=\"#BookmanOldStyle-109\"/>\r\n      <use x=\"475.927734\" xlink:href=\"#BookmanOldStyle-98\"/>\r\n      <use x=\"537.939453\" xlink:href=\"#BookmanOldStyle-101\"/>\r\n      <use x=\"589.941406\" xlink:href=\"#BookmanOldStyle-114\"/>\r\n     </g>\r\n    </g>\r\n   </g>\r\n   <g id=\"matplotlib.axis_2\">\r\n    <g id=\"ytick_1\">\r\n     <g id=\"line2d_6\">\r\n      <defs>\r\n       <path d=\"M 0 0 \r\nL -3.5 0 \r\n\" id=\"mab25065922\" style=\"stroke:#000000;stroke-width:0.8;\"/>\r\n      </defs>\r\n      <g>\r\n       <use style=\"stroke:#000000;stroke-width:0.8;\" x=\"79.679688\" xlink:href=\"#mab25065922\" y=\"395.332636\"/>\r\n      </g>\r\n     </g>\r\n     <g id=\"text_7\">\r\n      <!-- 0 -->\r\n      <g transform=\"translate(59.03625 403.211386)scale(0.22 -0.22)\">\r\n       <use xlink:href=\"#BookmanOldStyle-48\"/>\r\n      </g>\r\n     </g>\r\n    </g>\r\n    <g id=\"ytick_2\">\r\n     <g id=\"line2d_7\">\r\n      <g>\r\n       <use style=\"stroke:#000000;stroke-width:0.8;\" x=\"79.679688\" xlink:href=\"#mab25065922\" y=\"341.617221\"/>\r\n      </g>\r\n     </g>\r\n     <g id=\"text_8\">\r\n      <!-- 25 -->\r\n      <g transform=\"translate(45.392813 349.495971)scale(0.22 -0.22)\">\r\n       <defs>\r\n        <path d=\"M 13.421875 68.109375 \r\nL 43.796875 68.109375 \r\nQ 46.578125 68.109375 47.171875 68.40625 \r\nQ 48 68.890625 48.140625 70.515625 \r\nL 51.703125 70.515625 \r\nL 51.703125 60.203125 \r\nL 17.96875 60.203125 \r\nL 17.140625 43.015625 \r\nQ 19.234375 43.609375 22.46875 44 \r\nQ 26.609375 44.484375 29.890625 44.484375 \r\nQ 38.03125 44.484375 44.078125 41.546875 \r\nQ 50.140625 38.625 53.296875 33.515625 \r\nQ 56.453125 28.421875 56.453125 22.125 \r\nQ 56.453125 12.359375 49.125 5.59375 \r\nQ 41.796875 -1.171875 30.46875 -1.171875 \r\nQ 23.921875 -1.171875 18.625 1.171875 \r\nQ 13.328125 3.515625 10.34375 7.34375 \r\nQ 7.375 11.1875 7.375 14.0625 \r\nQ 7.375 15.96875 8.640625 17.359375 \r\nQ 9.90625 18.75 11.921875 18.75 \r\nQ 13.96875 18.75 15.53125 17.046875 \r\nQ 16.40625 16.15625 17.625 12.75 \r\nQ 19.28125 7.953125 22.5625 5.71875 \r\nQ 25.78125 3.421875 30.671875 3.421875 \r\nQ 35.546875 3.421875 39.359375 5.546875 \r\nQ 43.171875 7.671875 45.359375 11.640625 \r\nQ 47.5625 15.625 47.5625 20.515625 \r\nQ 47.5625 25.640625 45.1875 29.640625 \r\nQ 42.828125 33.640625 38.40625 35.828125 \r\nQ 33.984375 38.03125 27.640625 38.03125 \r\nQ 23.78125 38.03125 19.359375 37.203125 \r\nQ 14.9375 36.375 11.765625 35.109375 \r\nz\r\n\" id=\"BookmanOldStyle-53\"/>\r\n       </defs>\r\n       <use xlink:href=\"#BookmanOldStyle-50\"/>\r\n       <use x=\"62.011719\" xlink:href=\"#BookmanOldStyle-53\"/>\r\n      </g>\r\n     </g>\r\n    </g>\r\n    <g id=\"ytick_3\">\r\n     <g id=\"line2d_8\">\r\n      <g>\r\n       <use style=\"stroke:#000000;stroke-width:0.8;\" x=\"79.679688\" xlink:href=\"#mab25065922\" y=\"287.901806\"/>\r\n      </g>\r\n     </g>\r\n     <g id=\"text_9\">\r\n      <!-- 50 -->\r\n      <g transform=\"translate(45.392813 295.780556)scale(0.22 -0.22)\">\r\n       <use xlink:href=\"#BookmanOldStyle-53\"/>\r\n       <use x=\"62.011719\" xlink:href=\"#BookmanOldStyle-48\"/>\r\n      </g>\r\n     </g>\r\n    </g>\r\n    <g id=\"ytick_4\">\r\n     <g id=\"line2d_9\">\r\n      <g>\r\n       <use style=\"stroke:#000000;stroke-width:0.8;\" x=\"79.679688\" xlink:href=\"#mab25065922\" y=\"234.186391\"/>\r\n      </g>\r\n     </g>\r\n     <g id=\"text_10\">\r\n      <!-- 75 -->\r\n      <g transform=\"translate(45.392813 242.065141)scale(0.22 -0.22)\">\r\n       <defs>\r\n        <path d=\"M 10.84375 70.609375 \r\nL 14.0625 70.609375 \r\nL 14.65625 68.109375 \r\nL 57.328125 68.109375 \r\nL 57.328125 63.96875 \r\nQ 49.65625 55.125 43.421875 43.8125 \r\nQ 37.203125 32.515625 33.796875 20.796875 \r\nQ 31.296875 12.359375 29.734375 0 \r\nL 19.734375 0 \r\nQ 21.1875 10.890625 24.53125 20.359375 \r\nQ 27.875 29.828125 34.203125 40.15625 \r\nQ 40.53125 50.484375 49.5625 60.796875 \r\nL 19.140625 60.796875 \r\nQ 15.828125 60.796875 14.59375 60.453125 \r\nQ 13.375 60.109375 12.6875 59.375 \r\nQ 12.015625 58.640625 11.53125 56.78125 \r\nL 11.28125 55.859375 \r\nL 9.625 50.09375 \r\nL 5.46875 50.984375 \r\nz\r\n\" id=\"BookmanOldStyle-55\"/>\r\n       </defs>\r\n       <use xlink:href=\"#BookmanOldStyle-55\"/>\r\n       <use x=\"62.011719\" xlink:href=\"#BookmanOldStyle-53\"/>\r\n      </g>\r\n     </g>\r\n    </g>\r\n    <g id=\"ytick_5\">\r\n     <g id=\"line2d_10\">\r\n      <g>\r\n       <use style=\"stroke:#000000;stroke-width:0.8;\" x=\"79.679688\" xlink:href=\"#mab25065922\" y=\"180.470976\"/>\r\n      </g>\r\n     </g>\r\n     <g id=\"text_11\">\r\n      <!-- 100 -->\r\n      <g transform=\"translate(31.749375 188.349726)scale(0.22 -0.22)\">\r\n       <defs>\r\n        <path d=\"M 33.59375 68.109375 \r\nL 37.25 68.109375 \r\nL 37.25 11.578125 \r\nQ 37.25 7.5625 37.765625 6.421875 \r\nQ 38.28125 5.28125 39.453125 4.6875 \r\nQ 40.625 4.109375 44.09375 4.109375 \r\nL 48.875 4.109375 \r\nL 48.875 0 \r\nL 16.703125 0 \r\nL 16.703125 4.109375 \r\nL 22.015625 4.109375 \r\nQ 25.484375 4.109375 26.625 4.71875 \r\nQ 27.78125 5.328125 28.40625 6.671875 \r\nQ 29.046875 8.015625 29.046875 11.578125 \r\nL 29.046875 58.0625 \r\nL 16.703125 58.0625 \r\nL 16.703125 62.25 \r\nQ 26.8125 63.671875 33.59375 68.109375 \r\nz\r\n\" id=\"BookmanOldStyle-49\"/>\r\n       </defs>\r\n       <use xlink:href=\"#BookmanOldStyle-49\"/>\r\n       <use x=\"62.011719\" xlink:href=\"#BookmanOldStyle-48\"/>\r\n       <use x=\"124.023438\" xlink:href=\"#BookmanOldStyle-48\"/>\r\n      </g>\r\n     </g>\r\n    </g>\r\n    <g id=\"ytick_6\">\r\n     <g id=\"line2d_11\">\r\n      <g>\r\n       <use style=\"stroke:#000000;stroke-width:0.8;\" x=\"79.679688\" xlink:href=\"#mab25065922\" y=\"126.755561\"/>\r\n      </g>\r\n     </g>\r\n     <g id=\"text_12\">\r\n      <!-- 125 -->\r\n      <g transform=\"translate(31.749375 134.634311)scale(0.22 -0.22)\">\r\n       <use xlink:href=\"#BookmanOldStyle-49\"/>\r\n       <use x=\"62.011719\" xlink:href=\"#BookmanOldStyle-50\"/>\r\n       <use x=\"124.023438\" xlink:href=\"#BookmanOldStyle-53\"/>\r\n      </g>\r\n     </g>\r\n    </g>\r\n    <g id=\"ytick_7\">\r\n     <g id=\"line2d_12\">\r\n      <g>\r\n       <use style=\"stroke:#000000;stroke-width:0.8;\" x=\"79.679688\" xlink:href=\"#mab25065922\" y=\"73.040146\"/>\r\n      </g>\r\n     </g>\r\n     <g id=\"text_13\">\r\n      <!-- 150 -->\r\n      <g transform=\"translate(31.749375 80.918896)scale(0.22 -0.22)\">\r\n       <use xlink:href=\"#BookmanOldStyle-49\"/>\r\n       <use x=\"62.011719\" xlink:href=\"#BookmanOldStyle-53\"/>\r\n       <use x=\"124.023438\" xlink:href=\"#BookmanOldStyle-48\"/>\r\n      </g>\r\n     </g>\r\n    </g>\r\n    <g id=\"text_14\">\r\n     <!-- Condition count in NRSCC -->\r\n     <g transform=\"translate(22.9575 366.45525)rotate(-90)scale(0.22 -0.22)\">\r\n      <defs>\r\n       <path d=\"M 58.984375 68.109375 \r\nL 62.5 68.109375 \r\nL 68.703125 45.40625 \r\nL 64.15625 44.140625 \r\nQ 60.5 52 58.59375 54.6875 \r\nQ 55.46875 59.03125 50.796875 61.5625 \r\nQ 46.140625 64.109375 40.53125 64.109375 \r\nQ 33.9375 64.109375 28.390625 60.5625 \r\nQ 22.859375 57.03125 19.40625 50.1875 \r\nQ 15.96875 43.359375 15.96875 34.8125 \r\nQ 15.96875 26.03125 19.453125 19.140625 \r\nQ 22.953125 12.25 28.90625 8.53125 \r\nQ 34.859375 4.828125 41.75 4.828125 \r\nQ 48.25 4.828125 55.03125 8.53125 \r\nQ 61.8125 12.25 66.796875 18.953125 \r\nL 70.703125 16.265625 \r\nQ 67.671875 11.765625 64.15625 8.640625 \r\nQ 58.59375 3.609375 52.578125 1.21875 \r\nQ 46.578125 -1.171875 39.40625 -1.171875 \r\nQ 23.53125 -1.171875 13.625 10.59375 \r\nQ 5.421875 20.359375 5.421875 33.84375 \r\nQ 5.421875 43.75 9.953125 51.78125 \r\nQ 14.5 59.8125 22.484375 64.546875 \r\nQ 30.46875 69.28125 39.703125 69.28125 \r\nQ 44.625 69.28125 48.84375 67.9375 \r\nQ 53.078125 66.609375 57.421875 63.625 \r\nz\r\n\" id=\"BookmanOldStyle-67\"/>\r\n       <path d=\"M 28.265625 48.296875 \r\nQ 35.453125 48.296875 40.703125 45.3125 \r\nQ 45.953125 42.328125 48.96875 36.609375 \r\nQ 52 30.90625 52 23.578125 \r\nQ 52 16.265625 48.890625 10.546875 \r\nQ 45.796875 4.828125 40.453125 1.828125 \r\nQ 35.109375 -1.171875 27.6875 -1.171875 \r\nQ 15.875 -1.171875 9.9375 6.203125 \r\nQ 4 13.578125 4 23.53125 \r\nQ 4 30.8125 7.078125 36.453125 \r\nQ 10.15625 42.09375 15.6875 45.1875 \r\nQ 21.234375 48.296875 28.265625 48.296875 \r\nz\r\nM 27.875 43.5625 \r\nQ 22.3125 43.5625 18.453125 39.15625 \r\nQ 13.578125 33.6875 13.578125 23.25 \r\nQ 13.578125 13.1875 17.71875 7.90625 \r\nQ 21.484375 3.21875 27.9375 3.21875 \r\nQ 32.078125 3.21875 35.328125 5.421875 \r\nQ 38.578125 7.625 40.578125 12.421875 \r\nQ 42.578125 17.234375 42.578125 23.734375 \r\nQ 42.578125 30.078125 40.4375 35.109375 \r\nQ 38.765625 39.109375 35.421875 41.328125 \r\nQ 32.078125 43.5625 27.875 43.5625 \r\nz\r\n\" id=\"BookmanOldStyle-111\"/>\r\n       <path d=\"M 3.65625 40.09375 \r\nL 3.65625 44.1875 \r\nQ 8.015625 44.671875 10.15625 45.359375 \r\nQ 12.3125 46.046875 16.359375 48.296875 \r\nL 19.875 48.296875 \r\nL 19.875 39.015625 \r\nQ 26.3125 44.4375 30.875 46.359375 \r\nQ 35.453125 48.296875 40.140625 48.296875 \r\nQ 44.140625 48.296875 47.21875 46.953125 \r\nQ 50.296875 45.609375 52.21875 43.3125 \r\nQ 54.15625 41.015625 54.78125 38.09375 \r\nQ 55.171875 36.28125 55.171875 32.625 \r\nL 55.171875 11.140625 \r\nQ 55.171875 7.28125 55.734375 6.171875 \r\nQ 56.296875 5.078125 57.515625 4.59375 \r\nQ 58.734375 4.109375 63.53125 4.109375 \r\nL 63.53125 0 \r\nL 38.375 0 \r\nL 38.375 4.109375 \r\nL 39.75 4.109375 \r\nQ 43.265625 4.109375 44.53125 4.734375 \r\nQ 45.796875 5.375 46.359375 6.59375 \r\nQ 46.921875 7.8125 46.921875 11.578125 \r\nL 46.921875 29.546875 \r\nQ 46.921875 35.109375 46.015625 37.25 \r\nQ 45.125 39.40625 42.9375 40.75 \r\nQ 40.765625 42.09375 37.453125 42.09375 \r\nQ 33.5 42.09375 29 40.0625 \r\nQ 24.515625 38.03125 20.3125 34.078125 \r\nL 20.3125 11.578125 \r\nQ 20.3125 7.765625 20.875 6.484375 \r\nQ 21.4375 5.21875 22.703125 4.59375 \r\nQ 23.578125 4.109375 27.390625 4.109375 \r\nL 28.8125 4.109375 \r\nL 28.8125 0 \r\nL 3.65625 0 \r\nL 3.65625 4.109375 \r\nL 4.890625 4.109375 \r\nQ 8.5 4.109375 9.8125 4.71875 \r\nQ 11.140625 5.328125 11.671875 6.890625 \r\nQ 11.96875 7.671875 11.96875 12.25 \r\nL 11.96875 40.09375 \r\nz\r\n\" id=\"BookmanOldStyle-110\"/>\r\n       <path d=\"M 34.03125 63.375 \r\nL 34.03125 67.53125 \r\nQ 37.359375 67.828125 40.109375 68.671875 \r\nQ 42.875 69.53125 47.015625 71.625 \r\nL 50.6875 71.625 \r\nL 50.6875 12.40625 \r\nQ 50.6875 8.296875 50.875 7.421875 \r\nQ 51.375 5.5625 52.546875 4.828125 \r\nQ 53.71875 4.109375 57.078125 4.109375 \r\nL 59.1875 4.109375 \r\nL 59.1875 0 \r\nL 42.234375 -0.78125 \r\nL 42.234375 6.984375 \r\nQ 37.359375 2.546875 33.078125 0.6875 \r\nQ 28.8125 -1.171875 24.515625 -1.171875 \r\nQ 15.671875 -1.171875 9.828125 5.921875 \r\nQ 4 13.03125 4 23.046875 \r\nQ 4 30.171875 7.09375 36.109375 \r\nQ 10.203125 42.046875 15.28125 45.171875 \r\nQ 20.359375 48.296875 26.421875 48.296875 \r\nQ 31.0625 48.296875 35.015625 46.671875 \r\nQ 38.96875 45.0625 42.234375 41.84375 \r\nL 42.234375 63.375 \r\nz\r\nM 42.234375 11.8125 \r\nL 42.234375 30.28125 \r\nQ 42.234375 34.234375 40.75 36.75 \r\nQ 39.265625 39.265625 35.859375 41.109375 \r\nQ 32.46875 42.96875 28.90625 42.96875 \r\nQ 24.65625 42.96875 21.0625 40.640625 \r\nQ 17.484375 38.328125 15.453125 33.953125 \r\nQ 13.421875 29.59375 13.421875 23.390625 \r\nQ 13.421875 17.53125 15.296875 13.25 \r\nQ 17.1875 8.984375 20.359375 6.765625 \r\nQ 23.53125 4.546875 26.859375 4.546875 \r\nQ 30.125 4.546875 34.265625 6.421875 \r\nQ 38.421875 8.296875 42.234375 11.8125 \r\nz\r\n\" id=\"BookmanOldStyle-100\"/>\r\n       <path d=\"M 15.671875 70.3125 \r\nQ 18.015625 70.3125 19.671875 68.671875 \r\nQ 21.34375 67.046875 21.34375 64.703125 \r\nQ 21.34375 62.359375 19.671875 60.6875 \r\nQ 18.015625 59.03125 15.671875 59.03125 \r\nQ 13.328125 59.03125 11.671875 60.6875 \r\nQ 10.015625 62.359375 10.015625 64.703125 \r\nQ 10.015625 67.046875 11.671875 68.671875 \r\nQ 13.328125 70.3125 15.671875 70.3125 \r\nz\r\nM 3.21875 40.09375 \r\nL 3.21875 44.140625 \r\nQ 7.28125 44.625 10.03125 45.5 \r\nQ 12.796875 46.390625 16.3125 48.296875 \r\nL 19.875 48.296875 \r\nL 19.875 9.125 \r\nQ 19.875 7.078125 20.453125 6.046875 \r\nQ 21.046875 5.03125 22.09375 4.5625 \r\nQ 23.140625 4.109375 25.921875 4.109375 \r\nL 28.21875 4.109375 \r\nL 28.21875 0 \r\nL 3.21875 0 \r\nL 3.21875 4.109375 \r\nL 5.21875 4.109375 \r\nQ 8.5 4.109375 9.625 4.6875 \r\nQ 10.75 5.28125 11.203125 6.34375 \r\nQ 11.671875 7.421875 11.671875 11.375 \r\nL 11.671875 40.09375 \r\nz\r\n\" id=\"BookmanOldStyle-105\"/>\r\n       <path d=\"M 16.453125 63.71875 \r\nL 19.921875 63.71875 \r\nL 19.921875 47.125 \r\nL 34.421875 47.125 \r\nL 34.421875 42.234375 \r\nL 19.921875 42.234375 \r\nL 19.921875 12.796875 \r\nQ 19.921875 9.03125 20.578125 7.421875 \r\nQ 21.234375 5.8125 22.828125 4.78125 \r\nQ 24.421875 3.765625 26.375 3.765625 \r\nQ 31 3.765625 36.625 7.90625 \r\nL 36.625 3.171875 \r\nQ 30.21875 -1.171875 23.6875 -1.171875 \r\nQ 19.96875 -1.171875 16.96875 0.484375 \r\nQ 13.96875 2.15625 12.859375 4.390625 \r\nQ 11.765625 6.640625 11.765625 12.203125 \r\nL 11.765625 42.234375 \r\nL 3.21875 42.234375 \r\nL 3.21875 46.34375 \r\nQ 7.328125 47.265625 9.84375 49.21875 \r\nQ 12.359375 51.171875 13.921875 54.296875 \r\nQ 15.484375 57.421875 16.453125 63.71875 \r\nz\r\n\" id=\"BookmanOldStyle-116\"/>\r\n       <path d=\"M 46.78125 13.625 \r\nL 49.90625 11.078125 \r\nQ 40.71875 -1.171875 27.875 -1.171875 \r\nQ 17.875 -1.171875 10.984375 5.953125 \r\nQ 4.109375 13.09375 4.109375 23.6875 \r\nQ 4.109375 30.765625 7.296875 36.40625 \r\nQ 10.5 42.046875 16.1875 45.171875 \r\nQ 21.875 48.296875 29.25 48.296875 \r\nQ 37.640625 48.296875 43.25 44.171875 \r\nQ 48.875 40.046875 48.875 35.84375 \r\nQ 48.875 33.59375 47.546875 32.375 \r\nQ 46.234375 31.15625 44.578125 31.15625 \r\nQ 43.703125 31.15625 42.875 31.59375 \r\nQ 42.046875 32.03125 41.15625 33.015625 \r\nQ 40.765625 33.453125 39.75 35.75 \r\nQ 38.421875 38.578125 37.703125 39.546875 \r\nQ 36.1875 41.5 33.953125 42.625 \r\nQ 31.734375 43.75 29 43.75 \r\nQ 24.859375 43.75 21.3125 41.453125 \r\nQ 17.78125 39.15625 15.703125 34.6875 \r\nQ 13.625 30.21875 13.625 24.03125 \r\nQ 13.625 14.40625 18.75 8.734375 \r\nQ 23.1875 3.859375 29.34375 3.859375 \r\nQ 32.171875 3.859375 35.078125 4.8125 \r\nQ 37.984375 5.765625 40.578125 7.625 \r\nQ 42.484375 8.9375 46.78125 13.625 \r\nz\r\n\" id=\"BookmanOldStyle-99\"/>\r\n       <path d=\"M 4.828125 68.109375 \r\nL 39.984375 68.109375 \r\nQ 50 68.109375 55.125 66.03125 \r\nQ 60.25 63.96875 63 60.03125 \r\nQ 65.765625 56.109375 65.765625 50.921875 \r\nQ 65.765625 45.609375 63.078125 41.484375 \r\nQ 60.40625 37.359375 55.34375 34.984375 \r\nQ 50.296875 32.625 41.9375 32.515625 \r\nL 59.90625 10.546875 \r\nQ 62.109375 7.8125 62.796875 7.171875 \r\nQ 64.5 5.671875 66.375 4.890625 \r\nQ 68.265625 4.109375 70.609375 4.109375 \r\nL 71.828125 4.109375 \r\nL 71.828125 0 \r\nL 56.296875 0 \r\nL 31.296875 32.515625 \r\nL 22.5625 32.515625 \r\nL 22.5625 11.53125 \r\nQ 22.5625 8.015625 22.796875 7.125 \r\nQ 23.34375 5.46875 24.53125 4.78125 \r\nQ 25.734375 4.109375 29.203125 4.109375 \r\nL 30.953125 4.109375 \r\nL 30.953125 0 \r\nL 4.828125 0 \r\nL 4.828125 4.109375 \r\nL 7.171875 4.109375 \r\nQ 9.8125 4.109375 10.71875 4.4375 \r\nQ 11.625 4.78125 12.328125 5.640625 \r\nQ 13.03125 6.5 13.328125 7.8125 \r\nQ 13.421875 8.34375 13.484375 12.75 \r\nL 13.484375 57.375 \r\nQ 13.484375 60.296875 12.890625 61.5625 \r\nQ 12.3125 62.84375 11.25 63.40625 \r\nQ 10.203125 63.96875 7.625 63.96875 \r\nL 4.828125 63.96875 \r\nz\r\nM 22.5625 62.796875 \r\nL 22.5625 37.15625 \r\nL 36.578125 37.15625 \r\nQ 43.703125 37.15625 46.578125 38.03125 \r\nQ 50.6875 39.203125 53.046875 42.328125 \r\nQ 55.421875 45.453125 55.421875 50.296875 \r\nQ 55.421875 54.390625 53.703125 57.203125 \r\nQ 52 60.015625 49.046875 61.40625 \r\nQ 46.09375 62.796875 40.234375 62.796875 \r\nz\r\n\" id=\"BookmanOldStyle-82\"/>\r\n       <path d=\"M 50.59375 68.109375 \r\nL 54.109375 68.109375 \r\nL 59.328125 47.125 \r\nL 54.828125 45.75 \r\nQ 50.53125 54.59375 43.40625 59.671875 \r\nQ 37.546875 63.921875 30.421875 63.921875 \r\nQ 26.125 63.921875 22.703125 62.375 \r\nQ 19.28125 60.84375 17.578125 58.390625 \r\nQ 15.875 55.953125 15.875 53.421875 \r\nQ 15.875 51.125 17.1875 48.96875 \r\nQ 18.5 46.828125 21.1875 45.1875 \r\nQ 23.875 43.5625 29.984375 41.75 \r\nL 42.71875 37.984375 \r\nQ 45.0625 37.3125 49.53125 35.359375 \r\nQ 54 33.40625 56.484375 31.21875 \r\nQ 58.984375 29.046875 60.390625 25.890625 \r\nQ 61.8125 22.75 61.8125 19.09375 \r\nQ 61.8125 10.984375 54.703125 4.90625 \r\nQ 47.609375 -1.171875 36.328125 -1.171875 \r\nQ 30.515625 -1.171875 25.921875 0.515625 \r\nQ 21.34375 2.203125 16.015625 6.5 \r\nL 13.765625 0 \r\nL 10.359375 0 \r\nL 5.8125 24.46875 \r\nL 10.359375 25.390625 \r\nQ 12.84375 18.609375 16.96875 13.859375 \r\nQ 21.09375 9.125 26.09375 6.703125 \r\nQ 31.109375 4.296875 36.28125 4.296875 \r\nQ 43.3125 4.296875 48.578125 8.546875 \r\nQ 52.984375 12.109375 52.984375 16.9375 \r\nQ 52.984375 21.390625 49.8125 24.21875 \r\nQ 46.578125 27.046875 38.28125 29.5 \r\nL 26.078125 33.015625 \r\nQ 15.828125 35.984375 11.625 40.625 \r\nQ 7.421875 45.265625 7.421875 51.265625 \r\nQ 7.421875 55.953125 10.15625 59.9375 \r\nQ 12.890625 63.921875 18.546875 66.59375 \r\nQ 24.21875 69.28125 30.953125 69.28125 \r\nQ 36.625 69.28125 41.796875 67.328125 \r\nQ 45.453125 65.96875 48.53125 63.421875 \r\nz\r\n\" id=\"BookmanOldStyle-83\"/>\r\n      </defs>\r\n      <use xlink:href=\"#BookmanOldStyle-67\"/>\r\n      <use x=\"73.974609\" xlink:href=\"#BookmanOldStyle-111\"/>\r\n      <use x=\"129.980469\" xlink:href=\"#BookmanOldStyle-110\"/>\r\n      <use x=\"195.996094\" xlink:href=\"#BookmanOldStyle-100\"/>\r\n      <use x=\"258.007812\" xlink:href=\"#BookmanOldStyle-105\"/>\r\n      <use x=\"287.988281\" xlink:href=\"#BookmanOldStyle-116\"/>\r\n      <use x=\"325.976562\" xlink:href=\"#BookmanOldStyle-105\"/>\r\n      <use x=\"355.957031\" xlink:href=\"#BookmanOldStyle-111\"/>\r\n      <use x=\"411.962891\" xlink:href=\"#BookmanOldStyle-110\"/>\r\n      <use x=\"477.978516\" xlink:href=\"#BookmanOldStyle-32\"/>\r\n      <use x=\"509.960938\" xlink:href=\"#BookmanOldStyle-99\"/>\r\n      <use x=\"561.962891\" xlink:href=\"#BookmanOldStyle-111\"/>\r\n      <use x=\"617.96875\" xlink:href=\"#BookmanOldStyle-117\"/>\r\n      <use x=\"685.986328\" xlink:href=\"#BookmanOldStyle-110\"/>\r\n      <use x=\"752.001953\" xlink:href=\"#BookmanOldStyle-116\"/>\r\n      <use x=\"789.990234\" xlink:href=\"#BookmanOldStyle-32\"/>\r\n      <use x=\"821.972656\" xlink:href=\"#BookmanOldStyle-105\"/>\r\n      <use x=\"851.953125\" xlink:href=\"#BookmanOldStyle-110\"/>\r\n      <use x=\"917.96875\" xlink:href=\"#BookmanOldStyle-32\"/>\r\n      <use x=\"949.951172\" xlink:href=\"#BookmanOldStyle-78\"/>\r\n      <use x=\"1023.925781\" xlink:href=\"#BookmanOldStyle-82\"/>\r\n      <use x=\"1095.947266\" xlink:href=\"#BookmanOldStyle-83\"/>\r\n      <use x=\"1161.962891\" xlink:href=\"#BookmanOldStyle-67\"/>\r\n      <use x=\"1235.9375\" xlink:href=\"#BookmanOldStyle-67\"/>\r\n     </g>\r\n    </g>\r\n   </g>\r\n   <g id=\"LineCollection_1\">\r\n    <path clip-path=\"url(#p52601dbdb9)\" d=\"M 105.043324 395.332636 \r\nL 105.043324 49.405364 \r\n\" style=\"fill:none;stroke:#ff0000;stroke-width:1.5;\"/>\r\n    <path clip-path=\"url(#p52601dbdb9)\" d=\"M 110.383037 395.332636 \r\nL 110.383037 105.269395 \r\n\" style=\"fill:none;stroke:#ff0000;stroke-width:1.5;\"/>\r\n    <path clip-path=\"url(#p52601dbdb9)\" d=\"M 115.72275 395.332636 \r\nL 115.72275 116.012478 \r\n\" style=\"fill:none;stroke:#ff0000;stroke-width:1.5;\"/>\r\n    <path clip-path=\"url(#p52601dbdb9)\" d=\"M 121.062463 395.332636 \r\nL 121.062463 128.904178 \r\n\" style=\"fill:none;stroke:#ff0000;stroke-width:1.5;\"/>\r\n    <path clip-path=\"url(#p52601dbdb9)\" d=\"M 126.402176 395.332636 \r\nL 126.402176 139.647261 \r\n\" style=\"fill:none;stroke:#ff0000;stroke-width:1.5;\"/>\r\n    <path clip-path=\"url(#p52601dbdb9)\" d=\"M 131.741888 395.332636 \r\nL 131.741888 156.836194 \r\n\" style=\"fill:none;stroke:#ff0000;stroke-width:1.5;\"/>\r\n    <path clip-path=\"url(#p52601dbdb9)\" d=\"M 137.081601 395.332636 \r\nL 137.081601 158.98481 \r\n\" style=\"fill:none;stroke:#ff0000;stroke-width:1.5;\"/>\r\n    <path clip-path=\"url(#p52601dbdb9)\" d=\"M 142.421314 395.332636 \r\nL 142.421314 167.579277 \r\n\" style=\"fill:none;stroke:#ff0000;stroke-width:1.5;\"/>\r\n    <path clip-path=\"url(#p52601dbdb9)\" d=\"M 147.761027 395.332636 \r\nL 147.761027 176.173743 \r\n\" style=\"fill:none;stroke:#ff0000;stroke-width:1.5;\"/>\r\n    <path clip-path=\"url(#p52601dbdb9)\" d=\"M 153.10074 395.332636 \r\nL 153.10074 178.32236 \r\n\" style=\"fill:none;stroke:#ff0000;stroke-width:1.5;\"/>\r\n    <path clip-path=\"url(#p52601dbdb9)\" d=\"M 158.440453 395.332636 \r\nL 158.440453 191.214059 \r\n\" style=\"fill:none;stroke:#ff0000;stroke-width:1.5;\"/>\r\n    <path clip-path=\"url(#p52601dbdb9)\" d=\"M 163.780166 395.332636 \r\nL 163.780166 191.214059 \r\n\" style=\"fill:none;stroke:#ff0000;stroke-width:1.5;\"/>\r\n    <path clip-path=\"url(#p52601dbdb9)\" d=\"M 169.119879 395.332636 \r\nL 169.119879 193.362676 \r\n\" style=\"fill:none;stroke:#ff0000;stroke-width:1.5;\"/>\r\n    <path clip-path=\"url(#p52601dbdb9)\" d=\"M 174.459592 395.332636 \r\nL 174.459592 195.511292 \r\n\" style=\"fill:none;stroke:#ff0000;stroke-width:1.5;\"/>\r\n    <path clip-path=\"url(#p52601dbdb9)\" d=\"M 179.799305 395.332636 \r\nL 179.799305 210.551609 \r\n\" style=\"fill:none;stroke:#ff0000;stroke-width:1.5;\"/>\r\n    <path clip-path=\"url(#p52601dbdb9)\" d=\"M 185.139018 395.332636 \r\nL 185.139018 216.997458 \r\n\" style=\"fill:none;stroke:#ff0000;stroke-width:1.5;\"/>\r\n    <path clip-path=\"url(#p52601dbdb9)\" d=\"M 190.478731 395.332636 \r\nL 190.478731 219.146075 \r\n\" style=\"fill:none;stroke:#ff0000;stroke-width:1.5;\"/>\r\n    <path clip-path=\"url(#p52601dbdb9)\" d=\"M 195.818443 395.332636 \r\nL 195.818443 219.146075 \r\n\" style=\"fill:none;stroke:#ff0000;stroke-width:1.5;\"/>\r\n    <path clip-path=\"url(#p52601dbdb9)\" d=\"M 201.158156 395.332636 \r\nL 201.158156 223.443308 \r\n\" style=\"fill:none;stroke:#ff0000;stroke-width:1.5;\"/>\r\n    <path clip-path=\"url(#p52601dbdb9)\" d=\"M 206.497869 395.332636 \r\nL 206.497869 232.037775 \r\n\" style=\"fill:none;stroke:#ff0000;stroke-width:1.5;\"/>\r\n    <path clip-path=\"url(#p52601dbdb9)\" d=\"M 211.837582 395.332636 \r\nL 211.837582 238.483625 \r\n\" style=\"fill:none;stroke:#ff0000;stroke-width:1.5;\"/>\r\n    <path clip-path=\"url(#p52601dbdb9)\" d=\"M 217.177295 395.332636 \r\nL 217.177295 238.483625 \r\n\" style=\"fill:none;stroke:#ff0000;stroke-width:1.5;\"/>\r\n    <path clip-path=\"url(#p52601dbdb9)\" d=\"M 222.517008 395.332636 \r\nL 222.517008 244.929474 \r\n\" style=\"fill:none;stroke:#ff0000;stroke-width:1.5;\"/>\r\n    <path clip-path=\"url(#p52601dbdb9)\" d=\"M 227.856721 395.332636 \r\nL 227.856721 244.929474 \r\n\" style=\"fill:none;stroke:#ff0000;stroke-width:1.5;\"/>\r\n    <path clip-path=\"url(#p52601dbdb9)\" d=\"M 233.196434 395.332636 \r\nL 233.196434 247.078091 \r\n\" style=\"fill:none;stroke:#ff0000;stroke-width:1.5;\"/>\r\n    <path clip-path=\"url(#p52601dbdb9)\" d=\"M 238.536147 395.332636 \r\nL 238.536147 251.375324 \r\n\" style=\"fill:none;stroke:#ff0000;stroke-width:1.5;\"/>\r\n    <path clip-path=\"url(#p52601dbdb9)\" d=\"M 243.87586 395.332636 \r\nL 243.87586 253.523941 \r\n\" style=\"fill:none;stroke:#ff0000;stroke-width:1.5;\"/>\r\n    <path clip-path=\"url(#p52601dbdb9)\" d=\"M 249.215573 395.332636 \r\nL 249.215573 253.523941 \r\n\" style=\"fill:none;stroke:#ff0000;stroke-width:1.5;\"/>\r\n    <path clip-path=\"url(#p52601dbdb9)\" d=\"M 254.555286 395.332636 \r\nL 254.555286 255.672557 \r\n\" style=\"fill:none;stroke:#ff0000;stroke-width:1.5;\"/>\r\n    <path clip-path=\"url(#p52601dbdb9)\" d=\"M 259.894999 395.332636 \r\nL 259.894999 255.672557 \r\n\" style=\"fill:none;stroke:#ff0000;stroke-width:1.5;\"/>\r\n    <path clip-path=\"url(#p52601dbdb9)\" d=\"M 265.234711 395.332636 \r\nL 265.234711 255.672557 \r\n\" style=\"fill:none;stroke:#ff0000;stroke-width:1.5;\"/>\r\n    <path clip-path=\"url(#p52601dbdb9)\" d=\"M 270.574424 395.332636 \r\nL 270.574424 259.969791 \r\n\" style=\"fill:none;stroke:#ff0000;stroke-width:1.5;\"/>\r\n    <path clip-path=\"url(#p52601dbdb9)\" d=\"M 275.914137 395.332636 \r\nL 275.914137 262.118407 \r\n\" style=\"fill:none;stroke:#ff0000;stroke-width:1.5;\"/>\r\n    <path clip-path=\"url(#p52601dbdb9)\" d=\"M 281.25385 395.332636 \r\nL 281.25385 262.118407 \r\n\" style=\"fill:none;stroke:#ff0000;stroke-width:1.5;\"/>\r\n    <path clip-path=\"url(#p52601dbdb9)\" d=\"M 286.593563 395.332636 \r\nL 286.593563 262.118407 \r\n\" style=\"fill:none;stroke:#ff0000;stroke-width:1.5;\"/>\r\n    <path clip-path=\"url(#p52601dbdb9)\" d=\"M 291.933276 395.332636 \r\nL 291.933276 264.267024 \r\n\" style=\"fill:none;stroke:#ff0000;stroke-width:1.5;\"/>\r\n    <path clip-path=\"url(#p52601dbdb9)\" d=\"M 297.272989 395.332636 \r\nL 297.272989 264.267024 \r\n\" style=\"fill:none;stroke:#ff0000;stroke-width:1.5;\"/>\r\n    <path clip-path=\"url(#p52601dbdb9)\" d=\"M 302.612702 395.332636 \r\nL 302.612702 266.41564 \r\n\" style=\"fill:none;stroke:#ff0000;stroke-width:1.5;\"/>\r\n    <path clip-path=\"url(#p52601dbdb9)\" d=\"M 307.952415 395.332636 \r\nL 307.952415 266.41564 \r\n\" style=\"fill:none;stroke:#ff0000;stroke-width:1.5;\"/>\r\n    <path clip-path=\"url(#p52601dbdb9)\" d=\"M 313.292128 395.332636 \r\nL 313.292128 266.41564 \r\n\" style=\"fill:none;stroke:#ff0000;stroke-width:1.5;\"/>\r\n    <path clip-path=\"url(#p52601dbdb9)\" d=\"M 318.631841 395.332636 \r\nL 318.631841 266.41564 \r\n\" style=\"fill:none;stroke:#ff0000;stroke-width:1.5;\"/>\r\n    <path clip-path=\"url(#p52601dbdb9)\" d=\"M 323.971554 395.332636 \r\nL 323.971554 268.564257 \r\n\" style=\"fill:none;stroke:#ff0000;stroke-width:1.5;\"/>\r\n    <path clip-path=\"url(#p52601dbdb9)\" d=\"M 329.311266 395.332636 \r\nL 329.311266 268.564257 \r\n\" style=\"fill:none;stroke:#ff0000;stroke-width:1.5;\"/>\r\n    <path clip-path=\"url(#p52601dbdb9)\" d=\"M 334.650979 395.332636 \r\nL 334.650979 270.712874 \r\n\" style=\"fill:none;stroke:#ff0000;stroke-width:1.5;\"/>\r\n    <path clip-path=\"url(#p52601dbdb9)\" d=\"M 339.990692 395.332636 \r\nL 339.990692 272.86149 \r\n\" style=\"fill:none;stroke:#ff0000;stroke-width:1.5;\"/>\r\n    <path clip-path=\"url(#p52601dbdb9)\" d=\"M 345.330405 395.332636 \r\nL 345.330405 272.86149 \r\n\" style=\"fill:none;stroke:#ff0000;stroke-width:1.5;\"/>\r\n    <path clip-path=\"url(#p52601dbdb9)\" d=\"M 350.670118 395.332636 \r\nL 350.670118 272.86149 \r\n\" style=\"fill:none;stroke:#ff0000;stroke-width:1.5;\"/>\r\n    <path clip-path=\"url(#p52601dbdb9)\" d=\"M 356.009831 395.332636 \r\nL 356.009831 272.86149 \r\n\" style=\"fill:none;stroke:#ff0000;stroke-width:1.5;\"/>\r\n    <path clip-path=\"url(#p52601dbdb9)\" d=\"M 361.349544 395.332636 \r\nL 361.349544 275.010107 \r\n\" style=\"fill:none;stroke:#ff0000;stroke-width:1.5;\"/>\r\n    <path clip-path=\"url(#p52601dbdb9)\" d=\"M 366.689257 395.332636 \r\nL 366.689257 279.30734 \r\n\" style=\"fill:none;stroke:#ff0000;stroke-width:1.5;\"/>\r\n    <path clip-path=\"url(#p52601dbdb9)\" d=\"M 372.02897 395.332636 \r\nL 372.02897 279.30734 \r\n\" style=\"fill:none;stroke:#ff0000;stroke-width:1.5;\"/>\r\n    <path clip-path=\"url(#p52601dbdb9)\" d=\"M 377.368683 395.332636 \r\nL 377.368683 279.30734 \r\n\" style=\"fill:none;stroke:#ff0000;stroke-width:1.5;\"/>\r\n    <path clip-path=\"url(#p52601dbdb9)\" d=\"M 382.708396 395.332636 \r\nL 382.708396 279.30734 \r\n\" style=\"fill:none;stroke:#ff0000;stroke-width:1.5;\"/>\r\n    <path clip-path=\"url(#p52601dbdb9)\" d=\"M 388.048109 395.332636 \r\nL 388.048109 281.455957 \r\n\" style=\"fill:none;stroke:#ff0000;stroke-width:1.5;\"/>\r\n    <path clip-path=\"url(#p52601dbdb9)\" d=\"M 393.387821 395.332636 \r\nL 393.387821 283.604573 \r\n\" style=\"fill:none;stroke:#ff0000;stroke-width:1.5;\"/>\r\n    <path clip-path=\"url(#p52601dbdb9)\" d=\"M 398.727534 395.332636 \r\nL 398.727534 283.604573 \r\n\" style=\"fill:none;stroke:#ff0000;stroke-width:1.5;\"/>\r\n    <path clip-path=\"url(#p52601dbdb9)\" d=\"M 404.067247 395.332636 \r\nL 404.067247 285.75319 \r\n\" style=\"fill:none;stroke:#ff0000;stroke-width:1.5;\"/>\r\n    <path clip-path=\"url(#p52601dbdb9)\" d=\"M 409.40696 395.332636 \r\nL 409.40696 287.901806 \r\n\" style=\"fill:none;stroke:#ff0000;stroke-width:1.5;\"/>\r\n    <path clip-path=\"url(#p52601dbdb9)\" d=\"M 414.746673 395.332636 \r\nL 414.746673 287.901806 \r\n\" style=\"fill:none;stroke:#ff0000;stroke-width:1.5;\"/>\r\n    <path clip-path=\"url(#p52601dbdb9)\" d=\"M 420.086386 395.332636 \r\nL 420.086386 292.19904 \r\n\" style=\"fill:none;stroke:#ff0000;stroke-width:1.5;\"/>\r\n    <path clip-path=\"url(#p52601dbdb9)\" d=\"M 425.426099 395.332636 \r\nL 425.426099 292.19904 \r\n\" style=\"fill:none;stroke:#ff0000;stroke-width:1.5;\"/>\r\n    <path clip-path=\"url(#p52601dbdb9)\" d=\"M 430.765812 395.332636 \r\nL 430.765812 294.347656 \r\n\" style=\"fill:none;stroke:#ff0000;stroke-width:1.5;\"/>\r\n    <path clip-path=\"url(#p52601dbdb9)\" d=\"M 436.105525 395.332636 \r\nL 436.105525 294.347656 \r\n\" style=\"fill:none;stroke:#ff0000;stroke-width:1.5;\"/>\r\n    <path clip-path=\"url(#p52601dbdb9)\" d=\"M 441.445238 395.332636 \r\nL 441.445238 294.347656 \r\n\" style=\"fill:none;stroke:#ff0000;stroke-width:1.5;\"/>\r\n    <path clip-path=\"url(#p52601dbdb9)\" d=\"M 446.784951 395.332636 \r\nL 446.784951 296.496273 \r\n\" style=\"fill:none;stroke:#ff0000;stroke-width:1.5;\"/>\r\n    <path clip-path=\"url(#p52601dbdb9)\" d=\"M 452.124664 395.332636 \r\nL 452.124664 296.496273 \r\n\" style=\"fill:none;stroke:#ff0000;stroke-width:1.5;\"/>\r\n    <path clip-path=\"url(#p52601dbdb9)\" d=\"M 457.464376 395.332636 \r\nL 457.464376 298.644889 \r\n\" style=\"fill:none;stroke:#ff0000;stroke-width:1.5;\"/>\r\n    <path clip-path=\"url(#p52601dbdb9)\" d=\"M 462.804089 395.332636 \r\nL 462.804089 298.644889 \r\n\" style=\"fill:none;stroke:#ff0000;stroke-width:1.5;\"/>\r\n    <path clip-path=\"url(#p52601dbdb9)\" d=\"M 468.143802 395.332636 \r\nL 468.143802 298.644889 \r\n\" style=\"fill:none;stroke:#ff0000;stroke-width:1.5;\"/>\r\n    <path clip-path=\"url(#p52601dbdb9)\" d=\"M 473.483515 395.332636 \r\nL 473.483515 300.793506 \r\n\" style=\"fill:none;stroke:#ff0000;stroke-width:1.5;\"/>\r\n    <path clip-path=\"url(#p52601dbdb9)\" d=\"M 478.823228 395.332636 \r\nL 478.823228 307.239356 \r\n\" style=\"fill:none;stroke:#ff0000;stroke-width:1.5;\"/>\r\n    <path clip-path=\"url(#p52601dbdb9)\" d=\"M 484.162941 395.332636 \r\nL 484.162941 309.387972 \r\n\" style=\"fill:none;stroke:#ff0000;stroke-width:1.5;\"/>\r\n    <path clip-path=\"url(#p52601dbdb9)\" d=\"M 489.502654 395.332636 \r\nL 489.502654 309.387972 \r\n\" style=\"fill:none;stroke:#ff0000;stroke-width:1.5;\"/>\r\n    <path clip-path=\"url(#p52601dbdb9)\" d=\"M 494.842367 395.332636 \r\nL 494.842367 309.387972 \r\n\" style=\"fill:none;stroke:#ff0000;stroke-width:1.5;\"/>\r\n    <path clip-path=\"url(#p52601dbdb9)\" d=\"M 500.18208 395.332636 \r\nL 500.18208 309.387972 \r\n\" style=\"fill:none;stroke:#ff0000;stroke-width:1.5;\"/>\r\n    <path clip-path=\"url(#p52601dbdb9)\" d=\"M 505.521793 395.332636 \r\nL 505.521793 309.387972 \r\n\" style=\"fill:none;stroke:#ff0000;stroke-width:1.5;\"/>\r\n    <path clip-path=\"url(#p52601dbdb9)\" d=\"M 510.861506 395.332636 \r\nL 510.861506 311.536589 \r\n\" style=\"fill:none;stroke:#ff0000;stroke-width:1.5;\"/>\r\n    <path clip-path=\"url(#p52601dbdb9)\" d=\"M 516.201219 395.332636 \r\nL 516.201219 311.536589 \r\n\" style=\"fill:none;stroke:#ff0000;stroke-width:1.5;\"/>\r\n    <path clip-path=\"url(#p52601dbdb9)\" d=\"M 521.540932 395.332636 \r\nL 521.540932 313.685206 \r\n\" style=\"fill:none;stroke:#ff0000;stroke-width:1.5;\"/>\r\n    <path clip-path=\"url(#p52601dbdb9)\" d=\"M 526.880644 395.332636 \r\nL 526.880644 313.685206 \r\n\" style=\"fill:none;stroke:#ff0000;stroke-width:1.5;\"/>\r\n    <path clip-path=\"url(#p52601dbdb9)\" d=\"M 532.220357 395.332636 \r\nL 532.220357 313.685206 \r\n\" style=\"fill:none;stroke:#ff0000;stroke-width:1.5;\"/>\r\n    <path clip-path=\"url(#p52601dbdb9)\" d=\"M 537.56007 395.332636 \r\nL 537.56007 317.982439 \r\n\" style=\"fill:none;stroke:#ff0000;stroke-width:1.5;\"/>\r\n    <path clip-path=\"url(#p52601dbdb9)\" d=\"M 542.899783 395.332636 \r\nL 542.899783 317.982439 \r\n\" style=\"fill:none;stroke:#ff0000;stroke-width:1.5;\"/>\r\n    <path clip-path=\"url(#p52601dbdb9)\" d=\"M 548.239496 395.332636 \r\nL 548.239496 317.982439 \r\n\" style=\"fill:none;stroke:#ff0000;stroke-width:1.5;\"/>\r\n    <path clip-path=\"url(#p52601dbdb9)\" d=\"M 553.579209 395.332636 \r\nL 553.579209 317.982439 \r\n\" style=\"fill:none;stroke:#ff0000;stroke-width:1.5;\"/>\r\n    <path clip-path=\"url(#p52601dbdb9)\" d=\"M 558.918922 395.332636 \r\nL 558.918922 320.131055 \r\n\" style=\"fill:none;stroke:#ff0000;stroke-width:1.5;\"/>\r\n    <path clip-path=\"url(#p52601dbdb9)\" d=\"M 564.258635 395.332636 \r\nL 564.258635 320.131055 \r\n\" style=\"fill:none;stroke:#ff0000;stroke-width:1.5;\"/>\r\n    <path clip-path=\"url(#p52601dbdb9)\" d=\"M 569.598348 395.332636 \r\nL 569.598348 320.131055 \r\n\" style=\"fill:none;stroke:#ff0000;stroke-width:1.5;\"/>\r\n    <path clip-path=\"url(#p52601dbdb9)\" d=\"M 574.938061 395.332636 \r\nL 574.938061 320.131055 \r\n\" style=\"fill:none;stroke:#ff0000;stroke-width:1.5;\"/>\r\n    <path clip-path=\"url(#p52601dbdb9)\" d=\"M 580.277774 395.332636 \r\nL 580.277774 322.279672 \r\n\" style=\"fill:none;stroke:#ff0000;stroke-width:1.5;\"/>\r\n    <path clip-path=\"url(#p52601dbdb9)\" d=\"M 585.617487 395.332636 \r\nL 585.617487 322.279672 \r\n\" style=\"fill:none;stroke:#ff0000;stroke-width:1.5;\"/>\r\n    <path clip-path=\"url(#p52601dbdb9)\" d=\"M 590.957199 395.332636 \r\nL 590.957199 322.279672 \r\n\" style=\"fill:none;stroke:#ff0000;stroke-width:1.5;\"/>\r\n    <path clip-path=\"url(#p52601dbdb9)\" d=\"M 596.296912 395.332636 \r\nL 596.296912 322.279672 \r\n\" style=\"fill:none;stroke:#ff0000;stroke-width:1.5;\"/>\r\n    <path clip-path=\"url(#p52601dbdb9)\" d=\"M 601.636625 395.332636 \r\nL 601.636625 324.428289 \r\n\" style=\"fill:none;stroke:#ff0000;stroke-width:1.5;\"/>\r\n    <path clip-path=\"url(#p52601dbdb9)\" d=\"M 606.976338 395.332636 \r\nL 606.976338 324.428289 \r\n\" style=\"fill:none;stroke:#ff0000;stroke-width:1.5;\"/>\r\n    <path clip-path=\"url(#p52601dbdb9)\" d=\"M 612.316051 395.332636 \r\nL 612.316051 324.428289 \r\n\" style=\"fill:none;stroke:#ff0000;stroke-width:1.5;\"/>\r\n   </g>\r\n   <g id=\"LineCollection_2\">\r\n    <path clip-path=\"url(#p52601dbdb9)\" d=\"M 105.043324 395.332636 \r\nL 105.043324 49.405364 \r\n\" style=\"fill:none;stroke:#1f77b4;stroke-width:1.5;\"/>\r\n    <path clip-path=\"url(#p52601dbdb9)\" d=\"M 110.383037 395.332636 \r\nL 110.383037 105.269395 \r\n\" style=\"fill:none;stroke:#1f77b4;stroke-width:1.5;\"/>\r\n    <path clip-path=\"url(#p52601dbdb9)\" d=\"M 115.72275 395.332636 \r\nL 115.72275 116.012478 \r\n\" style=\"fill:none;stroke:#1f77b4;stroke-width:1.5;\"/>\r\n    <path clip-path=\"url(#p52601dbdb9)\" d=\"M 121.062463 395.332636 \r\nL 121.062463 128.904178 \r\n\" style=\"fill:none;stroke:#1f77b4;stroke-width:1.5;\"/>\r\n    <path clip-path=\"url(#p52601dbdb9)\" d=\"M 126.402176 395.332636 \r\nL 126.402176 139.647261 \r\n\" style=\"fill:none;stroke:#1f77b4;stroke-width:1.5;\"/>\r\n    <path clip-path=\"url(#p52601dbdb9)\" d=\"M 131.741888 395.332636 \r\nL 131.741888 156.836194 \r\n\" style=\"fill:none;stroke:#1f77b4;stroke-width:1.5;\"/>\r\n    <path clip-path=\"url(#p52601dbdb9)\" d=\"M 137.081601 395.332636 \r\nL 137.081601 158.98481 \r\n\" style=\"fill:none;stroke:#1f77b4;stroke-width:1.5;\"/>\r\n    <path clip-path=\"url(#p52601dbdb9)\" d=\"M 142.421314 395.332636 \r\nL 142.421314 167.579277 \r\n\" style=\"fill:none;stroke:#1f77b4;stroke-width:1.5;\"/>\r\n    <path clip-path=\"url(#p52601dbdb9)\" d=\"M 147.761027 395.332636 \r\nL 147.761027 176.173743 \r\n\" style=\"fill:none;stroke:#1f77b4;stroke-width:1.5;\"/>\r\n    <path clip-path=\"url(#p52601dbdb9)\" d=\"M 153.10074 395.332636 \r\nL 153.10074 178.32236 \r\n\" style=\"fill:none;stroke:#1f77b4;stroke-width:1.5;\"/>\r\n    <path clip-path=\"url(#p52601dbdb9)\" d=\"M 158.440453 395.332636 \r\nL 158.440453 191.214059 \r\n\" style=\"fill:none;stroke:#1f77b4;stroke-width:1.5;\"/>\r\n    <path clip-path=\"url(#p52601dbdb9)\" d=\"M 163.780166 395.332636 \r\nL 163.780166 191.214059 \r\n\" style=\"fill:none;stroke:#1f77b4;stroke-width:1.5;\"/>\r\n    <path clip-path=\"url(#p52601dbdb9)\" d=\"M 169.119879 395.332636 \r\nL 169.119879 193.362676 \r\n\" style=\"fill:none;stroke:#1f77b4;stroke-width:1.5;\"/>\r\n    <path clip-path=\"url(#p52601dbdb9)\" d=\"M 174.459592 395.332636 \r\nL 174.459592 195.511292 \r\n\" style=\"fill:none;stroke:#1f77b4;stroke-width:1.5;\"/>\r\n    <path clip-path=\"url(#p52601dbdb9)\" d=\"M 179.799305 395.332636 \r\nL 179.799305 210.551609 \r\n\" style=\"fill:none;stroke:#1f77b4;stroke-width:1.5;\"/>\r\n    <path clip-path=\"url(#p52601dbdb9)\" d=\"M 185.139018 395.332636 \r\nL 185.139018 216.997458 \r\n\" style=\"fill:none;stroke:#1f77b4;stroke-width:1.5;\"/>\r\n    <path clip-path=\"url(#p52601dbdb9)\" d=\"M 190.478731 395.332636 \r\nL 190.478731 219.146075 \r\n\" style=\"fill:none;stroke:#1f77b4;stroke-width:1.5;\"/>\r\n    <path clip-path=\"url(#p52601dbdb9)\" d=\"M 195.818443 395.332636 \r\nL 195.818443 219.146075 \r\n\" style=\"fill:none;stroke:#1f77b4;stroke-width:1.5;\"/>\r\n    <path clip-path=\"url(#p52601dbdb9)\" d=\"M 201.158156 395.332636 \r\nL 201.158156 223.443308 \r\n\" style=\"fill:none;stroke:#1f77b4;stroke-width:1.5;\"/>\r\n    <path clip-path=\"url(#p52601dbdb9)\" d=\"M 206.497869 395.332636 \r\nL 206.497869 232.037775 \r\n\" style=\"fill:none;stroke:#1f77b4;stroke-width:1.5;\"/>\r\n    <path clip-path=\"url(#p52601dbdb9)\" d=\"M 211.837582 395.332636 \r\nL 211.837582 238.483625 \r\n\" style=\"fill:none;stroke:#1f77b4;stroke-width:1.5;\"/>\r\n    <path clip-path=\"url(#p52601dbdb9)\" d=\"M 217.177295 395.332636 \r\nL 217.177295 244.929474 \r\n\" style=\"fill:none;stroke:#1f77b4;stroke-width:1.5;\"/>\r\n    <path clip-path=\"url(#p52601dbdb9)\" d=\"M 222.517008 395.332636 \r\nL 222.517008 244.929474 \r\n\" style=\"fill:none;stroke:#1f77b4;stroke-width:1.5;\"/>\r\n    <path clip-path=\"url(#p52601dbdb9)\" d=\"M 227.856721 395.332636 \r\nL 227.856721 247.078091 \r\n\" style=\"fill:none;stroke:#1f77b4;stroke-width:1.5;\"/>\r\n    <path clip-path=\"url(#p52601dbdb9)\" d=\"M 233.196434 395.332636 \r\nL 233.196434 251.375324 \r\n\" style=\"fill:none;stroke:#1f77b4;stroke-width:1.5;\"/>\r\n    <path clip-path=\"url(#p52601dbdb9)\" d=\"M 238.536147 395.332636 \r\nL 238.536147 255.672557 \r\n\" style=\"fill:none;stroke:#1f77b4;stroke-width:1.5;\"/>\r\n    <path clip-path=\"url(#p52601dbdb9)\" d=\"M 243.87586 395.332636 \r\nL 243.87586 255.672557 \r\n\" style=\"fill:none;stroke:#1f77b4;stroke-width:1.5;\"/>\r\n    <path clip-path=\"url(#p52601dbdb9)\" d=\"M 249.215573 395.332636 \r\nL 249.215573 259.969791 \r\n\" style=\"fill:none;stroke:#1f77b4;stroke-width:1.5;\"/>\r\n    <path clip-path=\"url(#p52601dbdb9)\" d=\"M 254.555286 395.332636 \r\nL 254.555286 262.118407 \r\n\" style=\"fill:none;stroke:#1f77b4;stroke-width:1.5;\"/>\r\n    <path clip-path=\"url(#p52601dbdb9)\" d=\"M 259.894999 395.332636 \r\nL 259.894999 262.118407 \r\n\" style=\"fill:none;stroke:#1f77b4;stroke-width:1.5;\"/>\r\n    <path clip-path=\"url(#p52601dbdb9)\" d=\"M 265.234711 395.332636 \r\nL 265.234711 264.267024 \r\n\" style=\"fill:none;stroke:#1f77b4;stroke-width:1.5;\"/>\r\n    <path clip-path=\"url(#p52601dbdb9)\" d=\"M 270.574424 395.332636 \r\nL 270.574424 266.41564 \r\n\" style=\"fill:none;stroke:#1f77b4;stroke-width:1.5;\"/>\r\n    <path clip-path=\"url(#p52601dbdb9)\" d=\"M 275.914137 395.332636 \r\nL 275.914137 266.41564 \r\n\" style=\"fill:none;stroke:#1f77b4;stroke-width:1.5;\"/>\r\n    <path clip-path=\"url(#p52601dbdb9)\" d=\"M 281.25385 395.332636 \r\nL 281.25385 266.41564 \r\n\" style=\"fill:none;stroke:#1f77b4;stroke-width:1.5;\"/>\r\n    <path clip-path=\"url(#p52601dbdb9)\" d=\"M 286.593563 395.332636 \r\nL 286.593563 266.41564 \r\n\" style=\"fill:none;stroke:#1f77b4;stroke-width:1.5;\"/>\r\n    <path clip-path=\"url(#p52601dbdb9)\" d=\"M 291.933276 395.332636 \r\nL 291.933276 268.564257 \r\n\" style=\"fill:none;stroke:#1f77b4;stroke-width:1.5;\"/>\r\n    <path clip-path=\"url(#p52601dbdb9)\" d=\"M 297.272989 395.332636 \r\nL 297.272989 268.564257 \r\n\" style=\"fill:none;stroke:#1f77b4;stroke-width:1.5;\"/>\r\n    <path clip-path=\"url(#p52601dbdb9)\" d=\"M 302.612702 395.332636 \r\nL 302.612702 270.712874 \r\n\" style=\"fill:none;stroke:#1f77b4;stroke-width:1.5;\"/>\r\n    <path clip-path=\"url(#p52601dbdb9)\" d=\"M 307.952415 395.332636 \r\nL 307.952415 272.86149 \r\n\" style=\"fill:none;stroke:#1f77b4;stroke-width:1.5;\"/>\r\n    <path clip-path=\"url(#p52601dbdb9)\" d=\"M 313.292128 395.332636 \r\nL 313.292128 272.86149 \r\n\" style=\"fill:none;stroke:#1f77b4;stroke-width:1.5;\"/>\r\n    <path clip-path=\"url(#p52601dbdb9)\" d=\"M 318.631841 395.332636 \r\nL 318.631841 272.86149 \r\n\" style=\"fill:none;stroke:#1f77b4;stroke-width:1.5;\"/>\r\n    <path clip-path=\"url(#p52601dbdb9)\" d=\"M 323.971554 395.332636 \r\nL 323.971554 272.86149 \r\n\" style=\"fill:none;stroke:#1f77b4;stroke-width:1.5;\"/>\r\n    <path clip-path=\"url(#p52601dbdb9)\" d=\"M 329.311266 395.332636 \r\nL 329.311266 275.010107 \r\n\" style=\"fill:none;stroke:#1f77b4;stroke-width:1.5;\"/>\r\n    <path clip-path=\"url(#p52601dbdb9)\" d=\"M 334.650979 395.332636 \r\nL 334.650979 279.30734 \r\n\" style=\"fill:none;stroke:#1f77b4;stroke-width:1.5;\"/>\r\n    <path clip-path=\"url(#p52601dbdb9)\" d=\"M 339.990692 395.332636 \r\nL 339.990692 279.30734 \r\n\" style=\"fill:none;stroke:#1f77b4;stroke-width:1.5;\"/>\r\n    <path clip-path=\"url(#p52601dbdb9)\" d=\"M 345.330405 395.332636 \r\nL 345.330405 279.30734 \r\n\" style=\"fill:none;stroke:#1f77b4;stroke-width:1.5;\"/>\r\n    <path clip-path=\"url(#p52601dbdb9)\" d=\"M 350.670118 395.332636 \r\nL 350.670118 279.30734 \r\n\" style=\"fill:none;stroke:#1f77b4;stroke-width:1.5;\"/>\r\n    <path clip-path=\"url(#p52601dbdb9)\" d=\"M 356.009831 395.332636 \r\nL 356.009831 281.455957 \r\n\" style=\"fill:none;stroke:#1f77b4;stroke-width:1.5;\"/>\r\n    <path clip-path=\"url(#p52601dbdb9)\" d=\"M 361.349544 395.332636 \r\nL 361.349544 283.604573 \r\n\" style=\"fill:none;stroke:#1f77b4;stroke-width:1.5;\"/>\r\n    <path clip-path=\"url(#p52601dbdb9)\" d=\"M 366.689257 395.332636 \r\nL 366.689257 283.604573 \r\n\" style=\"fill:none;stroke:#1f77b4;stroke-width:1.5;\"/>\r\n    <path clip-path=\"url(#p52601dbdb9)\" d=\"M 372.02897 395.332636 \r\nL 372.02897 285.75319 \r\n\" style=\"fill:none;stroke:#1f77b4;stroke-width:1.5;\"/>\r\n    <path clip-path=\"url(#p52601dbdb9)\" d=\"M 377.368683 395.332636 \r\nL 377.368683 287.901806 \r\n\" style=\"fill:none;stroke:#1f77b4;stroke-width:1.5;\"/>\r\n    <path clip-path=\"url(#p52601dbdb9)\" d=\"M 382.708396 395.332636 \r\nL 382.708396 287.901806 \r\n\" style=\"fill:none;stroke:#1f77b4;stroke-width:1.5;\"/>\r\n    <path clip-path=\"url(#p52601dbdb9)\" d=\"M 388.048109 395.332636 \r\nL 388.048109 292.19904 \r\n\" style=\"fill:none;stroke:#1f77b4;stroke-width:1.5;\"/>\r\n    <path clip-path=\"url(#p52601dbdb9)\" d=\"M 393.387821 395.332636 \r\nL 393.387821 292.19904 \r\n\" style=\"fill:none;stroke:#1f77b4;stroke-width:1.5;\"/>\r\n    <path clip-path=\"url(#p52601dbdb9)\" d=\"M 398.727534 395.332636 \r\nL 398.727534 294.347656 \r\n\" style=\"fill:none;stroke:#1f77b4;stroke-width:1.5;\"/>\r\n    <path clip-path=\"url(#p52601dbdb9)\" d=\"M 404.067247 395.332636 \r\nL 404.067247 294.347656 \r\n\" style=\"fill:none;stroke:#1f77b4;stroke-width:1.5;\"/>\r\n    <path clip-path=\"url(#p52601dbdb9)\" d=\"M 409.40696 395.332636 \r\nL 409.40696 294.347656 \r\n\" style=\"fill:none;stroke:#1f77b4;stroke-width:1.5;\"/>\r\n    <path clip-path=\"url(#p52601dbdb9)\" d=\"M 414.746673 395.332636 \r\nL 414.746673 296.496273 \r\n\" style=\"fill:none;stroke:#1f77b4;stroke-width:1.5;\"/>\r\n    <path clip-path=\"url(#p52601dbdb9)\" d=\"M 420.086386 395.332636 \r\nL 420.086386 296.496273 \r\n\" style=\"fill:none;stroke:#1f77b4;stroke-width:1.5;\"/>\r\n    <path clip-path=\"url(#p52601dbdb9)\" d=\"M 425.426099 395.332636 \r\nL 425.426099 298.644889 \r\n\" style=\"fill:none;stroke:#1f77b4;stroke-width:1.5;\"/>\r\n    <path clip-path=\"url(#p52601dbdb9)\" d=\"M 430.765812 395.332636 \r\nL 430.765812 298.644889 \r\n\" style=\"fill:none;stroke:#1f77b4;stroke-width:1.5;\"/>\r\n    <path clip-path=\"url(#p52601dbdb9)\" d=\"M 436.105525 395.332636 \r\nL 436.105525 298.644889 \r\n\" style=\"fill:none;stroke:#1f77b4;stroke-width:1.5;\"/>\r\n    <path clip-path=\"url(#p52601dbdb9)\" d=\"M 441.445238 395.332636 \r\nL 441.445238 300.793506 \r\n\" style=\"fill:none;stroke:#1f77b4;stroke-width:1.5;\"/>\r\n    <path clip-path=\"url(#p52601dbdb9)\" d=\"M 446.784951 395.332636 \r\nL 446.784951 307.239356 \r\n\" style=\"fill:none;stroke:#1f77b4;stroke-width:1.5;\"/>\r\n    <path clip-path=\"url(#p52601dbdb9)\" d=\"M 452.124664 395.332636 \r\nL 452.124664 309.387972 \r\n\" style=\"fill:none;stroke:#1f77b4;stroke-width:1.5;\"/>\r\n    <path clip-path=\"url(#p52601dbdb9)\" d=\"M 457.464376 395.332636 \r\nL 457.464376 309.387972 \r\n\" style=\"fill:none;stroke:#1f77b4;stroke-width:1.5;\"/>\r\n    <path clip-path=\"url(#p52601dbdb9)\" d=\"M 462.804089 395.332636 \r\nL 462.804089 309.387972 \r\n\" style=\"fill:none;stroke:#1f77b4;stroke-width:1.5;\"/>\r\n    <path clip-path=\"url(#p52601dbdb9)\" d=\"M 468.143802 395.332636 \r\nL 468.143802 309.387972 \r\n\" style=\"fill:none;stroke:#1f77b4;stroke-width:1.5;\"/>\r\n    <path clip-path=\"url(#p52601dbdb9)\" d=\"M 473.483515 395.332636 \r\nL 473.483515 309.387972 \r\n\" style=\"fill:none;stroke:#1f77b4;stroke-width:1.5;\"/>\r\n    <path clip-path=\"url(#p52601dbdb9)\" d=\"M 478.823228 395.332636 \r\nL 478.823228 311.536589 \r\n\" style=\"fill:none;stroke:#1f77b4;stroke-width:1.5;\"/>\r\n    <path clip-path=\"url(#p52601dbdb9)\" d=\"M 484.162941 395.332636 \r\nL 484.162941 311.536589 \r\n\" style=\"fill:none;stroke:#1f77b4;stroke-width:1.5;\"/>\r\n    <path clip-path=\"url(#p52601dbdb9)\" d=\"M 489.502654 395.332636 \r\nL 489.502654 313.685206 \r\n\" style=\"fill:none;stroke:#1f77b4;stroke-width:1.5;\"/>\r\n    <path clip-path=\"url(#p52601dbdb9)\" d=\"M 494.842367 395.332636 \r\nL 494.842367 313.685206 \r\n\" style=\"fill:none;stroke:#1f77b4;stroke-width:1.5;\"/>\r\n    <path clip-path=\"url(#p52601dbdb9)\" d=\"M 500.18208 395.332636 \r\nL 500.18208 313.685206 \r\n\" style=\"fill:none;stroke:#1f77b4;stroke-width:1.5;\"/>\r\n    <path clip-path=\"url(#p52601dbdb9)\" d=\"M 505.521793 395.332636 \r\nL 505.521793 317.982439 \r\n\" style=\"fill:none;stroke:#1f77b4;stroke-width:1.5;\"/>\r\n    <path clip-path=\"url(#p52601dbdb9)\" d=\"M 510.861506 395.332636 \r\nL 510.861506 317.982439 \r\n\" style=\"fill:none;stroke:#1f77b4;stroke-width:1.5;\"/>\r\n    <path clip-path=\"url(#p52601dbdb9)\" d=\"M 516.201219 395.332636 \r\nL 516.201219 320.131055 \r\n\" style=\"fill:none;stroke:#1f77b4;stroke-width:1.5;\"/>\r\n    <path clip-path=\"url(#p52601dbdb9)\" d=\"M 521.540932 395.332636 \r\nL 521.540932 320.131055 \r\n\" style=\"fill:none;stroke:#1f77b4;stroke-width:1.5;\"/>\r\n    <path clip-path=\"url(#p52601dbdb9)\" d=\"M 526.880644 395.332636 \r\nL 526.880644 320.131055 \r\n\" style=\"fill:none;stroke:#1f77b4;stroke-width:1.5;\"/>\r\n    <path clip-path=\"url(#p52601dbdb9)\" d=\"M 532.220357 395.332636 \r\nL 532.220357 322.279672 \r\n\" style=\"fill:none;stroke:#1f77b4;stroke-width:1.5;\"/>\r\n    <path clip-path=\"url(#p52601dbdb9)\" d=\"M 537.56007 395.332636 \r\nL 537.56007 322.279672 \r\n\" style=\"fill:none;stroke:#1f77b4;stroke-width:1.5;\"/>\r\n    <path clip-path=\"url(#p52601dbdb9)\" d=\"M 542.899783 395.332636 \r\nL 542.899783 322.279672 \r\n\" style=\"fill:none;stroke:#1f77b4;stroke-width:1.5;\"/>\r\n    <path clip-path=\"url(#p52601dbdb9)\" d=\"M 548.239496 395.332636 \r\nL 548.239496 322.279672 \r\n\" style=\"fill:none;stroke:#1f77b4;stroke-width:1.5;\"/>\r\n    <path clip-path=\"url(#p52601dbdb9)\" d=\"M 553.579209 395.332636 \r\nL 553.579209 324.428289 \r\n\" style=\"fill:none;stroke:#1f77b4;stroke-width:1.5;\"/>\r\n    <path clip-path=\"url(#p52601dbdb9)\" d=\"M 558.918922 395.332636 \r\nL 558.918922 324.428289 \r\n\" style=\"fill:none;stroke:#1f77b4;stroke-width:1.5;\"/>\r\n    <path clip-path=\"url(#p52601dbdb9)\" d=\"M 564.258635 395.332636 \r\nL 564.258635 324.428289 \r\n\" style=\"fill:none;stroke:#1f77b4;stroke-width:1.5;\"/>\r\n    <path clip-path=\"url(#p52601dbdb9)\" d=\"M 569.598348 395.332636 \r\nL 569.598348 324.428289 \r\n\" style=\"fill:none;stroke:#1f77b4;stroke-width:1.5;\"/>\r\n    <path clip-path=\"url(#p52601dbdb9)\" d=\"M 574.938061 395.332636 \r\nL 574.938061 326.576905 \r\n\" style=\"fill:none;stroke:#1f77b4;stroke-width:1.5;\"/>\r\n    <path clip-path=\"url(#p52601dbdb9)\" d=\"M 580.277774 395.332636 \r\nL 580.277774 328.725522 \r\n\" style=\"fill:none;stroke:#1f77b4;stroke-width:1.5;\"/>\r\n    <path clip-path=\"url(#p52601dbdb9)\" d=\"M 585.617487 395.332636 \r\nL 585.617487 328.725522 \r\n\" style=\"fill:none;stroke:#1f77b4;stroke-width:1.5;\"/>\r\n    <path clip-path=\"url(#p52601dbdb9)\" d=\"M 590.957199 395.332636 \r\nL 590.957199 330.874138 \r\n\" style=\"fill:none;stroke:#1f77b4;stroke-width:1.5;\"/>\r\n    <path clip-path=\"url(#p52601dbdb9)\" d=\"M 596.296912 395.332636 \r\nL 596.296912 333.022755 \r\n\" style=\"fill:none;stroke:#1f77b4;stroke-width:1.5;\"/>\r\n    <path clip-path=\"url(#p52601dbdb9)\" d=\"M 601.636625 395.332636 \r\nL 601.636625 333.022755 \r\n\" style=\"fill:none;stroke:#1f77b4;stroke-width:1.5;\"/>\r\n    <path clip-path=\"url(#p52601dbdb9)\" d=\"M 606.976338 395.332636 \r\nL 606.976338 333.022755 \r\n\" style=\"fill:none;stroke:#1f77b4;stroke-width:1.5;\"/>\r\n    <path clip-path=\"url(#p52601dbdb9)\" d=\"M 612.316051 395.332636 \r\nL 612.316051 333.022755 \r\n\" style=\"fill:none;stroke:#1f77b4;stroke-width:1.5;\"/>\r\n   </g>\r\n   <g id=\"patch_3\">\r\n    <path d=\"M 79.679688 412.629 \r\nL 79.679688 32.109 \r\n\" style=\"fill:none;stroke:#000000;stroke-linecap:square;stroke-linejoin:miter;stroke-width:0.8;\"/>\r\n   </g>\r\n   <g id=\"patch_4\">\r\n    <path d=\"M 637.679688 412.629 \r\nL 637.679688 32.109 \r\n\" style=\"fill:none;stroke:#000000;stroke-linecap:square;stroke-linejoin:miter;stroke-width:0.8;\"/>\r\n   </g>\r\n   <g id=\"patch_5\">\r\n    <path d=\"M 79.679688 412.629 \r\nL 637.679688 412.629 \r\n\" style=\"fill:none;stroke:#000000;stroke-linecap:square;stroke-linejoin:miter;stroke-width:0.8;\"/>\r\n   </g>\r\n   <g id=\"patch_6\">\r\n    <path d=\"M 79.679688 32.109 \r\nL 637.679688 32.109 \r\n\" style=\"fill:none;stroke:#000000;stroke-linecap:square;stroke-linejoin:miter;stroke-width:0.8;\"/>\r\n   </g>\r\n   <g id=\"text_15\">\r\n    <!-- Shotgun II -->\r\n    <g transform=\"translate(290.831687 26.109)scale(0.264 -0.264)\">\r\n     <defs>\r\n      <path d=\"M 3.609375 63.328125 \r\nL 3.609375 67.53125 \r\nQ 8.34375 68.171875 10.984375 69.015625 \r\nQ 13.625 69.875 16.5 71.625 \r\nL 20.3125 71.625 \r\nL 20.3125 39.359375 \r\nQ 25.828125 44 30.75 46.140625 \r\nQ 35.6875 48.296875 40.1875 48.296875 \r\nQ 46.734375 48.296875 50.984375 44.390625 \r\nQ 55.171875 40.484375 55.171875 34.859375 \r\nL 55.171875 10.890625 \r\nQ 55.171875 7.328125 55.734375 6.21875 \r\nQ 56.296875 5.125 57.609375 4.609375 \r\nQ 58.9375 4.109375 63.53125 4.109375 \r\nL 63.53125 0 \r\nL 38.328125 0 \r\nL 38.328125 4.109375 \r\nL 40.1875 4.109375 \r\nQ 43.75 4.109375 44.875 4.65625 \r\nQ 46 5.21875 46.5 6.515625 \r\nQ 47.015625 7.8125 47.015625 11.859375 \r\nL 47.015625 28.515625 \r\nQ 47.015625 34.03125 46.625 35.6875 \r\nQ 45.90625 38.53125 43.609375 40.234375 \r\nQ 41.3125 41.9375 37.75 41.9375 \r\nQ 33.734375 41.9375 29.359375 39.953125 \r\nQ 25 37.984375 20.3125 34.03125 \r\nL 20.3125 9.578125 \r\nQ 20.3125 6.84375 20.796875 5.90625 \r\nQ 21.296875 4.984375 22.40625 4.546875 \r\nQ 23.53125 4.109375 26.90625 4.109375 \r\nL 28.90625 4.109375 \r\nL 28.90625 0 \r\nL 3.609375 0 \r\nL 3.609375 4.109375 \r\nL 5.125 4.109375 \r\nQ 8.6875 4.109375 10.296875 4.984375 \r\nQ 11.1875 5.421875 11.578125 6.6875 \r\nQ 11.96875 7.953125 11.96875 13.71875 \r\nL 11.96875 63.328125 \r\nz\r\n\" id=\"BookmanOldStyle-104\"/>\r\n      <path d=\"M 41.359375 43.265625 \r\nQ 43.5625 45.84375 45.828125 47.0625 \r\nQ 48.09375 48.296875 50 48.296875 \r\nQ 51.765625 48.296875 52.953125 47.234375 \r\nQ 54.15625 46.1875 54.15625 44.671875 \r\nQ 54.15625 43.109375 53.078125 42.03125 \r\nQ 52 40.96875 50.34375 40.96875 \r\nQ 49.65625 40.96875 48.484375 41.21875 \r\nQ 47.125 41.546875 46.1875 41.546875 \r\nQ 44.96875 41.546875 43.65625 40.4375 \r\nQ 46.6875 36.765625 46.6875 31.84375 \r\nQ 46.6875 25.09375 41.015625 20.15625 \r\nQ 35.359375 15.234375 26.703125 15.234375 \r\nQ 21.921875 15.234375 17.09375 17.234375 \r\nQ 13.875 14.9375 13.421875 14.40625 \r\nQ 12.75 13.578125 12.75 12.640625 \r\nQ 12.75 11.234375 14.203125 10.296875 \r\nQ 16.0625 9.078125 21.53125 8.25 \r\nL 35.640625 6.15625 \r\nQ 40.328125 5.421875 45.0625 3.703125 \r\nQ 49.8125 2 51.921875 -0.734375 \r\nQ 54.046875 -3.46875 54.046875 -7.28125 \r\nQ 54.046875 -13.71875 48.09375 -17.578125 \r\nQ 40.53125 -22.515625 25.640625 -22.515625 \r\nQ 17.828125 -22.515625 12.9375 -20.84375 \r\nQ 8.0625 -19.1875 5.375 -16.15625 \r\nQ 3.421875 -13.96875 3.421875 -11.625 \r\nQ 3.421875 -8.59375 5.390625 -5.703125 \r\nQ 7.375 -2.828125 14.546875 2.484375 \r\nQ 9.90625 3.65625 7.90625 5.21875 \r\nQ 5.375 7.234375 5.375 9.765625 \r\nQ 5.375 11.03125 5.828125 12.125 \r\nQ 6.296875 13.234375 7.34375 14.328125 \r\nQ 8.40625 15.4375 11.1875 17.390625 \r\nQ 12.9375 18.609375 13.671875 19.1875 \r\nQ 10.109375 21.734375 8.296875 24.875 \r\nQ 6.5 28.03125 6.5 31.78125 \r\nQ 6.5 37.984375 11.28125 42.625 \r\nQ 17.09375 48.296875 26.953125 48.296875 \r\nQ 31.34375 48.296875 34.609375 47.1875 \r\nQ 37.890625 46.09375 41.359375 43.265625 \r\nz\r\nM 26.515625 43.75 \r\nQ 21.734375 43.75 18.40625 40.28125 \r\nQ 15.09375 36.8125 15.09375 31.6875 \r\nQ 15.09375 28.265625 16.59375 25.5 \r\nQ 18.109375 22.75 20.84375 21.15625 \r\nQ 23.578125 19.578125 26.609375 19.578125 \r\nQ 29.640625 19.578125 32.390625 21.1875 \r\nQ 35.15625 22.796875 36.640625 25.53125 \r\nQ 38.140625 28.265625 38.140625 31.6875 \r\nQ 38.140625 37.0625 34.890625 40.40625 \r\nQ 31.640625 43.75 26.515625 43.75 \r\nz\r\nM 18.75 1.375 \r\nQ 14.0625 -2.640625 12.515625 -5.125 \r\nQ 10.984375 -7.625 10.984375 -9.90625 \r\nQ 10.984375 -11.859375 12.515625 -13.6875 \r\nQ 14.0625 -15.53125 17.765625 -16.703125 \r\nQ 21.484375 -17.875 27.09375 -17.875 \r\nQ 33.734375 -17.875 38.5 -16.421875 \r\nQ 43.265625 -14.984375 45.3125 -12.75 \r\nQ 46.828125 -10.984375 46.828125 -8.59375 \r\nQ 46.828125 -6.546875 45.578125 -5.125 \r\nQ 44.34375 -3.71875 40.890625 -2.65625 \r\nQ 37.453125 -1.609375 34.46875 -1.125 \r\nz\r\n\" id=\"BookmanOldStyle-103\"/>\r\n      <path d=\"M 3.953125 68.109375 \r\nL 30.03125 68.109375 \r\nL 30.03125 63.96875 \r\nL 28.03125 63.96875 \r\nQ 25.203125 63.96875 23.921875 63.1875 \r\nQ 22.65625 62.40625 22.0625 60.953125 \r\nQ 21.484375 59.515625 21.484375 55.375 \r\nL 21.484375 11.46875 \r\nQ 21.484375 8.15625 22.109375 6.765625 \r\nQ 22.75 5.375 23.890625 4.734375 \r\nQ 25.046875 4.109375 28.03125 4.109375 \r\nL 30.03125 4.109375 \r\nL 30.03125 0 \r\nL 3.953125 0 \r\nL 3.953125 4.109375 \r\nL 6.109375 4.109375 \r\nQ 8.984375 4.109375 10.171875 4.765625 \r\nQ 11.375 5.421875 11.90625 6.65625 \r\nQ 12.453125 7.90625 12.453125 11.46875 \r\nL 12.453125 56.390625 \r\nQ 12.453125 60.15625 11.90625 61.453125 \r\nQ 11.375 62.75 10.171875 63.359375 \r\nQ 8.984375 63.96875 6.109375 63.96875 \r\nL 3.953125 63.96875 \r\nz\r\n\" id=\"BookmanOldStyle-73\"/>\r\n     </defs>\r\n     <use xlink:href=\"#BookmanOldStyle-83\"/>\r\n     <use x=\"66.015625\" xlink:href=\"#BookmanOldStyle-104\"/>\r\n     <use x=\"132.03125\" xlink:href=\"#BookmanOldStyle-111\"/>\r\n     <use x=\"188.037109\" xlink:href=\"#BookmanOldStyle-116\"/>\r\n     <use x=\"226.025391\" xlink:href=\"#BookmanOldStyle-103\"/>\r\n     <use x=\"280.029297\" xlink:href=\"#BookmanOldStyle-117\"/>\r\n     <use x=\"348.046875\" xlink:href=\"#BookmanOldStyle-110\"/>\r\n     <use x=\"414.0625\" xlink:href=\"#BookmanOldStyle-32\"/>\r\n     <use x=\"446.044922\" xlink:href=\"#BookmanOldStyle-73\"/>\r\n     <use x=\"480.029297\" xlink:href=\"#BookmanOldStyle-73\"/>\r\n    </g>\r\n   </g>\r\n   <g id=\"legend_1\">\r\n    <g id=\"patch_7\">\r\n     <path d=\"M 285.693437 113.130875 \r\nL 622.279688 113.130875 \r\nQ 626.679688 113.130875 626.679688 108.730875 \r\nL 626.679688 47.509 \r\nQ 626.679688 43.109 622.279688 43.109 \r\nL 285.693437 43.109 \r\nQ 281.293437 43.109 281.293437 47.509 \r\nL 281.293437 108.730875 \r\nQ 281.293437 113.130875 285.693437 113.130875 \r\nz\r\n\" style=\"fill:#ffffff;opacity:0.8;stroke:#cccccc;stroke-linejoin:miter;\"/>\r\n    </g>\r\n    <g id=\"line2d_13\">\r\n     <path d=\"M 290.093437 59.9665 \r\nL 334.093437 59.9665 \r\n\" style=\"fill:none;stroke:#ff0000;stroke-width:1.5;\"/>\r\n    </g>\r\n    <g id=\"text_16\">\r\n     <!-- Diversity threshold = 0 -->\r\n     <g transform=\"translate(351.693437 67.6665)scale(0.22 -0.22)\">\r\n      <defs>\r\n       <path d=\"M 4.734375 63.96875 \r\nL 4.734375 68.109375 \r\nL 29.046875 68.109375 \r\nQ 45.75 68.109375 52.34375 66.015625 \r\nQ 62.0625 62.9375 68.109375 54.546875 \r\nQ 74.8125 45.265625 74.8125 33.203125 \r\nQ 74.8125 25 71.515625 17.9375 \r\nQ 68.21875 10.890625 62.84375 6.59375 \r\nQ 58.40625 2.984375 52.15625 1.484375 \r\nQ 45.90625 0 39.546875 0 \r\nL 4.734375 0 \r\nL 4.734375 4.109375 \r\nL 7.5625 4.109375 \r\nL 8.5 4.046875 \r\nQ 10.296875 4.046875 11.4375 4.78125 \r\nQ 12.59375 5.515625 13.09375 6.734375 \r\nQ 13.421875 7.671875 13.421875 11.03125 \r\nL 13.421875 56.59375 \r\nQ 13.421875 60.453125 12.9375 61.578125 \r\nQ 12.25 63.09375 10.75 63.671875 \r\nQ 9.859375 63.96875 4.734375 63.96875 \r\nz\r\nM 22.515625 5.28125 \r\nL 37.25 5.28125 \r\nQ 39.453125 5.28125 44.546875 6.0625 \r\nQ 49.65625 6.84375 51.859375 7.953125 \r\nQ 55.078125 9.625 58.109375 13.3125 \r\nQ 61.140625 17 62.765625 22.140625 \r\nQ 64.40625 27.296875 64.40625 33.9375 \r\nQ 64.40625 40.53125 62.765625 45.359375 \r\nQ 61.140625 50.203125 57.84375 54.046875 \r\nQ 54.546875 57.90625 50.515625 59.9375 \r\nQ 46.484375 61.96875 41.5 62.5 \r\nQ 38.8125 62.75 32.515625 62.75 \r\nL 22.515625 62.75 \r\nz\r\n\" id=\"BookmanOldStyle-68\"/>\r\n       <path d=\"M 0 47.125 \r\nL 22.359375 47.125 \r\nL 22.359375 43.015625 \r\nL 21 43.015625 \r\nQ 18.21875 43.015625 17.53125 42.828125 \r\nQ 16.546875 42.53125 16.0625 41.890625 \r\nQ 15.578125 41.265625 15.578125 40.375 \r\nQ 15.578125 39.15625 16.65625 36.421875 \r\nL 27.78125 8.640625 \r\nL 38.578125 36.421875 \r\nQ 39.59375 39.109375 39.59375 40.328125 \r\nQ 39.59375 41.609375 38.609375 42.3125 \r\nQ 37.640625 43.015625 35.109375 43.015625 \r\nL 32.765625 43.015625 \r\nL 32.765625 47.125 \r\nL 52.046875 47.125 \r\nL 52.046875 43.015625 \r\nQ 50.046875 42.96875 48.703125 42.375 \r\nQ 47.359375 41.796875 46.59375 40.859375 \r\nQ 45.84375 39.9375 44.34375 36.421875 \r\nL 28.765625 0 \r\nL 22.90625 0 \r\nL 7.234375 37.25 \r\nQ 6.25 39.546875 5.078125 41.015625 \r\nQ 4.296875 41.9375 3 42.46875 \r\nQ 1.703125 43.015625 0 43.015625 \r\nz\r\n\" id=\"BookmanOldStyle-118\"/>\r\n       <path d=\"M 36.671875 47.125 \r\nL 40.09375 47.125 \r\nL 44.484375 32.171875 \r\nL 40.09375 30.71875 \r\nQ 37.453125 36.71875 32.6875 40.15625 \r\nQ 27.9375 43.609375 23.046875 43.609375 \r\nQ 19.28125 43.609375 16.9375 41.765625 \r\nQ 14.59375 39.9375 14.59375 37.546875 \r\nQ 14.59375 35.296875 16.3125 33.6875 \r\nQ 17.96875 32.03125 23.78125 29.9375 \r\nL 33.296875 26.5625 \r\nQ 41.359375 23.6875 44.28125 20.40625 \r\nQ 47.171875 17.09375 47.171875 12.890625 \r\nQ 47.171875 9.328125 45.015625 6.03125 \r\nQ 42.875 2.734375 38.796875 0.78125 \r\nQ 34.71875 -1.171875 29.4375 -1.171875 \r\nQ 21.234375 -1.171875 15.375 3.515625 \r\nL 14.359375 0 \r\nL 10.890625 0 \r\nL 4.78125 15.96875 \r\nL 9.234375 17.71875 \r\nQ 13.671875 10.6875 17.625 7.765625 \r\nQ 23.140625 3.609375 29.546875 3.609375 \r\nQ 33.796875 3.609375 36.53125 5.875 \r\nQ 39.265625 8.15625 39.265625 10.9375 \r\nQ 39.265625 13.234375 37.546875 15.140625 \r\nQ 35.796875 17 30.8125 18.75 \r\nL 19.53125 22.859375 \r\nQ 12.25 25.484375 9.421875 28.609375 \r\nQ 6.59375 31.734375 6.59375 35.796875 \r\nQ 6.59375 40.71875 11.203125 44.5 \r\nQ 15.828125 48.296875 22.953125 48.296875 \r\nQ 26.65625 48.296875 29.578125 47.34375 \r\nQ 32.515625 46.390625 35.359375 44.1875 \r\nz\r\n\" id=\"BookmanOldStyle-115\"/>\r\n       <path d=\"M -0.53125 47.125 \r\nL 23.1875 47.125 \r\nL 23.1875 43.015625 \r\nL 21.234375 43.015625 \r\nQ 18.453125 43.015625 17.921875 42.875 \r\nQ 17.28125 42.671875 16.84375 42.0625 \r\nQ 16.40625 41.453125 16.40625 40.53125 \r\nQ 16.40625 39.203125 17.71875 36.078125 \r\nL 29.046875 9.46875 \r\nL 39.546875 34.90625 \r\nQ 41.40625 39.40625 41.40625 40.875 \r\nQ 41.40625 42 40.578125 42.5 \r\nQ 39.75 43.015625 36.8125 43.015625 \r\nL 34.515625 43.015625 \r\nL 34.515625 47.125 \r\nL 54.5 47.125 \r\nL 54.5 43.015625 \r\nL 53.328125 43.015625 \r\nQ 50.390625 43.015625 49.515625 42.625 \r\nQ 48.640625 42.234375 47.796875 41.03125 \r\nQ 46.96875 39.84375 45.171875 35.59375 \r\nL 27.25 -6.15625 \r\nQ 25.296875 -10.640625 22.90625 -14.46875 \r\nQ 20.515625 -18.3125 16.890625 -20.40625 \r\nQ 13.28125 -22.515625 8.9375 -22.515625 \r\nQ 3.90625 -22.515625 0.875 -20.21875 \r\nQ -1.703125 -18.265625 -1.703125 -15.328125 \r\nQ -1.703125 -13.53125 -0.578125 -12.328125 \r\nQ 0.53125 -11.140625 2.046875 -11.140625 \r\nQ 3.21875 -11.140625 4.25 -11.625 \r\nQ 4.890625 -11.859375 6.890625 -13.671875 \r\nQ 9.328125 -15.828125 10.328125 -16.3125 \r\nQ 11.328125 -16.796875 12.3125 -16.796875 \r\nQ 14.3125 -16.796875 16.265625 -15.421875 \r\nQ 18.21875 -14.0625 19.578125 -11.578125 \r\nQ 21.53125 -8.015625 22.796875 -4.890625 \r\nL 24.8125 0 \r\nL 8.6875 36.078125 \r\nQ 6.984375 39.890625 5.8125 41.203125 \r\nQ 4.640625 42.53125 3.46875 42.828125 \r\nQ 2.828125 43.015625 -0.53125 43.015625 \r\nz\r\n\" id=\"BookmanOldStyle-121\"/>\r\n       <path d=\"M 53.8125 44.734375 \r\nL 53.8125 38.71875 \r\nL 6.203125 38.71875 \r\nL 6.203125 44.734375 \r\nz\r\nM 53.8125 29.390625 \r\nL 53.8125 23.390625 \r\nL 6.203125 23.390625 \r\nL 6.203125 29.390625 \r\nz\r\n\" id=\"BookmanOldStyle-61\"/>\r\n      </defs>\r\n      <use xlink:href=\"#BookmanOldStyle-68\"/>\r\n      <use x=\"79.980469\" xlink:href=\"#BookmanOldStyle-105\"/>\r\n      <use x=\"109.960938\" xlink:href=\"#BookmanOldStyle-118\"/>\r\n      <use x=\"161.962891\" xlink:href=\"#BookmanOldStyle-101\"/>\r\n      <use x=\"213.964844\" xlink:href=\"#BookmanOldStyle-114\"/>\r\n      <use x=\"257.958984\" xlink:href=\"#BookmanOldStyle-115\"/>\r\n      <use x=\"309.960938\" xlink:href=\"#BookmanOldStyle-105\"/>\r\n      <use x=\"339.941406\" xlink:href=\"#BookmanOldStyle-116\"/>\r\n      <use x=\"377.929688\" xlink:href=\"#BookmanOldStyle-121\"/>\r\n      <use x=\"431.933594\" xlink:href=\"#BookmanOldStyle-32\"/>\r\n      <use x=\"463.916016\" xlink:href=\"#BookmanOldStyle-116\"/>\r\n      <use x=\"501.904297\" xlink:href=\"#BookmanOldStyle-104\"/>\r\n      <use x=\"567.919922\" xlink:href=\"#BookmanOldStyle-114\"/>\r\n      <use x=\"611.914062\" xlink:href=\"#BookmanOldStyle-101\"/>\r\n      <use x=\"663.916016\" xlink:href=\"#BookmanOldStyle-115\"/>\r\n      <use x=\"715.917969\" xlink:href=\"#BookmanOldStyle-104\"/>\r\n      <use x=\"781.933594\" xlink:href=\"#BookmanOldStyle-111\"/>\r\n      <use x=\"837.939453\" xlink:href=\"#BookmanOldStyle-108\"/>\r\n      <use x=\"867.919922\" xlink:href=\"#BookmanOldStyle-100\"/>\r\n      <use x=\"929.931641\" xlink:href=\"#BookmanOldStyle-32\"/>\r\n      <use x=\"961.914062\" xlink:href=\"#BookmanOldStyle-61\"/>\r\n      <use x=\"1021.923828\" xlink:href=\"#BookmanOldStyle-32\"/>\r\n      <use x=\"1053.90625\" xlink:href=\"#BookmanOldStyle-48\"/>\r\n     </g>\r\n    </g>\r\n    <g id=\"line2d_14\">\r\n     <path d=\"M 290.093437 91.677437 \r\nL 334.093437 91.677437 \r\n\" style=\"fill:none;stroke:#1f77b4;stroke-width:1.5;\"/>\r\n    </g>\r\n    <g id=\"text_17\">\r\n     <!-- Diversity threshold = 0.2 -->\r\n     <g transform=\"translate(351.693437 99.377437)scale(0.22 -0.22)\">\r\n      <defs>\r\n       <path d=\"M 15.96875 11.375 \r\nQ 18.5625 11.375 20.34375 9.59375 \r\nQ 22.125 7.8125 22.125 5.28125 \r\nQ 22.125 2.734375 20.3125 0.953125 \r\nQ 18.5 -0.828125 15.96875 -0.828125 \r\nQ 13.484375 -0.828125 11.671875 0.953125 \r\nQ 9.859375 2.734375 9.859375 5.28125 \r\nQ 9.859375 7.8125 11.640625 9.59375 \r\nQ 13.421875 11.375 15.96875 11.375 \r\nz\r\n\" id=\"BookmanOldStyle-46\"/>\r\n      </defs>\r\n      <use xlink:href=\"#BookmanOldStyle-68\"/>\r\n      <use x=\"79.980469\" xlink:href=\"#BookmanOldStyle-105\"/>\r\n      <use x=\"109.960938\" xlink:href=\"#BookmanOldStyle-118\"/>\r\n      <use x=\"161.962891\" xlink:href=\"#BookmanOldStyle-101\"/>\r\n      <use x=\"213.964844\" xlink:href=\"#BookmanOldStyle-114\"/>\r\n      <use x=\"257.958984\" xlink:href=\"#BookmanOldStyle-115\"/>\r\n      <use x=\"309.960938\" xlink:href=\"#BookmanOldStyle-105\"/>\r\n      <use x=\"339.941406\" xlink:href=\"#BookmanOldStyle-116\"/>\r\n      <use x=\"377.929688\" xlink:href=\"#BookmanOldStyle-121\"/>\r\n      <use x=\"431.933594\" xlink:href=\"#BookmanOldStyle-32\"/>\r\n      <use x=\"463.916016\" xlink:href=\"#BookmanOldStyle-116\"/>\r\n      <use x=\"501.904297\" xlink:href=\"#BookmanOldStyle-104\"/>\r\n      <use x=\"567.919922\" xlink:href=\"#BookmanOldStyle-114\"/>\r\n      <use x=\"611.914062\" xlink:href=\"#BookmanOldStyle-101\"/>\r\n      <use x=\"663.916016\" xlink:href=\"#BookmanOldStyle-115\"/>\r\n      <use x=\"715.917969\" xlink:href=\"#BookmanOldStyle-104\"/>\r\n      <use x=\"781.933594\" xlink:href=\"#BookmanOldStyle-111\"/>\r\n      <use x=\"837.939453\" xlink:href=\"#BookmanOldStyle-108\"/>\r\n      <use x=\"867.919922\" xlink:href=\"#BookmanOldStyle-100\"/>\r\n      <use x=\"929.931641\" xlink:href=\"#BookmanOldStyle-32\"/>\r\n      <use x=\"961.914062\" xlink:href=\"#BookmanOldStyle-61\"/>\r\n      <use x=\"1021.923828\" xlink:href=\"#BookmanOldStyle-32\"/>\r\n      <use x=\"1053.90625\" xlink:href=\"#BookmanOldStyle-48\"/>\r\n      <use x=\"1115.917969\" xlink:href=\"#BookmanOldStyle-46\"/>\r\n      <use x=\"1147.900391\" xlink:href=\"#BookmanOldStyle-50\"/>\r\n     </g>\r\n    </g>\r\n   </g>\r\n  </g>\r\n </g>\r\n <defs>\r\n  <clipPath id=\"p52601dbdb9\">\r\n   <rect height=\"380.52\" width=\"558\" x=\"79.679688\" y=\"32.109\"/>\r\n  </clipPath>\r\n </defs>\r\n</svg>\r\n",
      "text/plain": [
       "<Figure size 720x504 with 1 Axes>"
      ]
     },
     "metadata": {
      "needs_background": "light"
     },
     "output_type": "display_data"
    }
   ],
   "source": [
    "font = {'family' : 'Bookman Old Style',\n",
    "        'weight' : 'normal',\n",
    "        'size'   : 22}\n",
    "plt.rc('font', **font)\n",
    "plt.figure(figsize=(10,7))\n",
    "plt.vlines(range(96), 0, counts00, colors=\"r\")\n",
    "plt.vlines(range(96), 0, counts02)\n",
    "plt.xlabel(\"Well Number\")\n",
    "plt.ylabel(\"Condition count in NRSCC\")\n",
    "plt.title(\"Shotgun II\")\n",
    "plt.legend([\"Diversity threshold = 0\", \"Diversity threshold = 0.2\"])\n",
    "plt.savefig(\"generated/screen/SGII.png\", transparent=False)"
   ]
  },
  {
   "cell_type": "code",
   "execution_count": 31,
   "metadata": {},
   "outputs": [],
   "source": [
    "cutoffs, totalhits = np.load(\"generated/cutoffs_totalhits.npy\", allow_pickle=True)"
   ]
  },
  {
   "cell_type": "code",
   "execution_count": 34,
   "metadata": {},
   "outputs": [
    {
     "data": {
      "image/png": "[encoded data removed]",
      "image/svg+xml": "<?xml version=\"1.0\" encoding=\"utf-8\" standalone=\"no\"?>\r\n<!DOCTYPE svg PUBLIC \"-//W3C//DTD SVG 1.1//EN\"\r\n  \"http://www.w3.org/Graphics/SVG/1.1/DTD/svg11.dtd\">\r\n<!-- Created with matplotlib (https://matplotlib.org/) -->\r\n<svg height=\"472.089312pt\" version=\"1.1\" viewBox=\"0 0 658.523125 472.089312\" width=\"658.523125pt\" xmlns=\"http://www.w3.org/2000/svg\" xmlns:xlink=\"http://www.w3.org/1999/xlink\">\r\n <metadata>\r\n  <rdf:RDF xmlns:cc=\"http://creativecommons.org/ns#\" xmlns:dc=\"http://purl.org/dc/elements/1.1/\" xmlns:rdf=\"http://www.w3.org/1999/02/22-rdf-syntax-ns#\">\r\n   <cc:Work>\r\n    <dc:type rdf:resource=\"http://purl.org/dc/dcmitype/StillImage\"/>\r\n    <dc:date>2021-04-26T17:45:37.183550</dc:date>\r\n    <dc:format>image/svg+xml</dc:format>\r\n    <dc:creator>\r\n     <cc:Agent>\r\n      <dc:title>Matplotlib v3.3.4, https://matplotlib.org/</dc:title>\r\n     </cc:Agent>\r\n    </dc:creator>\r\n   </cc:Work>\r\n  </rdf:RDF>\r\n </metadata>\r\n <defs>\r\n  <style type=\"text/css\">*{stroke-linecap:butt;stroke-linejoin:round;}</style>\r\n </defs>\r\n <g id=\"figure_1\">\r\n  <g id=\"patch_1\">\r\n   <path d=\"M 0 472.089312 \r\nL 658.523125 472.089312 \r\nL 658.523125 0 \r\nL 0 0 \r\nz\r\n\" style=\"fill:none;\"/>\r\n  </g>\r\n  <g id=\"axes_1\">\r\n   <g id=\"patch_2\">\r\n    <path d=\"M 93.323125 412.629 \r\nL 651.323125 412.629 \r\nL 651.323125 32.109 \r\nL 93.323125 32.109 \r\nz\r\n\" style=\"fill:#ffffff;\"/>\r\n   </g>\r\n   <g id=\"matplotlib.axis_1\">\r\n    <g id=\"xtick_1\">\r\n     <g id=\"line2d_1\">\r\n      <defs>\r\n       <path d=\"M 0 0 \r\nL 0 3.5 \r\n\" id=\"m8fc59dfde6\" style=\"stroke:#000000;stroke-width:0.8;\"/>\r\n      </defs>\r\n      <g>\r\n       <use style=\"stroke:#000000;stroke-width:0.8;\" x=\"118.686761\" xlink:href=\"#m8fc59dfde6\" y=\"412.629\"/>\r\n      </g>\r\n     </g>\r\n     <g id=\"text_1\">\r\n      <!-- 0.0 -->\r\n      <g transform=\"translate(101.525043 435.3865)scale(0.22 -0.22)\">\r\n       <defs>\r\n        <path d=\"M 31.15625 69.28125 \r\nQ 38.671875 69.28125 44.28125 65.453125 \r\nQ 49.90625 61.625 53.421875 53.421875 \r\nQ 56.9375 45.21875 56.9375 33.546875 \r\nQ 56.9375 16.265625 48.296875 6.640625 \r\nQ 41.265625 -1.171875 30.515625 -1.171875 \r\nQ 23.25 -1.171875 17.625 2.703125 \r\nQ 12.015625 6.59375 8.546875 14.359375 \r\nQ 5.078125 22.125 5.078125 34.078125 \r\nQ 5.078125 46.140625 8.46875 53.75 \r\nQ 11.859375 61.375 17.71875 65.328125 \r\nQ 23.578125 69.28125 31.15625 69.28125 \r\nz\r\nM 30.90625 64.453125 \r\nQ 25.828125 64.453125 21.96875 60.75 \r\nQ 18.609375 57.515625 16.65625 50.59375 \r\nQ 14.40625 42.671875 14.40625 33.109375 \r\nQ 14.40625 25.6875 15.796875 19.65625 \r\nQ 17.1875 13.625 19.484375 10.28125 \r\nQ 21.78125 6.9375 24.6875 5.328125 \r\nQ 27.59375 3.71875 30.8125 3.71875 \r\nQ 35.640625 3.71875 39.84375 7.46875 \r\nQ 43.21875 10.546875 45.171875 16.65625 \r\nQ 47.515625 24.078125 47.515625 34.078125 \r\nQ 47.515625 44.4375 45.109375 51.65625 \r\nQ 42.71875 58.890625 39.234375 61.671875 \r\nQ 35.75 64.453125 30.90625 64.453125 \r\nz\r\n\" id=\"BookmanOldStyle-48\"/>\r\n        <path d=\"M 15.96875 11.375 \r\nQ 18.5625 11.375 20.34375 9.59375 \r\nQ 22.125 7.8125 22.125 5.28125 \r\nQ 22.125 2.734375 20.3125 0.953125 \r\nQ 18.5 -0.828125 15.96875 -0.828125 \r\nQ 13.484375 -0.828125 11.671875 0.953125 \r\nQ 9.859375 2.734375 9.859375 5.28125 \r\nQ 9.859375 7.8125 11.640625 9.59375 \r\nQ 13.421875 11.375 15.96875 11.375 \r\nz\r\n\" id=\"BookmanOldStyle-46\"/>\r\n       </defs>\r\n       <use xlink:href=\"#BookmanOldStyle-48\"/>\r\n       <use x=\"62.011719\" xlink:href=\"#BookmanOldStyle-46\"/>\r\n       <use x=\"93.994141\" xlink:href=\"#BookmanOldStyle-48\"/>\r\n      </g>\r\n     </g>\r\n    </g>\r\n    <g id=\"xtick_2\">\r\n     <g id=\"line2d_2\">\r\n      <g>\r\n       <use style=\"stroke:#000000;stroke-width:0.8;\" x=\"220.141307\" xlink:href=\"#m8fc59dfde6\" y=\"412.629\"/>\r\n      </g>\r\n     </g>\r\n     <g id=\"text_2\">\r\n      <!-- 0.1 -->\r\n      <g transform=\"translate(202.979588 435.3865)scale(0.22 -0.22)\">\r\n       <defs>\r\n        <path d=\"M 33.59375 68.109375 \r\nL 37.25 68.109375 \r\nL 37.25 11.578125 \r\nQ 37.25 7.5625 37.765625 6.421875 \r\nQ 38.28125 5.28125 39.453125 4.6875 \r\nQ 40.625 4.109375 44.09375 4.109375 \r\nL 48.875 4.109375 \r\nL 48.875 0 \r\nL 16.703125 0 \r\nL 16.703125 4.109375 \r\nL 22.015625 4.109375 \r\nQ 25.484375 4.109375 26.625 4.71875 \r\nQ 27.78125 5.328125 28.40625 6.671875 \r\nQ 29.046875 8.015625 29.046875 11.578125 \r\nL 29.046875 58.0625 \r\nL 16.703125 58.0625 \r\nL 16.703125 62.25 \r\nQ 26.8125 63.671875 33.59375 68.109375 \r\nz\r\n\" id=\"BookmanOldStyle-49\"/>\r\n       </defs>\r\n       <use xlink:href=\"#BookmanOldStyle-48\"/>\r\n       <use x=\"62.011719\" xlink:href=\"#BookmanOldStyle-46\"/>\r\n       <use x=\"93.994141\" xlink:href=\"#BookmanOldStyle-49\"/>\r\n      </g>\r\n     </g>\r\n    </g>\r\n    <g id=\"xtick_3\">\r\n     <g id=\"line2d_3\">\r\n      <g>\r\n       <use style=\"stroke:#000000;stroke-width:0.8;\" x=\"321.595852\" xlink:href=\"#m8fc59dfde6\" y=\"412.629\"/>\r\n      </g>\r\n     </g>\r\n     <g id=\"text_3\">\r\n      <!-- 0.2 -->\r\n      <g transform=\"translate(304.434134 435.3865)scale(0.22 -0.22)\">\r\n       <defs>\r\n        <path d=\"M 11.328125 42.4375 \r\nL 6.59375 41.84375 \r\nQ 6.203125 45.3125 6.203125 47.515625 \r\nQ 6.203125 53.265625 9.328125 58.390625 \r\nQ 12.453125 63.53125 18.046875 66.40625 \r\nQ 23.640625 69.28125 30.859375 69.28125 \r\nQ 37.84375 69.28125 43.109375 66.578125 \r\nQ 48.390625 63.875 51.1875 59.15625 \r\nQ 54 54.4375 54 48.390625 \r\nQ 54 43.265625 52.171875 38.890625 \r\nQ 50.34375 34.515625 46.296875 30.078125 \r\nQ 43.265625 26.765625 34.03125 19.921875 \r\nQ 22.40625 11.234375 16.21875 7.328125 \r\nL 41.609375 7.328125 \r\nQ 46.09375 7.328125 47.46875 8.15625 \r\nQ 49.359375 9.234375 50.046875 13.140625 \r\nL 50.484375 15.921875 \r\nL 54.640625 15.921875 \r\nL 51.3125 -2.4375 \r\nL 48.1875 -2.4375 \r\nL 47.65625 0 \r\nL 4.984375 0 \r\nL 4.984375 4.109375 \r\nL 12.796875 10.015625 \r\nQ 21.6875 16.609375 25.828125 20.125 \r\nQ 33.6875 26.765625 37.671875 31.46875 \r\nQ 41.65625 36.1875 43.140625 39.96875 \r\nQ 44.625 43.75 44.625 47.90625 \r\nQ 44.625 54.78125 40.203125 59.171875 \r\nQ 35.796875 63.578125 28.71875 63.578125 \r\nQ 23.640625 63.578125 19.65625 61.375 \r\nQ 15.671875 59.1875 13.375 55.21875 \r\nQ 11.078125 51.265625 11.078125 46.6875 \r\nQ 11.078125 44.96875 11.328125 42.4375 \r\nz\r\n\" id=\"BookmanOldStyle-50\"/>\r\n       </defs>\r\n       <use xlink:href=\"#BookmanOldStyle-48\"/>\r\n       <use x=\"62.011719\" xlink:href=\"#BookmanOldStyle-46\"/>\r\n       <use x=\"93.994141\" xlink:href=\"#BookmanOldStyle-50\"/>\r\n      </g>\r\n     </g>\r\n    </g>\r\n    <g id=\"xtick_4\">\r\n     <g id=\"line2d_4\">\r\n      <g>\r\n       <use style=\"stroke:#000000;stroke-width:0.8;\" x=\"423.050398\" xlink:href=\"#m8fc59dfde6\" y=\"412.629\"/>\r\n      </g>\r\n     </g>\r\n     <g id=\"text_4\">\r\n      <!-- 0.3 -->\r\n      <g transform=\"translate(405.888679 435.3865)scale(0.22 -0.22)\">\r\n       <defs>\r\n        <path d=\"M 13.234375 49.90625 \r\nL 8.546875 50.640625 \r\nQ 9.1875 55.90625 11.28125 59.375 \r\nQ 14.0625 64.0625 19.140625 66.671875 \r\nQ 24.21875 69.28125 30.8125 69.28125 \r\nQ 37.3125 69.28125 42.234375 66.96875 \r\nQ 47.171875 64.65625 49.6875 60.8125 \r\nQ 52.203125 56.984375 52.203125 52.546875 \r\nQ 52.203125 48.640625 50.296875 45.5625 \r\nQ 48.390625 42.484375 44.625 40.046875 \r\nQ 42 38.328125 37.75 37.0625 \r\nQ 42.28125 36.421875 45.171875 34.96875 \r\nQ 49.859375 32.5625 52.53125 28.359375 \r\nQ 55.21875 24.171875 55.21875 19.140625 \r\nQ 55.21875 11.078125 48.140625 4.953125 \r\nQ 41.0625 -1.171875 29.828125 -1.171875 \r\nQ 18.75 -1.171875 11.1875 4.734375 \r\nQ 4.828125 9.765625 4.828125 14.84375 \r\nQ 4.828125 16.84375 6.125 18.1875 \r\nQ 7.421875 19.53125 9.375 19.53125 \r\nQ 11.53125 19.53125 13.03125 17.875 \r\nQ 13.875 16.9375 14.9375 13.421875 \r\nQ 16.453125 8.5 20.0625 5.90625 \r\nQ 23.6875 3.328125 29.046875 3.328125 \r\nQ 33.84375 3.328125 37.625 5.421875 \r\nQ 41.40625 7.515625 43.59375 11.375 \r\nQ 45.796875 15.234375 45.796875 19.828125 \r\nQ 45.796875 23.53125 44.203125 26.484375 \r\nQ 42.625 29.4375 39.703125 31.5 \r\nQ 37.453125 33.109375 33.953125 33.734375 \r\nQ 30.46875 34.375 27.6875 34.375 \r\nL 23.140625 34.375 \r\nL 23.140625 39.109375 \r\nL 26.03125 39.109375 \r\nQ 30.328125 39.109375 34.234375 40.109375 \r\nQ 38.140625 41.109375 40.484375 44.234375 \r\nQ 42.828125 47.359375 42.828125 51.3125 \r\nQ 42.828125 54.734375 41.1875 57.46875 \r\nQ 39.546875 60.203125 36.375 61.8125 \r\nQ 33.203125 63.421875 29.046875 63.421875 \r\nQ 25 63.421875 21.609375 61.765625 \r\nQ 18.21875 60.109375 16.15625 57.328125 \r\nQ 14.109375 54.546875 13.234375 49.90625 \r\nz\r\n\" id=\"BookmanOldStyle-51\"/>\r\n       </defs>\r\n       <use xlink:href=\"#BookmanOldStyle-48\"/>\r\n       <use x=\"62.011719\" xlink:href=\"#BookmanOldStyle-46\"/>\r\n       <use x=\"93.994141\" xlink:href=\"#BookmanOldStyle-51\"/>\r\n      </g>\r\n     </g>\r\n    </g>\r\n    <g id=\"xtick_5\">\r\n     <g id=\"line2d_5\">\r\n      <g>\r\n       <use style=\"stroke:#000000;stroke-width:0.8;\" x=\"524.504943\" xlink:href=\"#m8fc59dfde6\" y=\"412.629\"/>\r\n      </g>\r\n     </g>\r\n     <g id=\"text_5\">\r\n      <!-- 0.4 -->\r\n      <g transform=\"translate(507.343224 435.3865)scale(0.22 -0.22)\">\r\n       <defs>\r\n        <path d=\"M 36.234375 68.109375 \r\nL 44.484375 68.109375 \r\nL 44.484375 28.515625 \r\nL 57.28125 28.515625 \r\nL 57.28125 22.40625 \r\nL 44.484375 22.40625 \r\nL 44.484375 0 \r\nL 36.234375 0 \r\nL 36.234375 22.40625 \r\nL 4.15625 22.40625 \r\nL 4.15625 31 \r\nz\r\nM 36.234375 28.515625 \r\nL 36.234375 60.546875 \r\nL 8.59375 28.515625 \r\nz\r\n\" id=\"BookmanOldStyle-52\"/>\r\n       </defs>\r\n       <use xlink:href=\"#BookmanOldStyle-48\"/>\r\n       <use x=\"62.011719\" xlink:href=\"#BookmanOldStyle-46\"/>\r\n       <use x=\"93.994141\" xlink:href=\"#BookmanOldStyle-52\"/>\r\n      </g>\r\n     </g>\r\n    </g>\r\n    <g id=\"xtick_6\">\r\n     <g id=\"line2d_6\">\r\n      <g>\r\n       <use style=\"stroke:#000000;stroke-width:0.8;\" x=\"625.959489\" xlink:href=\"#m8fc59dfde6\" y=\"412.629\"/>\r\n      </g>\r\n     </g>\r\n     <g id=\"text_6\">\r\n      <!-- 0.5 -->\r\n      <g transform=\"translate(608.79777 435.3865)scale(0.22 -0.22)\">\r\n       <defs>\r\n        <path d=\"M 13.421875 68.109375 \r\nL 43.796875 68.109375 \r\nQ 46.578125 68.109375 47.171875 68.40625 \r\nQ 48 68.890625 48.140625 70.515625 \r\nL 51.703125 70.515625 \r\nL 51.703125 60.203125 \r\nL 17.96875 60.203125 \r\nL 17.140625 43.015625 \r\nQ 19.234375 43.609375 22.46875 44 \r\nQ 26.609375 44.484375 29.890625 44.484375 \r\nQ 38.03125 44.484375 44.078125 41.546875 \r\nQ 50.140625 38.625 53.296875 33.515625 \r\nQ 56.453125 28.421875 56.453125 22.125 \r\nQ 56.453125 12.359375 49.125 5.59375 \r\nQ 41.796875 -1.171875 30.46875 -1.171875 \r\nQ 23.921875 -1.171875 18.625 1.171875 \r\nQ 13.328125 3.515625 10.34375 7.34375 \r\nQ 7.375 11.1875 7.375 14.0625 \r\nQ 7.375 15.96875 8.640625 17.359375 \r\nQ 9.90625 18.75 11.921875 18.75 \r\nQ 13.96875 18.75 15.53125 17.046875 \r\nQ 16.40625 16.15625 17.625 12.75 \r\nQ 19.28125 7.953125 22.5625 5.71875 \r\nQ 25.78125 3.421875 30.671875 3.421875 \r\nQ 35.546875 3.421875 39.359375 5.546875 \r\nQ 43.171875 7.671875 45.359375 11.640625 \r\nQ 47.5625 15.625 47.5625 20.515625 \r\nQ 47.5625 25.640625 45.1875 29.640625 \r\nQ 42.828125 33.640625 38.40625 35.828125 \r\nQ 33.984375 38.03125 27.640625 38.03125 \r\nQ 23.78125 38.03125 19.359375 37.203125 \r\nQ 14.9375 36.375 11.765625 35.109375 \r\nz\r\n\" id=\"BookmanOldStyle-53\"/>\r\n       </defs>\r\n       <use xlink:href=\"#BookmanOldStyle-48\"/>\r\n       <use x=\"62.011719\" xlink:href=\"#BookmanOldStyle-46\"/>\r\n       <use x=\"93.994141\" xlink:href=\"#BookmanOldStyle-53\"/>\r\n      </g>\r\n     </g>\r\n    </g>\r\n    <g id=\"text_7\">\r\n     <!-- Diversity Cutoff Threshold -->\r\n     <g transform=\"translate(230.875156 459.935875)scale(0.22 -0.22)\">\r\n      <defs>\r\n       <path d=\"M 4.734375 63.96875 \r\nL 4.734375 68.109375 \r\nL 29.046875 68.109375 \r\nQ 45.75 68.109375 52.34375 66.015625 \r\nQ 62.0625 62.9375 68.109375 54.546875 \r\nQ 74.8125 45.265625 74.8125 33.203125 \r\nQ 74.8125 25 71.515625 17.9375 \r\nQ 68.21875 10.890625 62.84375 6.59375 \r\nQ 58.40625 2.984375 52.15625 1.484375 \r\nQ 45.90625 0 39.546875 0 \r\nL 4.734375 0 \r\nL 4.734375 4.109375 \r\nL 7.5625 4.109375 \r\nL 8.5 4.046875 \r\nQ 10.296875 4.046875 11.4375 4.78125 \r\nQ 12.59375 5.515625 13.09375 6.734375 \r\nQ 13.421875 7.671875 13.421875 11.03125 \r\nL 13.421875 56.59375 \r\nQ 13.421875 60.453125 12.9375 61.578125 \r\nQ 12.25 63.09375 10.75 63.671875 \r\nQ 9.859375 63.96875 4.734375 63.96875 \r\nz\r\nM 22.515625 5.28125 \r\nL 37.25 5.28125 \r\nQ 39.453125 5.28125 44.546875 6.0625 \r\nQ 49.65625 6.84375 51.859375 7.953125 \r\nQ 55.078125 9.625 58.109375 13.3125 \r\nQ 61.140625 17 62.765625 22.140625 \r\nQ 64.40625 27.296875 64.40625 33.9375 \r\nQ 64.40625 40.53125 62.765625 45.359375 \r\nQ 61.140625 50.203125 57.84375 54.046875 \r\nQ 54.546875 57.90625 50.515625 59.9375 \r\nQ 46.484375 61.96875 41.5 62.5 \r\nQ 38.8125 62.75 32.515625 62.75 \r\nL 22.515625 62.75 \r\nz\r\n\" id=\"BookmanOldStyle-68\"/>\r\n       <path d=\"M 15.671875 70.3125 \r\nQ 18.015625 70.3125 19.671875 68.671875 \r\nQ 21.34375 67.046875 21.34375 64.703125 \r\nQ 21.34375 62.359375 19.671875 60.6875 \r\nQ 18.015625 59.03125 15.671875 59.03125 \r\nQ 13.328125 59.03125 11.671875 60.6875 \r\nQ 10.015625 62.359375 10.015625 64.703125 \r\nQ 10.015625 67.046875 11.671875 68.671875 \r\nQ 13.328125 70.3125 15.671875 70.3125 \r\nz\r\nM 3.21875 40.09375 \r\nL 3.21875 44.140625 \r\nQ 7.28125 44.625 10.03125 45.5 \r\nQ 12.796875 46.390625 16.3125 48.296875 \r\nL 19.875 48.296875 \r\nL 19.875 9.125 \r\nQ 19.875 7.078125 20.453125 6.046875 \r\nQ 21.046875 5.03125 22.09375 4.5625 \r\nQ 23.140625 4.109375 25.921875 4.109375 \r\nL 28.21875 4.109375 \r\nL 28.21875 0 \r\nL 3.21875 0 \r\nL 3.21875 4.109375 \r\nL 5.21875 4.109375 \r\nQ 8.5 4.109375 9.625 4.6875 \r\nQ 10.75 5.28125 11.203125 6.34375 \r\nQ 11.671875 7.421875 11.671875 11.375 \r\nL 11.671875 40.09375 \r\nz\r\n\" id=\"BookmanOldStyle-105\"/>\r\n       <path d=\"M 0 47.125 \r\nL 22.359375 47.125 \r\nL 22.359375 43.015625 \r\nL 21 43.015625 \r\nQ 18.21875 43.015625 17.53125 42.828125 \r\nQ 16.546875 42.53125 16.0625 41.890625 \r\nQ 15.578125 41.265625 15.578125 40.375 \r\nQ 15.578125 39.15625 16.65625 36.421875 \r\nL 27.78125 8.640625 \r\nL 38.578125 36.421875 \r\nQ 39.59375 39.109375 39.59375 40.328125 \r\nQ 39.59375 41.609375 38.609375 42.3125 \r\nQ 37.640625 43.015625 35.109375 43.015625 \r\nL 32.765625 43.015625 \r\nL 32.765625 47.125 \r\nL 52.046875 47.125 \r\nL 52.046875 43.015625 \r\nQ 50.046875 42.96875 48.703125 42.375 \r\nQ 47.359375 41.796875 46.59375 40.859375 \r\nQ 45.84375 39.9375 44.34375 36.421875 \r\nL 28.765625 0 \r\nL 22.90625 0 \r\nL 7.234375 37.25 \r\nQ 6.25 39.546875 5.078125 41.015625 \r\nQ 4.296875 41.9375 3 42.46875 \r\nQ 1.703125 43.015625 0 43.015625 \r\nz\r\n\" id=\"BookmanOldStyle-118\"/>\r\n       <path d=\"M 45.40625 12.59375 \r\nL 48.53125 10.0625 \r\nQ 44.96875 5.8125 41.625 3.3125 \r\nQ 38.28125 0.828125 35.296875 -0.171875 \r\nQ 32.328125 -1.171875 28.328125 -1.171875 \r\nQ 21.140625 -1.171875 16.109375 1.765625 \r\nQ 10.359375 5.125 7.28125 10.546875 \r\nQ 4.203125 15.96875 4.203125 23.34375 \r\nQ 4.203125 31.0625 7.171875 36.53125 \r\nQ 10.15625 42 15.5 45.140625 \r\nQ 20.84375 48.296875 27.875 48.296875 \r\nQ 33.109375 48.296875 36.96875 46.65625 \r\nQ 40.828125 45.015625 43.5 41.71875 \r\nQ 46.1875 38.421875 47.40625 34.1875 \r\nQ 48.09375 31.6875 48.1875 27.734375 \r\nL 13.671875 27.734375 \r\nQ 13.53125 25.34375 13.53125 24.171875 \r\nQ 13.53125 18.015625 15.671875 13.203125 \r\nQ 17.828125 8.40625 21.359375 6.125 \r\nQ 24.90625 3.859375 29.390625 3.859375 \r\nQ 33.203125 3.859375 36.765625 5.640625 \r\nQ 40.328125 7.421875 45.40625 12.59375 \r\nz\r\nM 39.15625 32.328125 \r\nQ 38.421875 36.8125 37.078125 38.953125 \r\nQ 35.75 41.109375 33.28125 42.375 \r\nQ 30.8125 43.65625 27.734375 43.65625 \r\nQ 24.65625 43.65625 21.96875 42.375 \r\nQ 19.28125 41.109375 17.5 38.859375 \r\nQ 15.71875 36.625 14.40625 32.328125 \r\nz\r\n\" id=\"BookmanOldStyle-101\"/>\r\n       <path d=\"M 3.515625 40.140625 \r\nL 3.515625 44.140625 \r\nQ 7.078125 44.4375 9.859375 45.328125 \r\nQ 12.640625 46.234375 16.21875 48.296875 \r\nL 19.875 48.296875 \r\nL 19.875 39.0625 \r\nQ 23.34375 43.3125 27.921875 45.796875 \r\nQ 32.515625 48.296875 36.1875 48.296875 \r\nQ 39.796875 48.296875 41.890625 46.578125 \r\nQ 44 44.875 44 42.4375 \r\nQ 44 40.671875 42.609375 39.328125 \r\nQ 41.21875 37.984375 39.265625 37.984375 \r\nQ 38.375 37.984375 37.734375 38.234375 \r\nQ 37.109375 38.484375 35.890625 39.3125 \r\nQ 33.203125 41.0625 31.390625 41.0625 \r\nQ 28.953125 41.0625 26.03125 39.015625 \r\nQ 22.3125 36.375 20.21875 33.84375 \r\nL 20.21875 11.328125 \r\nQ 20.21875 8.40625 20.53125 7.34375 \r\nQ 20.84375 6.296875 21.578125 5.53125 \r\nQ 22.3125 4.78125 23.390625 4.4375 \r\nQ 24.46875 4.109375 27.15625 4.109375 \r\nL 28.765625 4.109375 \r\nL 28.765625 0 \r\nL 3.515625 0 \r\nL 3.515625 4.109375 \r\nL 5.609375 4.109375 \r\nQ 8.59375 4.109375 9.515625 4.640625 \r\nQ 10.796875 5.375 11.40625 6.65625 \r\nQ 12.015625 7.953125 12.015625 11.328125 \r\nL 12.015625 40.140625 \r\nz\r\n\" id=\"BookmanOldStyle-114\"/>\r\n       <path d=\"M 36.671875 47.125 \r\nL 40.09375 47.125 \r\nL 44.484375 32.171875 \r\nL 40.09375 30.71875 \r\nQ 37.453125 36.71875 32.6875 40.15625 \r\nQ 27.9375 43.609375 23.046875 43.609375 \r\nQ 19.28125 43.609375 16.9375 41.765625 \r\nQ 14.59375 39.9375 14.59375 37.546875 \r\nQ 14.59375 35.296875 16.3125 33.6875 \r\nQ 17.96875 32.03125 23.78125 29.9375 \r\nL 33.296875 26.5625 \r\nQ 41.359375 23.6875 44.28125 20.40625 \r\nQ 47.171875 17.09375 47.171875 12.890625 \r\nQ 47.171875 9.328125 45.015625 6.03125 \r\nQ 42.875 2.734375 38.796875 0.78125 \r\nQ 34.71875 -1.171875 29.4375 -1.171875 \r\nQ 21.234375 -1.171875 15.375 3.515625 \r\nL 14.359375 0 \r\nL 10.890625 0 \r\nL 4.78125 15.96875 \r\nL 9.234375 17.71875 \r\nQ 13.671875 10.6875 17.625 7.765625 \r\nQ 23.140625 3.609375 29.546875 3.609375 \r\nQ 33.796875 3.609375 36.53125 5.875 \r\nQ 39.265625 8.15625 39.265625 10.9375 \r\nQ 39.265625 13.234375 37.546875 15.140625 \r\nQ 35.796875 17 30.8125 18.75 \r\nL 19.53125 22.859375 \r\nQ 12.25 25.484375 9.421875 28.609375 \r\nQ 6.59375 31.734375 6.59375 35.796875 \r\nQ 6.59375 40.71875 11.203125 44.5 \r\nQ 15.828125 48.296875 22.953125 48.296875 \r\nQ 26.65625 48.296875 29.578125 47.34375 \r\nQ 32.515625 46.390625 35.359375 44.1875 \r\nz\r\n\" id=\"BookmanOldStyle-115\"/>\r\n       <path d=\"M 16.453125 63.71875 \r\nL 19.921875 63.71875 \r\nL 19.921875 47.125 \r\nL 34.421875 47.125 \r\nL 34.421875 42.234375 \r\nL 19.921875 42.234375 \r\nL 19.921875 12.796875 \r\nQ 19.921875 9.03125 20.578125 7.421875 \r\nQ 21.234375 5.8125 22.828125 4.78125 \r\nQ 24.421875 3.765625 26.375 3.765625 \r\nQ 31 3.765625 36.625 7.90625 \r\nL 36.625 3.171875 \r\nQ 30.21875 -1.171875 23.6875 -1.171875 \r\nQ 19.96875 -1.171875 16.96875 0.484375 \r\nQ 13.96875 2.15625 12.859375 4.390625 \r\nQ 11.765625 6.640625 11.765625 12.203125 \r\nL 11.765625 42.234375 \r\nL 3.21875 42.234375 \r\nL 3.21875 46.34375 \r\nQ 7.328125 47.265625 9.84375 49.21875 \r\nQ 12.359375 51.171875 13.921875 54.296875 \r\nQ 15.484375 57.421875 16.453125 63.71875 \r\nz\r\n\" id=\"BookmanOldStyle-116\"/>\r\n       <path d=\"M -0.53125 47.125 \r\nL 23.1875 47.125 \r\nL 23.1875 43.015625 \r\nL 21.234375 43.015625 \r\nQ 18.453125 43.015625 17.921875 42.875 \r\nQ 17.28125 42.671875 16.84375 42.0625 \r\nQ 16.40625 41.453125 16.40625 40.53125 \r\nQ 16.40625 39.203125 17.71875 36.078125 \r\nL 29.046875 9.46875 \r\nL 39.546875 34.90625 \r\nQ 41.40625 39.40625 41.40625 40.875 \r\nQ 41.40625 42 40.578125 42.5 \r\nQ 39.75 43.015625 36.8125 43.015625 \r\nL 34.515625 43.015625 \r\nL 34.515625 47.125 \r\nL 54.5 47.125 \r\nL 54.5 43.015625 \r\nL 53.328125 43.015625 \r\nQ 50.390625 43.015625 49.515625 42.625 \r\nQ 48.640625 42.234375 47.796875 41.03125 \r\nQ 46.96875 39.84375 45.171875 35.59375 \r\nL 27.25 -6.15625 \r\nQ 25.296875 -10.640625 22.90625 -14.46875 \r\nQ 20.515625 -18.3125 16.890625 -20.40625 \r\nQ 13.28125 -22.515625 8.9375 -22.515625 \r\nQ 3.90625 -22.515625 0.875 -20.21875 \r\nQ -1.703125 -18.265625 -1.703125 -15.328125 \r\nQ -1.703125 -13.53125 -0.578125 -12.328125 \r\nQ 0.53125 -11.140625 2.046875 -11.140625 \r\nQ 3.21875 -11.140625 4.25 -11.625 \r\nQ 4.890625 -11.859375 6.890625 -13.671875 \r\nQ 9.328125 -15.828125 10.328125 -16.3125 \r\nQ 11.328125 -16.796875 12.3125 -16.796875 \r\nQ 14.3125 -16.796875 16.265625 -15.421875 \r\nQ 18.21875 -14.0625 19.578125 -11.578125 \r\nQ 21.53125 -8.015625 22.796875 -4.890625 \r\nL 24.8125 0 \r\nL 8.6875 36.078125 \r\nQ 6.984375 39.890625 5.8125 41.203125 \r\nQ 4.640625 42.53125 3.46875 42.828125 \r\nQ 2.828125 43.015625 -0.53125 43.015625 \r\nz\r\n\" id=\"BookmanOldStyle-121\"/>\r\n       <path id=\"BookmanOldStyle-32\"/>\r\n       <path d=\"M 58.984375 68.109375 \r\nL 62.5 68.109375 \r\nL 68.703125 45.40625 \r\nL 64.15625 44.140625 \r\nQ 60.5 52 58.59375 54.6875 \r\nQ 55.46875 59.03125 50.796875 61.5625 \r\nQ 46.140625 64.109375 40.53125 64.109375 \r\nQ 33.9375 64.109375 28.390625 60.5625 \r\nQ 22.859375 57.03125 19.40625 50.1875 \r\nQ 15.96875 43.359375 15.96875 34.8125 \r\nQ 15.96875 26.03125 19.453125 19.140625 \r\nQ 22.953125 12.25 28.90625 8.53125 \r\nQ 34.859375 4.828125 41.75 4.828125 \r\nQ 48.25 4.828125 55.03125 8.53125 \r\nQ 61.8125 12.25 66.796875 18.953125 \r\nL 70.703125 16.265625 \r\nQ 67.671875 11.765625 64.15625 8.640625 \r\nQ 58.59375 3.609375 52.578125 1.21875 \r\nQ 46.578125 -1.171875 39.40625 -1.171875 \r\nQ 23.53125 -1.171875 13.625 10.59375 \r\nQ 5.421875 20.359375 5.421875 33.84375 \r\nQ 5.421875 43.75 9.953125 51.78125 \r\nQ 14.5 59.8125 22.484375 64.546875 \r\nQ 30.46875 69.28125 39.703125 69.28125 \r\nQ 44.625 69.28125 48.84375 67.9375 \r\nQ 53.078125 66.609375 57.421875 63.625 \r\nz\r\n\" id=\"BookmanOldStyle-67\"/>\r\n       <path d=\"M 0.984375 47.125 \r\nL 19.484375 47.859375 \r\nL 19.484375 16.40625 \r\nQ 19.484375 12.25 20.625 9.8125 \r\nQ 21.78125 7.375 24.140625 6.03125 \r\nQ 26.515625 4.6875 29.6875 4.6875 \r\nQ 33.59375 4.6875 38.546875 6.78125 \r\nQ 43.5 8.890625 48.4375 13.03125 \r\nL 48.4375 35.796875 \r\nQ 48.4375 39.40625 47.890625 40.53125 \r\nQ 47.359375 41.65625 45.984375 42.328125 \r\nQ 44.625 43.015625 41.703125 43.015625 \r\nL 38.140625 43.015625 \r\nL 38.140625 47.125 \r\nL 56.640625 47.859375 \r\nL 56.640625 11.421875 \r\nQ 56.640625 7.90625 57.21875 6.5625 \r\nQ 57.8125 5.21875 58.953125 4.65625 \r\nQ 60.109375 4.109375 63.578125 4.109375 \r\nL 65.09375 4.109375 \r\nL 65.09375 0 \r\nL 48.875 -0.828125 \r\nL 48.875 8.203125 \r\nQ 42.1875 2.875 37.203125 0.84375 \r\nQ 32.234375 -1.171875 27.09375 -1.171875 \r\nQ 23.296875 -1.171875 20.484375 -0.140625 \r\nQ 17.671875 0.875 15.546875 2.921875 \r\nQ 13.421875 4.984375 12.296875 7.859375 \r\nQ 11.1875 10.75 11.1875 14.015625 \r\nL 11.1875 36.234375 \r\nQ 11.1875 39.203125 10.640625 40.40625 \r\nQ 10.109375 41.609375 8.859375 42.3125 \r\nQ 7.625 43.015625 5.46875 43.015625 \r\nL 0.984375 43.015625 \r\nz\r\n\" id=\"BookmanOldStyle-117\"/>\r\n       <path d=\"M 28.265625 48.296875 \r\nQ 35.453125 48.296875 40.703125 45.3125 \r\nQ 45.953125 42.328125 48.96875 36.609375 \r\nQ 52 30.90625 52 23.578125 \r\nQ 52 16.265625 48.890625 10.546875 \r\nQ 45.796875 4.828125 40.453125 1.828125 \r\nQ 35.109375 -1.171875 27.6875 -1.171875 \r\nQ 15.875 -1.171875 9.9375 6.203125 \r\nQ 4 13.578125 4 23.53125 \r\nQ 4 30.8125 7.078125 36.453125 \r\nQ 10.15625 42.09375 15.6875 45.1875 \r\nQ 21.234375 48.296875 28.265625 48.296875 \r\nz\r\nM 27.875 43.5625 \r\nQ 22.3125 43.5625 18.453125 39.15625 \r\nQ 13.578125 33.6875 13.578125 23.25 \r\nQ 13.578125 13.1875 17.71875 7.90625 \r\nQ 21.484375 3.21875 27.9375 3.21875 \r\nQ 32.078125 3.21875 35.328125 5.421875 \r\nQ 38.578125 7.625 40.578125 12.421875 \r\nQ 42.578125 17.234375 42.578125 23.734375 \r\nQ 42.578125 30.078125 40.4375 35.109375 \r\nQ 38.765625 39.109375 35.421875 41.328125 \r\nQ 32.078125 43.5625 27.875 43.5625 \r\nz\r\n\" id=\"BookmanOldStyle-111\"/>\r\n       <path d=\"M 3.328125 47.125 \r\nL 11.671875 47.125 \r\nL 11.671875 54.4375 \r\nQ 11.671875 62.015625 16.671875 66.8125 \r\nQ 21.6875 71.625 29.734375 71.625 \r\nQ 35.109375 71.625 38.109375 69.375 \r\nQ 41.109375 67.140625 41.109375 64.5 \r\nQ 41.109375 62.75 39.90625 61.546875 \r\nQ 38.71875 60.359375 36.921875 60.359375 \r\nQ 35.296875 60.359375 34.125 60.9375 \r\nQ 32.953125 61.53125 30.515625 63.875 \r\nQ 27.9375 66.3125 25.59375 66.3125 \r\nQ 23.96875 66.3125 22.671875 65.3125 \r\nQ 21.390625 64.3125 20.671875 62.375 \r\nQ 19.96875 60.453125 19.96875 56.453125 \r\nL 19.96875 47.125 \r\nL 29.15625 47.125 \r\nL 29.15625 42.140625 \r\nL 19.96875 42.140625 \r\nL 19.96875 10.453125 \r\nQ 19.96875 7.171875 20.453125 6.078125 \r\nQ 20.953125 4.984375 21.921875 4.546875 \r\nQ 22.90625 4.109375 26.46875 4.109375 \r\nL 28.46875 4.109375 \r\nL 28.46875 0 \r\nL 3.328125 0 \r\nL 3.328125 4.109375 \r\nL 4.828125 4.109375 \r\nQ 8.6875 4.109375 9.734375 4.59375 \r\nQ 10.796875 5.078125 11.25 6.171875 \r\nQ 11.71875 7.28125 11.671875 11.1875 \r\nL 11.671875 42.140625 \r\nL 3.328125 42.140625 \r\nz\r\n\" id=\"BookmanOldStyle-102\"/>\r\n       <path d=\"M 6.109375 70.40625 \r\nL 9.515625 70.40625 \r\nL 10.015625 68.109375 \r\nL 51.8125 68.109375 \r\nL 52.203125 70.40625 \r\nL 55.765625 70.40625 \r\nL 62.9375 50.390625 \r\nL 58.546875 48.828125 \r\nQ 55.375 56.84375 51.03125 60.078125 \r\nQ 46.6875 63.328125 39.890625 63.328125 \r\nQ 37.0625 63.328125 36.515625 63.109375 \r\nQ 35.984375 62.890625 35.765625 62.34375 \r\nQ 35.546875 61.8125 35.546875 58.9375 \r\nL 35.546875 11.671875 \r\nQ 35.546875 8.296875 35.90625 7.125 \r\nQ 36.28125 5.953125 36.953125 5.3125 \r\nQ 37.640625 4.6875 38.84375 4.421875 \r\nQ 40.046875 4.15625 44.1875 4.109375 \r\nL 44.1875 0 \r\nL 17.921875 0 \r\nL 17.921875 4.109375 \r\nQ 22.265625 4.15625 23.25 4.390625 \r\nQ 24.953125 4.890625 25.6875 6.25 \r\nQ 26.421875 7.625 26.421875 11.28125 \r\nL 26.421875 59.578125 \r\nQ 26.421875 61.8125 26.203125 62.296875 \r\nQ 25.984375 62.796875 25.359375 63.0625 \r\nQ 24.75 63.328125 22.859375 63.328125 \r\nQ 17.53125 63.328125 14.328125 61.953125 \r\nQ 11.140625 60.59375 8.296875 57.3125 \r\nQ 5.46875 54.046875 3.46875 48.828125 \r\nL -0.921875 50.390625 \r\nz\r\n\" id=\"BookmanOldStyle-84\"/>\r\n       <path d=\"M 3.609375 63.328125 \r\nL 3.609375 67.53125 \r\nQ 8.34375 68.171875 10.984375 69.015625 \r\nQ 13.625 69.875 16.5 71.625 \r\nL 20.3125 71.625 \r\nL 20.3125 39.359375 \r\nQ 25.828125 44 30.75 46.140625 \r\nQ 35.6875 48.296875 40.1875 48.296875 \r\nQ 46.734375 48.296875 50.984375 44.390625 \r\nQ 55.171875 40.484375 55.171875 34.859375 \r\nL 55.171875 10.890625 \r\nQ 55.171875 7.328125 55.734375 6.21875 \r\nQ 56.296875 5.125 57.609375 4.609375 \r\nQ 58.9375 4.109375 63.53125 4.109375 \r\nL 63.53125 0 \r\nL 38.328125 0 \r\nL 38.328125 4.109375 \r\nL 40.1875 4.109375 \r\nQ 43.75 4.109375 44.875 4.65625 \r\nQ 46 5.21875 46.5 6.515625 \r\nQ 47.015625 7.8125 47.015625 11.859375 \r\nL 47.015625 28.515625 \r\nQ 47.015625 34.03125 46.625 35.6875 \r\nQ 45.90625 38.53125 43.609375 40.234375 \r\nQ 41.3125 41.9375 37.75 41.9375 \r\nQ 33.734375 41.9375 29.359375 39.953125 \r\nQ 25 37.984375 20.3125 34.03125 \r\nL 20.3125 9.578125 \r\nQ 20.3125 6.84375 20.796875 5.90625 \r\nQ 21.296875 4.984375 22.40625 4.546875 \r\nQ 23.53125 4.109375 26.90625 4.109375 \r\nL 28.90625 4.109375 \r\nL 28.90625 0 \r\nL 3.609375 0 \r\nL 3.609375 4.109375 \r\nL 5.125 4.109375 \r\nQ 8.6875 4.109375 10.296875 4.984375 \r\nQ 11.1875 5.421875 11.578125 6.6875 \r\nQ 11.96875 7.953125 11.96875 13.71875 \r\nL 11.96875 63.328125 \r\nz\r\n\" id=\"BookmanOldStyle-104\"/>\r\n       <path d=\"M 3.078125 63.53125 \r\nL 3.078125 67.53125 \r\nQ 9.71875 68.015625 16.015625 71.625 \r\nL 19.625 71.625 \r\nL 19.625 11.53125 \r\nQ 19.625 7.71875 20.125 6.734375 \r\nQ 20.75 5.375 21.96875 4.734375 \r\nQ 23.1875 4.109375 26.65625 4.109375 \r\nL 28.21875 4.109375 \r\nL 28.21875 0 \r\nL 3.078125 0 \r\nL 3.078125 4.109375 \r\nL 5.609375 4.109375 \r\nQ 8.015625 4.109375 9.203125 4.828125 \r\nQ 10.40625 5.5625 10.90625 6.828125 \r\nQ 11.421875 8.109375 11.421875 11.921875 \r\nL 11.421875 63.53125 \r\nz\r\n\" id=\"BookmanOldStyle-108\"/>\r\n       <path d=\"M 34.03125 63.375 \r\nL 34.03125 67.53125 \r\nQ 37.359375 67.828125 40.109375 68.671875 \r\nQ 42.875 69.53125 47.015625 71.625 \r\nL 50.6875 71.625 \r\nL 50.6875 12.40625 \r\nQ 50.6875 8.296875 50.875 7.421875 \r\nQ 51.375 5.5625 52.546875 4.828125 \r\nQ 53.71875 4.109375 57.078125 4.109375 \r\nL 59.1875 4.109375 \r\nL 59.1875 0 \r\nL 42.234375 -0.78125 \r\nL 42.234375 6.984375 \r\nQ 37.359375 2.546875 33.078125 0.6875 \r\nQ 28.8125 -1.171875 24.515625 -1.171875 \r\nQ 15.671875 -1.171875 9.828125 5.921875 \r\nQ 4 13.03125 4 23.046875 \r\nQ 4 30.171875 7.09375 36.109375 \r\nQ 10.203125 42.046875 15.28125 45.171875 \r\nQ 20.359375 48.296875 26.421875 48.296875 \r\nQ 31.0625 48.296875 35.015625 46.671875 \r\nQ 38.96875 45.0625 42.234375 41.84375 \r\nL 42.234375 63.375 \r\nz\r\nM 42.234375 11.8125 \r\nL 42.234375 30.28125 \r\nQ 42.234375 34.234375 40.75 36.75 \r\nQ 39.265625 39.265625 35.859375 41.109375 \r\nQ 32.46875 42.96875 28.90625 42.96875 \r\nQ 24.65625 42.96875 21.0625 40.640625 \r\nQ 17.484375 38.328125 15.453125 33.953125 \r\nQ 13.421875 29.59375 13.421875 23.390625 \r\nQ 13.421875 17.53125 15.296875 13.25 \r\nQ 17.1875 8.984375 20.359375 6.765625 \r\nQ 23.53125 4.546875 26.859375 4.546875 \r\nQ 30.125 4.546875 34.265625 6.421875 \r\nQ 38.421875 8.296875 42.234375 11.8125 \r\nz\r\n\" id=\"BookmanOldStyle-100\"/>\r\n      </defs>\r\n      <use xlink:href=\"#BookmanOldStyle-68\"/>\r\n      <use x=\"79.980469\" xlink:href=\"#BookmanOldStyle-105\"/>\r\n      <use x=\"109.960938\" xlink:href=\"#BookmanOldStyle-118\"/>\r\n      <use x=\"161.962891\" xlink:href=\"#BookmanOldStyle-101\"/>\r\n      <use x=\"213.964844\" xlink:href=\"#BookmanOldStyle-114\"/>\r\n      <use x=\"257.958984\" xlink:href=\"#BookmanOldStyle-115\"/>\r\n      <use x=\"309.960938\" xlink:href=\"#BookmanOldStyle-105\"/>\r\n      <use x=\"339.941406\" xlink:href=\"#BookmanOldStyle-116\"/>\r\n      <use x=\"377.929688\" xlink:href=\"#BookmanOldStyle-121\"/>\r\n      <use x=\"431.933594\" xlink:href=\"#BookmanOldStyle-32\"/>\r\n      <use x=\"463.916016\" xlink:href=\"#BookmanOldStyle-67\"/>\r\n      <use x=\"537.890625\" xlink:href=\"#BookmanOldStyle-117\"/>\r\n      <use x=\"605.908203\" xlink:href=\"#BookmanOldStyle-116\"/>\r\n      <use x=\"643.896484\" xlink:href=\"#BookmanOldStyle-111\"/>\r\n      <use x=\"699.902344\" xlink:href=\"#BookmanOldStyle-102\"/>\r\n      <use x=\"731.884766\" xlink:href=\"#BookmanOldStyle-102\"/>\r\n      <use x=\"763.867188\" xlink:href=\"#BookmanOldStyle-32\"/>\r\n      <use x=\"795.849609\" xlink:href=\"#BookmanOldStyle-84\"/>\r\n      <use x=\"857.861328\" xlink:href=\"#BookmanOldStyle-104\"/>\r\n      <use x=\"923.876953\" xlink:href=\"#BookmanOldStyle-114\"/>\r\n      <use x=\"967.871094\" xlink:href=\"#BookmanOldStyle-101\"/>\r\n      <use x=\"1019.873047\" xlink:href=\"#BookmanOldStyle-115\"/>\r\n      <use x=\"1071.875\" xlink:href=\"#BookmanOldStyle-104\"/>\r\n      <use x=\"1137.890625\" xlink:href=\"#BookmanOldStyle-111\"/>\r\n      <use x=\"1193.896484\" xlink:href=\"#BookmanOldStyle-108\"/>\r\n      <use x=\"1223.876953\" xlink:href=\"#BookmanOldStyle-100\"/>\r\n     </g>\r\n    </g>\r\n   </g>\r\n   <g id=\"matplotlib.axis_2\">\r\n    <g id=\"ytick_1\">\r\n     <g id=\"line2d_7\">\r\n      <defs>\r\n       <path d=\"M 0 0 \r\nL -3.5 0 \r\n\" id=\"mb47c059391\" style=\"stroke:#000000;stroke-width:0.8;\"/>\r\n      </defs>\r\n      <g>\r\n       <use style=\"stroke:#000000;stroke-width:0.8;\" x=\"93.323125\" xlink:href=\"#mb47c059391\" y=\"384.717029\"/>\r\n      </g>\r\n     </g>\r\n     <g id=\"text_8\">\r\n      <!-- 3500 -->\r\n      <g transform=\"translate(31.749375 392.595779)scale(0.22 -0.22)\">\r\n       <use xlink:href=\"#BookmanOldStyle-51\"/>\r\n       <use x=\"62.011719\" xlink:href=\"#BookmanOldStyle-53\"/>\r\n       <use x=\"124.023438\" xlink:href=\"#BookmanOldStyle-48\"/>\r\n       <use x=\"186.035156\" xlink:href=\"#BookmanOldStyle-48\"/>\r\n      </g>\r\n     </g>\r\n    </g>\r\n    <g id=\"ytick_2\">\r\n     <g id=\"line2d_8\">\r\n      <g>\r\n       <use style=\"stroke:#000000;stroke-width:0.8;\" x=\"93.323125\" xlink:href=\"#mb47c059391\" y=\"313.94631\"/>\r\n      </g>\r\n     </g>\r\n     <g id=\"text_9\">\r\n      <!-- 4000 -->\r\n      <g transform=\"translate(31.749375 321.82506)scale(0.22 -0.22)\">\r\n       <use xlink:href=\"#BookmanOldStyle-52\"/>\r\n       <use x=\"62.011719\" xlink:href=\"#BookmanOldStyle-48\"/>\r\n       <use x=\"124.023438\" xlink:href=\"#BookmanOldStyle-48\"/>\r\n       <use x=\"186.035156\" xlink:href=\"#BookmanOldStyle-48\"/>\r\n      </g>\r\n     </g>\r\n    </g>\r\n    <g id=\"ytick_3\">\r\n     <g id=\"line2d_9\">\r\n      <g>\r\n       <use style=\"stroke:#000000;stroke-width:0.8;\" x=\"93.323125\" xlink:href=\"#mb47c059391\" y=\"243.175591\"/>\r\n      </g>\r\n     </g>\r\n     <g id=\"text_10\">\r\n      <!-- 4500 -->\r\n      <g transform=\"translate(31.749375 251.054341)scale(0.22 -0.22)\">\r\n       <use xlink:href=\"#BookmanOldStyle-52\"/>\r\n       <use x=\"62.011719\" xlink:href=\"#BookmanOldStyle-53\"/>\r\n       <use x=\"124.023438\" xlink:href=\"#BookmanOldStyle-48\"/>\r\n       <use x=\"186.035156\" xlink:href=\"#BookmanOldStyle-48\"/>\r\n      </g>\r\n     </g>\r\n    </g>\r\n    <g id=\"ytick_4\">\r\n     <g id=\"line2d_10\">\r\n      <g>\r\n       <use style=\"stroke:#000000;stroke-width:0.8;\" x=\"93.323125\" xlink:href=\"#mb47c059391\" y=\"172.404873\"/>\r\n      </g>\r\n     </g>\r\n     <g id=\"text_11\">\r\n      <!-- 5000 -->\r\n      <g transform=\"translate(31.749375 180.283623)scale(0.22 -0.22)\">\r\n       <use xlink:href=\"#BookmanOldStyle-53\"/>\r\n       <use x=\"62.011719\" xlink:href=\"#BookmanOldStyle-48\"/>\r\n       <use x=\"124.023438\" xlink:href=\"#BookmanOldStyle-48\"/>\r\n       <use x=\"186.035156\" xlink:href=\"#BookmanOldStyle-48\"/>\r\n      </g>\r\n     </g>\r\n    </g>\r\n    <g id=\"ytick_5\">\r\n     <g id=\"line2d_11\">\r\n      <g>\r\n       <use style=\"stroke:#000000;stroke-width:0.8;\" x=\"93.323125\" xlink:href=\"#mb47c059391\" y=\"101.634154\"/>\r\n      </g>\r\n     </g>\r\n     <g id=\"text_12\">\r\n      <!-- 5500 -->\r\n      <g transform=\"translate(31.749375 109.512904)scale(0.22 -0.22)\">\r\n       <use xlink:href=\"#BookmanOldStyle-53\"/>\r\n       <use x=\"62.011719\" xlink:href=\"#BookmanOldStyle-53\"/>\r\n       <use x=\"124.023438\" xlink:href=\"#BookmanOldStyle-48\"/>\r\n       <use x=\"186.035156\" xlink:href=\"#BookmanOldStyle-48\"/>\r\n      </g>\r\n     </g>\r\n    </g>\r\n    <g id=\"text_13\">\r\n     <!-- Total count in NRSCC -->\r\n     <g transform=\"translate(22.9575 340.718687)rotate(-90)scale(0.22 -0.22)\">\r\n      <defs>\r\n       <path d=\"M 38.71875 28.265625 \r\nL 38.71875 33.59375 \r\nQ 38.71875 39.015625 35.6875 41.328125 \r\nQ 32.671875 43.65625 27.15625 43.65625 \r\nQ 24.421875 43.65625 22.359375 42.984375 \r\nQ 20.3125 42.328125 19.0625 41.1875 \r\nQ 17.828125 40.046875 17.234375 38.578125 \r\nQ 17 38.03125 16.0625 34.421875 \r\nQ 14.9375 30.03125 11.53125 30.03125 \r\nQ 9.578125 30.03125 8.375 31.328125 \r\nQ 7.171875 32.625 7.171875 34.8125 \r\nQ 7.171875 38.03125 9.5625 41.125 \r\nQ 11.96875 44.234375 16.875 46.265625 \r\nQ 21.78125 48.296875 28.46875 48.296875 \r\nQ 34.71875 48.296875 39.15625 46.359375 \r\nQ 43.609375 44.4375 45.703125 40.828125 \r\nQ 47.171875 38.328125 47.171875 31.734375 \r\nL 47.171875 12.9375 \r\nQ 47.171875 8.9375 47.40625 7.71875 \r\nQ 47.953125 5.609375 49.296875 4.5625 \r\nQ 50.640625 3.515625 52.78125 3.515625 \r\nQ 55.03125 3.515625 58.15625 4.59375 \r\nL 58.15625 0.34375 \r\nQ 54.109375 -0.828125 50.875 -0.828125 \r\nQ 47.40625 -0.828125 45.03125 0.140625 \r\nQ 42.671875 1.125 41.15625 3 \r\nQ 39.65625 4.890625 39.203125 7.46875 \r\nQ 33.34375 2.875 28.609375 1.015625 \r\nQ 23.875 -0.828125 19.046875 -0.828125 \r\nQ 12.3125 -0.828125 8.109375 2.828125 \r\nQ 3.90625 6.5 3.90625 11.421875 \r\nQ 3.90625 14.40625 5.4375 17.09375 \r\nQ 6.984375 19.78125 10.125 21.828125 \r\nQ 13.28125 23.875 20.015625 25.4375 \r\nQ 26.765625 27 38.71875 28.265625 \r\nz\r\nM 38.71875 24.03125 \r\nQ 27.390625 22.359375 24.703125 21.734375 \r\nQ 19.390625 20.515625 17.09375 19.046875 \r\nQ 14.796875 17.578125 13.8125 15.890625 \r\nQ 12.84375 14.203125 12.84375 12.3125 \r\nQ 12.84375 10.40625 13.9375 8.625 \r\nQ 15.046875 6.84375 17.046875 5.8125 \r\nQ 19.046875 4.78125 21.296875 4.78125 \r\nQ 24.46875 4.78125 28.46875 6.296875 \r\nQ 32.46875 7.8125 38.71875 12.203125 \r\nz\r\n\" id=\"BookmanOldStyle-97\"/>\r\n       <path d=\"M 46.78125 13.625 \r\nL 49.90625 11.078125 \r\nQ 40.71875 -1.171875 27.875 -1.171875 \r\nQ 17.875 -1.171875 10.984375 5.953125 \r\nQ 4.109375 13.09375 4.109375 23.6875 \r\nQ 4.109375 30.765625 7.296875 36.40625 \r\nQ 10.5 42.046875 16.1875 45.171875 \r\nQ 21.875 48.296875 29.25 48.296875 \r\nQ 37.640625 48.296875 43.25 44.171875 \r\nQ 48.875 40.046875 48.875 35.84375 \r\nQ 48.875 33.59375 47.546875 32.375 \r\nQ 46.234375 31.15625 44.578125 31.15625 \r\nQ 43.703125 31.15625 42.875 31.59375 \r\nQ 42.046875 32.03125 41.15625 33.015625 \r\nQ 40.765625 33.453125 39.75 35.75 \r\nQ 38.421875 38.578125 37.703125 39.546875 \r\nQ 36.1875 41.5 33.953125 42.625 \r\nQ 31.734375 43.75 29 43.75 \r\nQ 24.859375 43.75 21.3125 41.453125 \r\nQ 17.78125 39.15625 15.703125 34.6875 \r\nQ 13.625 30.21875 13.625 24.03125 \r\nQ 13.625 14.40625 18.75 8.734375 \r\nQ 23.1875 3.859375 29.34375 3.859375 \r\nQ 32.171875 3.859375 35.078125 4.8125 \r\nQ 37.984375 5.765625 40.578125 7.625 \r\nQ 42.484375 8.9375 46.78125 13.625 \r\nz\r\n\" id=\"BookmanOldStyle-99\"/>\r\n       <path d=\"M 3.65625 40.09375 \r\nL 3.65625 44.1875 \r\nQ 8.015625 44.671875 10.15625 45.359375 \r\nQ 12.3125 46.046875 16.359375 48.296875 \r\nL 19.875 48.296875 \r\nL 19.875 39.015625 \r\nQ 26.3125 44.4375 30.875 46.359375 \r\nQ 35.453125 48.296875 40.140625 48.296875 \r\nQ 44.140625 48.296875 47.21875 46.953125 \r\nQ 50.296875 45.609375 52.21875 43.3125 \r\nQ 54.15625 41.015625 54.78125 38.09375 \r\nQ 55.171875 36.28125 55.171875 32.625 \r\nL 55.171875 11.140625 \r\nQ 55.171875 7.28125 55.734375 6.171875 \r\nQ 56.296875 5.078125 57.515625 4.59375 \r\nQ 58.734375 4.109375 63.53125 4.109375 \r\nL 63.53125 0 \r\nL 38.375 0 \r\nL 38.375 4.109375 \r\nL 39.75 4.109375 \r\nQ 43.265625 4.109375 44.53125 4.734375 \r\nQ 45.796875 5.375 46.359375 6.59375 \r\nQ 46.921875 7.8125 46.921875 11.578125 \r\nL 46.921875 29.546875 \r\nQ 46.921875 35.109375 46.015625 37.25 \r\nQ 45.125 39.40625 42.9375 40.75 \r\nQ 40.765625 42.09375 37.453125 42.09375 \r\nQ 33.5 42.09375 29 40.0625 \r\nQ 24.515625 38.03125 20.3125 34.078125 \r\nL 20.3125 11.578125 \r\nQ 20.3125 7.765625 20.875 6.484375 \r\nQ 21.4375 5.21875 22.703125 4.59375 \r\nQ 23.578125 4.109375 27.390625 4.109375 \r\nL 28.8125 4.109375 \r\nL 28.8125 0 \r\nL 3.65625 0 \r\nL 3.65625 4.109375 \r\nL 4.890625 4.109375 \r\nQ 8.5 4.109375 9.8125 4.71875 \r\nQ 11.140625 5.328125 11.671875 6.890625 \r\nQ 11.96875 7.671875 11.96875 12.25 \r\nL 11.96875 40.09375 \r\nz\r\n\" id=\"BookmanOldStyle-110\"/>\r\n       <path d=\"M 4.296875 68.109375 \r\nL 25.203125 68.109375 \r\nL 56.203125 17.046875 \r\nL 56.203125 55.90625 \r\nQ 56.203125 59.375 55.515625 60.890625 \r\nQ 54.828125 62.40625 53.453125 63.1875 \r\nQ 52.09375 63.96875 49.421875 63.96875 \r\nL 47.65625 63.96875 \r\nL 47.65625 68.109375 \r\nL 70.453125 68.109375 \r\nL 70.453125 63.96875 \r\nL 69.234375 63.96875 \r\nQ 66.21875 63.96875 65.140625 63.484375 \r\nQ 63.625 62.796875 62.859375 60.984375 \r\nQ 62.109375 59.1875 62.109375 55.90625 \r\nL 62.109375 0 \r\nL 56.203125 0 \r\nL 18.84375 61.375 \r\nL 18.84375 12.75 \r\nQ 18.84375 8.6875 19.09375 7.8125 \r\nQ 19.4375 6.6875 20.328125 5.75 \r\nQ 21.234375 4.828125 22.453125 4.484375 \r\nQ 23.6875 4.15625 27.390625 4.109375 \r\nL 27.390625 0 \r\nL 4.296875 0 \r\nL 4.296875 4.109375 \r\nL 5.515625 4.109375 \r\nQ 9.03125 4.109375 10.28125 4.78125 \r\nQ 11.53125 5.46875 12.203125 7.125 \r\nQ 12.890625 8.796875 12.890625 12.75 \r\nL 12.890625 55.90625 \r\nQ 12.890625 59.96875 12.703125 60.84375 \r\nQ 12.25 62.5 11 63.234375 \r\nQ 9.765625 63.96875 6.0625 63.96875 \r\nL 4.296875 63.96875 \r\nz\r\n\" id=\"BookmanOldStyle-78\"/>\r\n       <path d=\"M 4.828125 68.109375 \r\nL 39.984375 68.109375 \r\nQ 50 68.109375 55.125 66.03125 \r\nQ 60.25 63.96875 63 60.03125 \r\nQ 65.765625 56.109375 65.765625 50.921875 \r\nQ 65.765625 45.609375 63.078125 41.484375 \r\nQ 60.40625 37.359375 55.34375 34.984375 \r\nQ 50.296875 32.625 41.9375 32.515625 \r\nL 59.90625 10.546875 \r\nQ 62.109375 7.8125 62.796875 7.171875 \r\nQ 64.5 5.671875 66.375 4.890625 \r\nQ 68.265625 4.109375 70.609375 4.109375 \r\nL 71.828125 4.109375 \r\nL 71.828125 0 \r\nL 56.296875 0 \r\nL 31.296875 32.515625 \r\nL 22.5625 32.515625 \r\nL 22.5625 11.53125 \r\nQ 22.5625 8.015625 22.796875 7.125 \r\nQ 23.34375 5.46875 24.53125 4.78125 \r\nQ 25.734375 4.109375 29.203125 4.109375 \r\nL 30.953125 4.109375 \r\nL 30.953125 0 \r\nL 4.828125 0 \r\nL 4.828125 4.109375 \r\nL 7.171875 4.109375 \r\nQ 9.8125 4.109375 10.71875 4.4375 \r\nQ 11.625 4.78125 12.328125 5.640625 \r\nQ 13.03125 6.5 13.328125 7.8125 \r\nQ 13.421875 8.34375 13.484375 12.75 \r\nL 13.484375 57.375 \r\nQ 13.484375 60.296875 12.890625 61.5625 \r\nQ 12.3125 62.84375 11.25 63.40625 \r\nQ 10.203125 63.96875 7.625 63.96875 \r\nL 4.828125 63.96875 \r\nz\r\nM 22.5625 62.796875 \r\nL 22.5625 37.15625 \r\nL 36.578125 37.15625 \r\nQ 43.703125 37.15625 46.578125 38.03125 \r\nQ 50.6875 39.203125 53.046875 42.328125 \r\nQ 55.421875 45.453125 55.421875 50.296875 \r\nQ 55.421875 54.390625 53.703125 57.203125 \r\nQ 52 60.015625 49.046875 61.40625 \r\nQ 46.09375 62.796875 40.234375 62.796875 \r\nz\r\n\" id=\"BookmanOldStyle-82\"/>\r\n       <path d=\"M 50.59375 68.109375 \r\nL 54.109375 68.109375 \r\nL 59.328125 47.125 \r\nL 54.828125 45.75 \r\nQ 50.53125 54.59375 43.40625 59.671875 \r\nQ 37.546875 63.921875 30.421875 63.921875 \r\nQ 26.125 63.921875 22.703125 62.375 \r\nQ 19.28125 60.84375 17.578125 58.390625 \r\nQ 15.875 55.953125 15.875 53.421875 \r\nQ 15.875 51.125 17.1875 48.96875 \r\nQ 18.5 46.828125 21.1875 45.1875 \r\nQ 23.875 43.5625 29.984375 41.75 \r\nL 42.71875 37.984375 \r\nQ 45.0625 37.3125 49.53125 35.359375 \r\nQ 54 33.40625 56.484375 31.21875 \r\nQ 58.984375 29.046875 60.390625 25.890625 \r\nQ 61.8125 22.75 61.8125 19.09375 \r\nQ 61.8125 10.984375 54.703125 4.90625 \r\nQ 47.609375 -1.171875 36.328125 -1.171875 \r\nQ 30.515625 -1.171875 25.921875 0.515625 \r\nQ 21.34375 2.203125 16.015625 6.5 \r\nL 13.765625 0 \r\nL 10.359375 0 \r\nL 5.8125 24.46875 \r\nL 10.359375 25.390625 \r\nQ 12.84375 18.609375 16.96875 13.859375 \r\nQ 21.09375 9.125 26.09375 6.703125 \r\nQ 31.109375 4.296875 36.28125 4.296875 \r\nQ 43.3125 4.296875 48.578125 8.546875 \r\nQ 52.984375 12.109375 52.984375 16.9375 \r\nQ 52.984375 21.390625 49.8125 24.21875 \r\nQ 46.578125 27.046875 38.28125 29.5 \r\nL 26.078125 33.015625 \r\nQ 15.828125 35.984375 11.625 40.625 \r\nQ 7.421875 45.265625 7.421875 51.265625 \r\nQ 7.421875 55.953125 10.15625 59.9375 \r\nQ 12.890625 63.921875 18.546875 66.59375 \r\nQ 24.21875 69.28125 30.953125 69.28125 \r\nQ 36.625 69.28125 41.796875 67.328125 \r\nQ 45.453125 65.96875 48.53125 63.421875 \r\nz\r\n\" id=\"BookmanOldStyle-83\"/>\r\n      </defs>\r\n      <use xlink:href=\"#BookmanOldStyle-84\"/>\r\n      <use x=\"62.011719\" xlink:href=\"#BookmanOldStyle-111\"/>\r\n      <use x=\"118.017578\" xlink:href=\"#BookmanOldStyle-116\"/>\r\n      <use x=\"156.005859\" xlink:href=\"#BookmanOldStyle-97\"/>\r\n      <use x=\"214.013672\" xlink:href=\"#BookmanOldStyle-108\"/>\r\n      <use x=\"243.994141\" xlink:href=\"#BookmanOldStyle-32\"/>\r\n      <use x=\"275.976562\" xlink:href=\"#BookmanOldStyle-99\"/>\r\n      <use x=\"327.978516\" xlink:href=\"#BookmanOldStyle-111\"/>\r\n      <use x=\"383.984375\" xlink:href=\"#BookmanOldStyle-117\"/>\r\n      <use x=\"452.001953\" xlink:href=\"#BookmanOldStyle-110\"/>\r\n      <use x=\"518.017578\" xlink:href=\"#BookmanOldStyle-116\"/>\r\n      <use x=\"556.005859\" xlink:href=\"#BookmanOldStyle-32\"/>\r\n      <use x=\"587.988281\" xlink:href=\"#BookmanOldStyle-105\"/>\r\n      <use x=\"617.96875\" xlink:href=\"#BookmanOldStyle-110\"/>\r\n      <use x=\"683.984375\" xlink:href=\"#BookmanOldStyle-32\"/>\r\n      <use x=\"715.966797\" xlink:href=\"#BookmanOldStyle-78\"/>\r\n      <use x=\"789.941406\" xlink:href=\"#BookmanOldStyle-82\"/>\r\n      <use x=\"861.962891\" xlink:href=\"#BookmanOldStyle-83\"/>\r\n      <use x=\"927.978516\" xlink:href=\"#BookmanOldStyle-67\"/>\r\n      <use x=\"1001.953125\" xlink:href=\"#BookmanOldStyle-67\"/>\r\n     </g>\r\n    </g>\r\n   </g>\r\n   <g id=\"line2d_12\">\r\n    <path clip-path=\"url(#p9ad438476f)\" d=\"M 118.686761 49.405364 \r\nL 220.141307 55.067021 \r\nL 321.595852 81.53527 \r\nL 423.050398 188.399055 \r\nL 524.504943 270.917713 \r\nL 625.959489 395.332636 \r\n\" style=\"fill:none;stroke:#1f77b4;stroke-linecap:square;stroke-width:1.5;\"/>\r\n    <defs>\r\n     <path d=\"M -3 3 \r\nL 3 -3 \r\nM -3 -3 \r\nL 3 3 \r\n\" id=\"m90a069a268\" style=\"stroke:#1f77b4;\"/>\r\n    </defs>\r\n    <g clip-path=\"url(#p9ad438476f)\">\r\n     <use style=\"fill:#1f77b4;stroke:#1f77b4;\" x=\"118.686761\" xlink:href=\"#m90a069a268\" y=\"49.405364\"/>\r\n     <use style=\"fill:#1f77b4;stroke:#1f77b4;\" x=\"220.141307\" xlink:href=\"#m90a069a268\" y=\"55.067021\"/>\r\n     <use style=\"fill:#1f77b4;stroke:#1f77b4;\" x=\"321.595852\" xlink:href=\"#m90a069a268\" y=\"81.53527\"/>\r\n     <use style=\"fill:#1f77b4;stroke:#1f77b4;\" x=\"423.050398\" xlink:href=\"#m90a069a268\" y=\"188.399055\"/>\r\n     <use style=\"fill:#1f77b4;stroke:#1f77b4;\" x=\"524.504943\" xlink:href=\"#m90a069a268\" y=\"270.917713\"/>\r\n     <use style=\"fill:#1f77b4;stroke:#1f77b4;\" x=\"625.959489\" xlink:href=\"#m90a069a268\" y=\"395.332636\"/>\r\n    </g>\r\n   </g>\r\n   <g id=\"patch_3\">\r\n    <path d=\"M 93.323125 412.629 \r\nL 93.323125 32.109 \r\n\" style=\"fill:none;stroke:#000000;stroke-linecap:square;stroke-linejoin:miter;stroke-width:0.8;\"/>\r\n   </g>\r\n   <g id=\"patch_4\">\r\n    <path d=\"M 651.323125 412.629 \r\nL 651.323125 32.109 \r\n\" style=\"fill:none;stroke:#000000;stroke-linecap:square;stroke-linejoin:miter;stroke-width:0.8;\"/>\r\n   </g>\r\n   <g id=\"patch_5\">\r\n    <path d=\"M 93.323125 412.629 \r\nL 651.323125 412.629 \r\n\" style=\"fill:none;stroke:#000000;stroke-linecap:square;stroke-linejoin:miter;stroke-width:0.8;\"/>\r\n   </g>\r\n   <g id=\"patch_6\">\r\n    <path d=\"M 93.323125 32.109 \r\nL 651.323125 32.109 \r\n\" style=\"fill:none;stroke:#000000;stroke-linecap:square;stroke-linejoin:miter;stroke-width:0.8;\"/>\r\n   </g>\r\n   <g id=\"text_14\">\r\n    <!-- Protein Diversity vs Chemical Diversity -->\r\n    <g transform=\"translate(121.552 26.109)scale(0.264 -0.264)\">\r\n     <defs>\r\n      <path d=\"M 4.5 68.109375 \r\nL 31.390625 68.109375 \r\nQ 43.65625 68.109375 48.296875 66.546875 \r\nQ 54.109375 64.703125 57.890625 60.203125 \r\nQ 61.671875 55.71875 61.671875 48.78125 \r\nQ 61.671875 42.875 58.796875 38.578125 \r\nQ 55.328125 33.40625 50.359375 31.21875 \r\nQ 45.40625 29.046875 34.765625 29.046875 \r\nL 22.3125 29.046875 \r\nL 22.3125 11.578125 \r\nQ 22.3125 7.671875 22.75 6.640625 \r\nQ 23.34375 5.21875 24.359375 4.65625 \r\nQ 25.390625 4.109375 28.515625 4.109375 \r\nL 30.859375 4.109375 \r\nL 30.859375 0 \r\nL 4.5 0 \r\nL 4.5 4.109375 \r\nL 6.109375 4.109375 \r\nQ 9.46875 4.109375 10.6875 4.65625 \r\nQ 11.921875 5.21875 12.46875 6.421875 \r\nQ 13.03125 7.625 13.03125 10.9375 \r\nL 13.03125 57.515625 \r\nQ 13.03125 60.75 12.515625 61.84375 \r\nQ 12.015625 62.9375 10.8125 63.453125 \r\nQ 9.625 63.96875 6.109375 63.96875 \r\nL 4.5 63.96875 \r\nz\r\nM 22.3125 62.796875 \r\nL 22.3125 34.234375 \r\nL 32.8125 34.234375 \r\nQ 40.765625 34.234375 43.96875 35.640625 \r\nQ 47.171875 37.0625 49.265625 40.546875 \r\nQ 51.375 44.046875 51.375 48.734375 \r\nQ 51.375 53.859375 48.921875 57.296875 \r\nQ 46.484375 60.75 42.28125 61.96875 \r\nQ 39.359375 62.796875 30.859375 62.796875 \r\nz\r\n\" id=\"BookmanOldStyle-80\"/>\r\n      <path d=\"M 3.515625 40.09375 \r\nL 3.515625 44.234375 \r\nQ 7.171875 44.578125 9.90625 45.4375 \r\nQ 12.640625 46.296875 16.15625 48.296875 \r\nL 19.78125 48.296875 \r\nL 19.78125 40.09375 \r\nQ 25.34375 44.484375 28.46875 46 \r\nQ 33.25 48.296875 37.59375 48.296875 \r\nQ 40.578125 48.296875 43.4375 47.1875 \r\nQ 46.296875 46.09375 48.015625 44.484375 \r\nQ 49.75 42.875 50.984375 40.09375 \r\nQ 56.109375 44.625 60.46875 46.453125 \r\nQ 64.84375 48.296875 69.34375 48.296875 \r\nQ 73.640625 48.296875 76.921875 46.515625 \r\nQ 80.21875 44.734375 81.703125 42.046875 \r\nQ 83.203125 39.359375 83.203125 34.1875 \r\nL 83.203125 11.53125 \r\nQ 83.203125 7.953125 83.34375 7.375 \r\nQ 83.59375 6.453125 84.390625 5.609375 \r\nQ 85.203125 4.78125 86.21875 4.4375 \r\nQ 87.25 4.109375 90.046875 4.109375 \r\nL 91.609375 4.109375 \r\nL 91.609375 0 \r\nL 67.046875 0 \r\nL 67.046875 4.109375 \r\nQ 71.234375 4.15625 72.484375 4.71875 \r\nQ 73.734375 5.28125 74.34375 6.546875 \r\nQ 74.953125 7.8125 74.953125 11.53125 \r\nL 74.953125 33.0625 \r\nQ 74.953125 37.15625 74.21875 38.71875 \r\nQ 73.484375 40.28125 71.609375 41.328125 \r\nQ 69.734375 42.390625 66.9375 42.390625 \r\nQ 63.484375 42.390625 59.671875 40.53125 \r\nQ 54.59375 37.984375 51.65625 34.8125 \r\nL 51.65625 11.53125 \r\nQ 51.65625 8.15625 51.96875 7.109375 \r\nQ 52.296875 6.0625 53.046875 5.34375 \r\nQ 53.8125 4.640625 54.8125 4.375 \r\nQ 55.8125 4.109375 59.671875 4.109375 \r\nL 59.671875 0 \r\nL 35.59375 0 \r\nL 35.59375 4.109375 \r\nL 36.96875 4.109375 \r\nQ 39.84375 4.109375 41.03125 4.78125 \r\nQ 42.234375 5.46875 42.921875 6.890625 \r\nQ 43.40625 8.015625 43.40625 11.53125 \r\nL 43.40625 32.328125 \r\nQ 43.40625 36.921875 42.703125 38.53125 \r\nQ 42 40.140625 39.984375 41.265625 \r\nQ 37.984375 42.390625 35.296875 42.390625 \r\nQ 32.125 42.390625 28.90625 40.828125 \r\nQ 24.125 38.53125 20.125 34.8125 \r\nL 20.125 9.71875 \r\nQ 20.125 7.46875 20.734375 6.421875 \r\nQ 21.34375 5.375 22.65625 4.734375 \r\nQ 23.96875 4.109375 26.265625 4.109375 \r\nL 28.078125 4.109375 \r\nL 28.078125 0 \r\nL 3.515625 0 \r\nL 3.515625 4.109375 \r\nL 4.828125 4.109375 \r\nQ 8.203125 4.109375 9.28125 4.640625 \r\nQ 10.84375 5.375 11.53125 6.984375 \r\nQ 11.921875 7.859375 11.921875 11.53125 \r\nL 11.921875 40.09375 \r\nz\r\n\" id=\"BookmanOldStyle-109\"/>\r\n     </defs>\r\n     <use xlink:href=\"#BookmanOldStyle-80\"/>\r\n     <use x=\"62.011719\" xlink:href=\"#BookmanOldStyle-114\"/>\r\n     <use x=\"106.005859\" xlink:href=\"#BookmanOldStyle-111\"/>\r\n     <use x=\"162.011719\" xlink:href=\"#BookmanOldStyle-116\"/>\r\n     <use x=\"200\" xlink:href=\"#BookmanOldStyle-101\"/>\r\n     <use x=\"252.001953\" xlink:href=\"#BookmanOldStyle-105\"/>\r\n     <use x=\"281.982422\" xlink:href=\"#BookmanOldStyle-110\"/>\r\n     <use x=\"347.998047\" xlink:href=\"#BookmanOldStyle-32\"/>\r\n     <use x=\"379.980469\" xlink:href=\"#BookmanOldStyle-68\"/>\r\n     <use x=\"459.960938\" xlink:href=\"#BookmanOldStyle-105\"/>\r\n     <use x=\"489.941406\" xlink:href=\"#BookmanOldStyle-118\"/>\r\n     <use x=\"541.943359\" xlink:href=\"#BookmanOldStyle-101\"/>\r\n     <use x=\"593.945312\" xlink:href=\"#BookmanOldStyle-114\"/>\r\n     <use x=\"637.939453\" xlink:href=\"#BookmanOldStyle-115\"/>\r\n     <use x=\"689.941406\" xlink:href=\"#BookmanOldStyle-105\"/>\r\n     <use x=\"719.921875\" xlink:href=\"#BookmanOldStyle-116\"/>\r\n     <use x=\"757.910156\" xlink:href=\"#BookmanOldStyle-121\"/>\r\n     <use x=\"811.914062\" xlink:href=\"#BookmanOldStyle-32\"/>\r\n     <use x=\"843.896484\" xlink:href=\"#BookmanOldStyle-118\"/>\r\n     <use x=\"895.898438\" xlink:href=\"#BookmanOldStyle-115\"/>\r\n     <use x=\"947.900391\" xlink:href=\"#BookmanOldStyle-32\"/>\r\n     <use x=\"979.882812\" xlink:href=\"#BookmanOldStyle-67\"/>\r\n     <use x=\"1053.857422\" xlink:href=\"#BookmanOldStyle-104\"/>\r\n     <use x=\"1119.873047\" xlink:href=\"#BookmanOldStyle-101\"/>\r\n     <use x=\"1171.875\" xlink:href=\"#BookmanOldStyle-109\"/>\r\n     <use x=\"1265.869141\" xlink:href=\"#BookmanOldStyle-105\"/>\r\n     <use x=\"1295.849609\" xlink:href=\"#BookmanOldStyle-99\"/>\r\n     <use x=\"1347.851562\" xlink:href=\"#BookmanOldStyle-97\"/>\r\n     <use x=\"1405.859375\" xlink:href=\"#BookmanOldStyle-108\"/>\r\n     <use x=\"1435.839844\" xlink:href=\"#BookmanOldStyle-32\"/>\r\n     <use x=\"1467.822266\" xlink:href=\"#BookmanOldStyle-68\"/>\r\n     <use x=\"1547.802734\" xlink:href=\"#BookmanOldStyle-105\"/>\r\n     <use x=\"1577.783203\" xlink:href=\"#BookmanOldStyle-118\"/>\r\n     <use x=\"1629.785156\" xlink:href=\"#BookmanOldStyle-101\"/>\r\n     <use x=\"1681.787109\" xlink:href=\"#BookmanOldStyle-114\"/>\r\n     <use x=\"1725.78125\" xlink:href=\"#BookmanOldStyle-115\"/>\r\n     <use x=\"1777.783203\" xlink:href=\"#BookmanOldStyle-105\"/>\r\n     <use x=\"1807.763672\" xlink:href=\"#BookmanOldStyle-116\"/>\r\n     <use x=\"1845.751953\" xlink:href=\"#BookmanOldStyle-121\"/>\r\n    </g>\r\n   </g>\r\n  </g>\r\n </g>\r\n <defs>\r\n  <clipPath id=\"p9ad438476f\">\r\n   <rect height=\"380.52\" width=\"558\" x=\"93.323125\" y=\"32.109\"/>\r\n  </clipPath>\r\n </defs>\r\n</svg>\r\n",
      "text/plain": [
       "<Figure size 720x504 with 1 Axes>"
      ]
     },
     "metadata": {
      "needs_background": "light"
     },
     "output_type": "display_data"
    }
   ],
   "source": [
    "plt.figure(figsize=(10,7))\n",
    "plt.plot(cutoffs, totalhits, 'x-')\n",
    "plt.xlabel(\"Diversity Cutoff Threshold\")\n",
    "plt.ylabel(\"Total count in NRSCC\")\n",
    "plt.title(\"Protein Diversity vs Chemical Diversity\")\n",
    "plt.savefig(\"generated/screen/CutoffsHitcounts.png\")"
   ]
  },
  {
   "cell_type": "code",
   "execution_count": 38,
   "metadata": {},
   "outputs": [],
   "source": [
    "pdb_dates_dict = {}\n",
    "for entry in pdb_dates:\n",
    "    pdb_dates_dict[entry[0]] = entry[1]"
   ]
  },
  {
   "cell_type": "code",
   "execution_count": 33,
   "metadata": {},
   "outputs": [
    {
     "ename": "NameError",
     "evalue": "name 'pdb_dates_dict' is not defined",
     "output_type": "error",
     "traceback": [
      "\u001b[1;31m---------------------------------------------------------------------------\u001b[0m",
      "\u001b[1;31mNameError\u001b[0m                                 Traceback (most recent call last)",
      "\u001b[1;32m<ipython-input-33-3a69976925d6>\u001b[0m in \u001b[0;36m<module>\u001b[1;34m\u001b[0m\n\u001b[0;32m      2\u001b[0m \u001b[0mpdb_in_dccc_2014\u001b[0m \u001b[1;33m=\u001b[0m \u001b[1;36m0\u001b[0m\u001b[1;33m\u001b[0m\u001b[1;33m\u001b[0m\u001b[0m\n\u001b[0;32m      3\u001b[0m \u001b[1;32mfor\u001b[0m \u001b[0mpdb_id\u001b[0m \u001b[1;32min\u001b[0m \u001b[0mpdb\u001b[0m\u001b[1;33m:\u001b[0m\u001b[1;33m\u001b[0m\u001b[1;33m\u001b[0m\u001b[0m\n\u001b[1;32m----> 4\u001b[1;33m     \u001b[1;32mif\u001b[0m \u001b[0mpdb_dates_dict\u001b[0m\u001b[1;33m[\u001b[0m\u001b[0mpdb_id\u001b[0m\u001b[1;33m]\u001b[0m \u001b[1;33m<=\u001b[0m \u001b[0mupto_date\u001b[0m\u001b[1;33m:\u001b[0m\u001b[1;33m\u001b[0m\u001b[1;33m\u001b[0m\u001b[0m\n\u001b[0m\u001b[0;32m      5\u001b[0m         \u001b[0mx\u001b[0m \u001b[1;33m=\u001b[0m \u001b[0mpdb\u001b[0m\u001b[1;33m[\u001b[0m\u001b[0mpdb_id\u001b[0m\u001b[1;33m]\u001b[0m\u001b[1;33m\u001b[0m\u001b[1;33m\u001b[0m\u001b[0m\n\u001b[0;32m      6\u001b[0m         \u001b[1;32mtry\u001b[0m\u001b[1;33m:\u001b[0m\u001b[1;33m\u001b[0m\u001b[1;33m\u001b[0m\u001b[0m\n",
      "\u001b[1;31mNameError\u001b[0m: name 'pdb_dates_dict' is not defined"
     ]
    }
   ],
   "source": [
    "upto_date = 20140510 # 10 May 2014\n",
    "pdb_in_dccc_2014 = 0\n",
    "for pdb_id in pdb:\n",
    "    if pdb_dates_dict[pdb_id] <= upto_date:\n",
    "        x = pdb[pdb_id]\n",
    "        try:\n",
    "            cond = frozenset(sorted(pdb_to_commercial[list(x)]))\n",
    "            pdb_in_dccc_2014 += cond in all_dccc_conds_hashed\n",
    "        except IndexError:\n",
    "            continue\n",
    "print(pdb_in_dccc_2014)"
   ]
  },
  {
   "cell_type": "code",
   "execution_count": null,
   "metadata": {},
   "outputs": [],
   "source": [
    "################################################"
   ]
  },
  {
   "cell_type": "code",
   "execution_count": 8,
   "metadata": {},
   "outputs": [],
   "source": [
    "pdb_conditions = pd.read_pickle(pdb_conditions_path)\n",
    "dupes = pd.read_pickle(pdb_duplicates_lookup_path)\n",
    "nrscc_clusters = pd.read_pickle(nrscc_clusters_path)\n",
    "\n",
    "all_dupes = dupes.copy()\n",
    "for v in dupes.values():\n",
    "    all_dupes[v] = v\n",
    "def resolve_dupes(cond):\n",
    "    new_cond = []\n",
    "    for f in cond:\n",
    "        if f in all_dupes: \n",
    "            new_cond.append(all_dupes[f])\n",
    "        else:\n",
    "            new_cond.append(f)\n",
    "    return tuple(sorted(new_cond))"
   ]
  },
  {
   "cell_type": "code",
   "execution_count": 46,
   "metadata": {},
   "outputs": [],
   "source": [
    "all_nrscc_ids = set()\n",
    "for cluster in nrscc_clusters:\n",
    "    for pdbid in cluster:\n",
    "        all_nrscc_ids.add(pdbid.lower())"
   ]
  },
  {
   "cell_type": "code",
   "execution_count": 49,
   "metadata": {},
   "outputs": [],
   "source": [
    "ids_by_cond = {}\n",
    "for k in pdb_conditions:\n",
    "    if k not in all_nrscc_ids: continue\n",
    "    cond = pdb_conditions[k]\n",
    "    for i in range(len(cond)):\n",
    "        if cond[i] in dupes: cond[i] = dupes[cond[i]]\n",
    "    ids_by_cond.setdefault(tuple(sorted(cond)), []).append(k)"
   ]
  },
  {
   "cell_type": "code",
   "execution_count": 50,
   "metadata": {},
   "outputs": [
    {
     "data": {
      "text/plain": [
       "56812"
      ]
     },
     "execution_count": 50,
     "metadata": {},
     "output_type": "execute_result"
    }
   ],
   "source": [
    "len(ids_by_cond)"
   ]
  },
  {
   "cell_type": "code",
   "execution_count": 51,
   "metadata": {},
   "outputs": [],
   "source": [
    "conds_sorted_by_ids = sorted(ids_by_cond, key=lambda x:len(ids_by_cond[x]), reverse=True)"
   ]
  },
  {
   "cell_type": "code",
   "execution_count": 52,
   "metadata": {},
   "outputs": [
    {
     "data": {
      "text/plain": [
       "367"
      ]
     },
     "execution_count": 52,
     "metadata": {},
     "output_type": "execute_result"
    }
   ],
   "source": [
    "len(ids_by_cond[conds_sorted_by_ids[0]])"
   ]
  },
  {
   "cell_type": "code",
   "execution_count": 53,
   "metadata": {},
   "outputs": [],
   "source": [
    "from collections import Counter"
   ]
  },
  {
   "cell_type": "code",
   "execution_count": 54,
   "metadata": {},
   "outputs": [],
   "source": [
    "nrscc_all = []\n",
    "for cluster in nrscc:\n",
    "    for cond in cluster:\n",
    "        nrscc_all.append(tuple(sorted(cond)))"
   ]
  },
  {
   "cell_type": "code",
   "execution_count": 55,
   "metadata": {},
   "outputs": [],
   "source": [
    "c = Counter(nrscc_all)\n",
    "nrscc_sorted = sorted(c, key=lambda x:c[x], reverse=True)"
   ]
  },
  {
   "cell_type": "code",
   "execution_count": 56,
   "metadata": {},
   "outputs": [
    {
     "data": {
      "text/html": [
       "<div>\n",
       "<style scoped>\n",
       "    .dataframe tbody tr th:only-of-type {\n",
       "        vertical-align: middle;\n",
       "    }\n",
       "\n",
       "    .dataframe tbody tr th {\n",
       "        vertical-align: top;\n",
       "    }\n",
       "\n",
       "    .dataframe thead th {\n",
       "        text-align: right;\n",
       "    }\n",
       "</style>\n",
       "<table border=\"1\" class=\"dataframe\">\n",
       "  <thead>\n",
       "    <tr style=\"text-align: right;\">\n",
       "      <th></th>\n",
       "      <th>name</th>\n",
       "      <th>conc</th>\n",
       "      <th>units</th>\n",
       "      <th>ph</th>\n",
       "      <th>percentage concentration</th>\n",
       "      <th>molarity</th>\n",
       "      <th>ions</th>\n",
       "      <th>buffer</th>\n",
       "    </tr>\n",
       "  </thead>\n",
       "  <tbody>\n",
       "    <tr>\n",
       "      <th>89</th>\n",
       "      <td>tris chloride</td>\n",
       "      <td>0.1</td>\n",
       "      <td>m</td>\n",
       "      <td>8.5</td>\n",
       "      <td>0.15760</td>\n",
       "      <td>0.10</td>\n",
       "      <td>[(1, 55)]</td>\n",
       "      <td>Buffer</td>\n",
       "    </tr>\n",
       "    <tr>\n",
       "      <th>303</th>\n",
       "      <td>polyethylene glycol 4000</td>\n",
       "      <td>30.0</td>\n",
       "      <td>w/v</td>\n",
       "      <td>NaN</td>\n",
       "      <td>30.00000</td>\n",
       "      <td>0.75</td>\n",
       "      <td>[]</td>\n",
       "      <td>NotBuffer</td>\n",
       "    </tr>\n",
       "    <tr>\n",
       "      <th>304</th>\n",
       "      <td>magnesium chloride</td>\n",
       "      <td>0.2</td>\n",
       "      <td>m</td>\n",
       "      <td>NaN</td>\n",
       "      <td>0.19044</td>\n",
       "      <td>0.20</td>\n",
       "      <td>[(1, 39), (1, 55)]</td>\n",
       "      <td>NotBuffer</td>\n",
       "    </tr>\n",
       "  </tbody>\n",
       "</table>\n",
       "</div>"
      ],
      "text/plain": [
       "                         name  conc units   ph  percentage concentration  \\\n",
       "89              tris chloride   0.1     m  8.5                   0.15760   \n",
       "303  polyethylene glycol 4000  30.0   w/v  NaN                  30.00000   \n",
       "304        magnesium chloride   0.2     m  NaN                   0.19044   \n",
       "\n",
       "     molarity                ions     buffer  \n",
       "89       0.10           [(1, 55)]     Buffer  \n",
       "303      0.75                  []  NotBuffer  \n",
       "304      0.20  [(1, 39), (1, 55)]  NotBuffer  "
      ]
     },
     "execution_count": 56,
     "metadata": {},
     "output_type": "execute_result"
    }
   ],
   "source": [
    "chems_pdb.iloc[list(nrscc_sorted[0])]"
   ]
  },
  {
   "cell_type": "code",
   "execution_count": 57,
   "metadata": {},
   "outputs": [],
   "source": [
    "p = []\n",
    "for i in range(96):\n",
    "    cond = nrscc_sorted[i]\n",
    "    p.extend(ids_by_cond[cond])"
   ]
  },
  {
   "cell_type": "code",
   "execution_count": 60,
   "metadata": {},
   "outputs": [],
   "source": [
    "clusters = {}\n",
    "for i in range(len(nrscc_clusters)):\n",
    "    for pdb_id in nrscc_clusters[i]:\n",
    "        clusters[pdb_id.lower()] = i"
   ]
  },
  {
   "cell_type": "code",
   "execution_count": 61,
   "metadata": {},
   "outputs": [],
   "source": [
    "c = []\n",
    "for pdbid in p:\n",
    "    c.append(clusters[pdbid])"
   ]
  },
  {
   "cell_type": "code",
   "execution_count": 63,
   "metadata": {},
   "outputs": [
    {
     "data": {
      "text/plain": [
       "7549"
      ]
     },
     "execution_count": 63,
     "metadata": {},
     "output_type": "execute_result"
    }
   ],
   "source": [
    "len(c)"
   ]
  },
  {
   "cell_type": "code",
   "execution_count": 64,
   "metadata": {},
   "outputs": [
    {
     "data": {
      "text/plain": [
       "5500"
      ]
     },
     "execution_count": 64,
     "metadata": {},
     "output_type": "execute_result"
    }
   ],
   "source": [
    "len(set(c)) # what is this for SG II 0.2 ??"
   ]
  },
  {
   "cell_type": "code",
   "execution_count": null,
   "metadata": {},
   "outputs": [],
   "source": []
  },
  {
   "cell_type": "code",
   "execution_count": 103,
   "metadata": {},
   "outputs": [],
   "source": [
    "clusters2 = {}\n",
    "for i in range(len(nrscc)):\n",
    "    cluster = nrscc[i]\n",
    "    for cond in cluster:\n",
    "        clusters2.setdefault(resolve_dupes(cond), []).append(i)"
   ]
  },
  {
   "cell_type": "code",
   "execution_count": 104,
   "metadata": {},
   "outputs": [],
   "source": [
    "c2 = []\n",
    "for i in range(96):\n",
    "    cond = nrscc_sorted[i]\n",
    "    c2.extend(clusters2[cond])"
   ]
  },
  {
   "cell_type": "code",
   "execution_count": 105,
   "metadata": {},
   "outputs": [
    {
     "data": {
      "text/plain": [
       "6101"
      ]
     },
     "execution_count": 105,
     "metadata": {},
     "output_type": "execute_result"
    }
   ],
   "source": [
    "len(c2)"
   ]
  },
  {
   "cell_type": "code",
   "execution_count": 106,
   "metadata": {},
   "outputs": [
    {
     "data": {
      "text/plain": [
       "5500"
      ]
     },
     "execution_count": 106,
     "metadata": {},
     "output_type": "execute_result"
    }
   ],
   "source": [
    "len(set(c2))"
   ]
  },
  {
   "cell_type": "code",
   "execution_count": 125,
   "metadata": {},
   "outputs": [],
   "source": [
    "clusters_by_condition = {}\n",
    "for cond in clusters2:\n",
    "    clusts = clusters2[cond]\n",
    "    for c in clusts:\n",
    "        clusters_by_condition.setdefault(c, []).append(cond)"
   ]
  },
  {
   "cell_type": "code",
   "execution_count": 133,
   "metadata": {},
   "outputs": [
    {
     "data": {
      "text/plain": [
       "234"
      ]
     },
     "execution_count": 133,
     "metadata": {},
     "output_type": "execute_result"
    }
   ],
   "source": [
    "csorted = sorted(clusters_by_condition, key=lambda x:len(clusters_by_condition[x]), reverse=True)[:100]\n",
    "len(clusters_by_condition[353])"
   ]
  },
  {
   "cell_type": "code",
   "execution_count": 146,
   "metadata": {},
   "outputs": [],
   "source": [
    "csorted = sorted(nrscc, key=lambda x:len(x), reverse=True)"
   ]
  },
  {
   "cell_type": "code",
   "execution_count": 142,
   "metadata": {},
   "outputs": [
    {
     "data": {
      "text/plain": [
       "234"
      ]
     },
     "execution_count": 142,
     "metadata": {},
     "output_type": "execute_result"
    }
   ],
   "source": [
    "len(csorted[0])"
   ]
  },
  {
   "cell_type": "code",
   "execution_count": 149,
   "metadata": {},
   "outputs": [
    {
     "data": {
      "text/plain": [
       "937"
      ]
     },
     "execution_count": 149,
     "metadata": {},
     "output_type": "execute_result"
    }
   ],
   "source": [
    "idssorted = sorted(nrscc_clusters, key=lambda x:len(x), reverse=True)\n",
    "len(idssorted[0])"
   ]
  },
  {
   "cell_type": "code",
   "execution_count": 150,
   "metadata": {},
   "outputs": [
    {
     "data": {
      "text/plain": [
       "38083"
      ]
     },
     "execution_count": 150,
     "metadata": {},
     "output_type": "execute_result"
    }
   ],
   "source": [
    "len([x for x in nrscc if len(x) == 1])"
   ]
  },
  {
   "cell_type": "code",
   "execution_count": 118,
   "metadata": {},
   "outputs": [],
   "source": [
    "y = []\n",
    "for i in range(96):\n",
    "    cond = nrscc_sorted[i]\n",
    "    y.append(len(clusters2[cond]))"
   ]
  },
  {
   "cell_type": "code",
   "execution_count": 121,
   "metadata": {},
   "outputs": [
    {
     "data": {
      "text/plain": [
       "[<matplotlib.lines.Line2D at 0x18a5b7a8>]"
      ]
     },
     "execution_count": 121,
     "metadata": {},
     "output_type": "execute_result"
    },
    {
     "data": {
      "image/png": "[encoded data removed]",
      "image/svg+xml": "<?xml version=\"1.0\" encoding=\"utf-8\" standalone=\"no\"?>\r\n<!DOCTYPE svg PUBLIC \"-//W3C//DTD SVG 1.1//EN\"\r\n  \"http://www.w3.org/Graphics/SVG/1.1/DTD/svg11.dtd\">\r\n<!-- Created with matplotlib (https://matplotlib.org/) -->\r\n<svg height=\"248.518125pt\" version=\"1.1\" viewBox=\"0 0 386.845312 248.518125\" width=\"386.845312pt\" xmlns=\"http://www.w3.org/2000/svg\" xmlns:xlink=\"http://www.w3.org/1999/xlink\">\r\n <metadata>\r\n  <rdf:RDF xmlns:cc=\"http://creativecommons.org/ns#\" xmlns:dc=\"http://purl.org/dc/elements/1.1/\" xmlns:rdf=\"http://www.w3.org/1999/02/22-rdf-syntax-ns#\">\r\n   <cc:Work>\r\n    <dc:type rdf:resource=\"http://purl.org/dc/dcmitype/StillImage\"/>\r\n    <dc:date>2021-05-05T09:17:08.363946</dc:date>\r\n    <dc:format>image/svg+xml</dc:format>\r\n    <dc:creator>\r\n     <cc:Agent>\r\n      <dc:title>Matplotlib v3.3.4, https://matplotlib.org/</dc:title>\r\n     </cc:Agent>\r\n    </dc:creator>\r\n   </cc:Work>\r\n  </rdf:RDF>\r\n </metadata>\r\n <defs>\r\n  <style type=\"text/css\">*{stroke-linecap:butt;stroke-linejoin:round;}</style>\r\n </defs>\r\n <g id=\"figure_1\">\r\n  <g id=\"patch_1\">\r\n   <path d=\"M 0 248.518125 \r\nL 386.845312 248.518125 \r\nL 386.845312 0 \r\nL 0 0 \r\nz\r\n\" style=\"fill:none;\"/>\r\n  </g>\r\n  <g id=\"axes_1\">\r\n   <g id=\"patch_2\">\r\n    <path d=\"M 44.845313 224.64 \r\nL 379.645313 224.64 \r\nL 379.645313 7.2 \r\nL 44.845313 7.2 \r\nz\r\n\" style=\"fill:#ffffff;\"/>\r\n   </g>\r\n   <g id=\"matplotlib.axis_1\">\r\n    <g id=\"xtick_1\">\r\n     <g id=\"line2d_1\">\r\n      <defs>\r\n       <path d=\"M 0 0 \r\nL 0 3.5 \r\n\" id=\"m79c854ae3b\" style=\"stroke:#000000;stroke-width:0.8;\"/>\r\n      </defs>\r\n      <g>\r\n       <use style=\"stroke:#000000;stroke-width:0.8;\" x=\"90.499858\" xlink:href=\"#m79c854ae3b\" y=\"224.64\"/>\r\n      </g>\r\n     </g>\r\n     <g id=\"text_1\">\r\n      <!-- −0.04 -->\r\n      <g transform=\"translate(75.177202 239.238437)scale(0.1 -0.1)\">\r\n       <defs>\r\n        <path d=\"M 10.59375 35.5 \r\nL 73.1875 35.5 \r\nL 73.1875 27.203125 \r\nL 10.59375 27.203125 \r\nz\r\n\" id=\"DejaVuSans-8722\"/>\r\n        <path d=\"M 31.78125 66.40625 \r\nQ 24.171875 66.40625 20.328125 58.90625 \r\nQ 16.5 51.421875 16.5 36.375 \r\nQ 16.5 21.390625 20.328125 13.890625 \r\nQ 24.171875 6.390625 31.78125 6.390625 \r\nQ 39.453125 6.390625 43.28125 13.890625 \r\nQ 47.125 21.390625 47.125 36.375 \r\nQ 47.125 51.421875 43.28125 58.90625 \r\nQ 39.453125 66.40625 31.78125 66.40625 \r\nz\r\nM 31.78125 74.21875 \r\nQ 44.046875 74.21875 50.515625 64.515625 \r\nQ 56.984375 54.828125 56.984375 36.375 \r\nQ 56.984375 17.96875 50.515625 8.265625 \r\nQ 44.046875 -1.421875 31.78125 -1.421875 \r\nQ 19.53125 -1.421875 13.0625 8.265625 \r\nQ 6.59375 17.96875 6.59375 36.375 \r\nQ 6.59375 54.828125 13.0625 64.515625 \r\nQ 19.53125 74.21875 31.78125 74.21875 \r\nz\r\n\" id=\"DejaVuSans-48\"/>\r\n        <path d=\"M 10.6875 12.40625 \r\nL 21 12.40625 \r\nL 21 0 \r\nL 10.6875 0 \r\nz\r\n\" id=\"DejaVuSans-46\"/>\r\n        <path d=\"M 37.796875 64.3125 \r\nL 12.890625 25.390625 \r\nL 37.796875 25.390625 \r\nz\r\nM 35.203125 72.90625 \r\nL 47.609375 72.90625 \r\nL 47.609375 25.390625 \r\nL 58.015625 25.390625 \r\nL 58.015625 17.1875 \r\nL 47.609375 17.1875 \r\nL 47.609375 0 \r\nL 37.796875 0 \r\nL 37.796875 17.1875 \r\nL 4.890625 17.1875 \r\nL 4.890625 26.703125 \r\nz\r\n\" id=\"DejaVuSans-52\"/>\r\n       </defs>\r\n       <use xlink:href=\"#DejaVuSans-8722\"/>\r\n       <use x=\"83.789062\" xlink:href=\"#DejaVuSans-48\"/>\r\n       <use x=\"147.412109\" xlink:href=\"#DejaVuSans-46\"/>\r\n       <use x=\"179.199219\" xlink:href=\"#DejaVuSans-48\"/>\r\n       <use x=\"242.822266\" xlink:href=\"#DejaVuSans-52\"/>\r\n      </g>\r\n     </g>\r\n    </g>\r\n    <g id=\"xtick_2\">\r\n     <g id=\"line2d_2\">\r\n      <g>\r\n       <use style=\"stroke:#000000;stroke-width:0.8;\" x=\"151.372585\" xlink:href=\"#m79c854ae3b\" y=\"224.64\"/>\r\n      </g>\r\n     </g>\r\n     <g id=\"text_2\">\r\n      <!-- −0.02 -->\r\n      <g transform=\"translate(136.049929 239.238437)scale(0.1 -0.1)\">\r\n       <defs>\r\n        <path d=\"M 19.1875 8.296875 \r\nL 53.609375 8.296875 \r\nL 53.609375 0 \r\nL 7.328125 0 \r\nL 7.328125 8.296875 \r\nQ 12.9375 14.109375 22.625 23.890625 \r\nQ 32.328125 33.6875 34.8125 36.53125 \r\nQ 39.546875 41.84375 41.421875 45.53125 \r\nQ 43.3125 49.21875 43.3125 52.78125 \r\nQ 43.3125 58.59375 39.234375 62.25 \r\nQ 35.15625 65.921875 28.609375 65.921875 \r\nQ 23.96875 65.921875 18.8125 64.3125 \r\nQ 13.671875 62.703125 7.8125 59.421875 \r\nL 7.8125 69.390625 \r\nQ 13.765625 71.78125 18.9375 73 \r\nQ 24.125 74.21875 28.421875 74.21875 \r\nQ 39.75 74.21875 46.484375 68.546875 \r\nQ 53.21875 62.890625 53.21875 53.421875 \r\nQ 53.21875 48.921875 51.53125 44.890625 \r\nQ 49.859375 40.875 45.40625 35.40625 \r\nQ 44.1875 33.984375 37.640625 27.21875 \r\nQ 31.109375 20.453125 19.1875 8.296875 \r\nz\r\n\" id=\"DejaVuSans-50\"/>\r\n       </defs>\r\n       <use xlink:href=\"#DejaVuSans-8722\"/>\r\n       <use x=\"83.789062\" xlink:href=\"#DejaVuSans-48\"/>\r\n       <use x=\"147.412109\" xlink:href=\"#DejaVuSans-46\"/>\r\n       <use x=\"179.199219\" xlink:href=\"#DejaVuSans-48\"/>\r\n       <use x=\"242.822266\" xlink:href=\"#DejaVuSans-50\"/>\r\n      </g>\r\n     </g>\r\n    </g>\r\n    <g id=\"xtick_3\">\r\n     <g id=\"line2d_3\">\r\n      <g>\r\n       <use style=\"stroke:#000000;stroke-width:0.8;\" x=\"212.245313\" xlink:href=\"#m79c854ae3b\" y=\"224.64\"/>\r\n      </g>\r\n     </g>\r\n     <g id=\"text_3\">\r\n      <!-- 0.00 -->\r\n      <g transform=\"translate(201.1125 239.238437)scale(0.1 -0.1)\">\r\n       <use xlink:href=\"#DejaVuSans-48\"/>\r\n       <use x=\"63.623047\" xlink:href=\"#DejaVuSans-46\"/>\r\n       <use x=\"95.410156\" xlink:href=\"#DejaVuSans-48\"/>\r\n       <use x=\"159.033203\" xlink:href=\"#DejaVuSans-48\"/>\r\n      </g>\r\n     </g>\r\n    </g>\r\n    <g id=\"xtick_4\">\r\n     <g id=\"line2d_4\">\r\n      <g>\r\n       <use style=\"stroke:#000000;stroke-width:0.8;\" x=\"273.11804\" xlink:href=\"#m79c854ae3b\" y=\"224.64\"/>\r\n      </g>\r\n     </g>\r\n     <g id=\"text_4\">\r\n      <!-- 0.02 -->\r\n      <g transform=\"translate(261.985227 239.238437)scale(0.1 -0.1)\">\r\n       <use xlink:href=\"#DejaVuSans-48\"/>\r\n       <use x=\"63.623047\" xlink:href=\"#DejaVuSans-46\"/>\r\n       <use x=\"95.410156\" xlink:href=\"#DejaVuSans-48\"/>\r\n       <use x=\"159.033203\" xlink:href=\"#DejaVuSans-50\"/>\r\n      </g>\r\n     </g>\r\n    </g>\r\n    <g id=\"xtick_5\">\r\n     <g id=\"line2d_5\">\r\n      <g>\r\n       <use style=\"stroke:#000000;stroke-width:0.8;\" x=\"333.990767\" xlink:href=\"#m79c854ae3b\" y=\"224.64\"/>\r\n      </g>\r\n     </g>\r\n     <g id=\"text_5\">\r\n      <!-- 0.04 -->\r\n      <g transform=\"translate(322.857955 239.238437)scale(0.1 -0.1)\">\r\n       <use xlink:href=\"#DejaVuSans-48\"/>\r\n       <use x=\"63.623047\" xlink:href=\"#DejaVuSans-46\"/>\r\n       <use x=\"95.410156\" xlink:href=\"#DejaVuSans-48\"/>\r\n       <use x=\"159.033203\" xlink:href=\"#DejaVuSans-52\"/>\r\n      </g>\r\n     </g>\r\n    </g>\r\n   </g>\r\n   <g id=\"matplotlib.axis_2\">\r\n    <g id=\"ytick_1\">\r\n     <g id=\"line2d_6\">\r\n      <defs>\r\n       <path d=\"M 0 0 \r\nL -3.5 0 \r\n\" id=\"m0cf706a75d\" style=\"stroke:#000000;stroke-width:0.8;\"/>\r\n      </defs>\r\n      <g>\r\n       <use style=\"stroke:#000000;stroke-width:0.8;\" x=\"44.845313\" xlink:href=\"#m0cf706a75d\" y=\"194.989091\"/>\r\n      </g>\r\n     </g>\r\n     <g id=\"text_6\">\r\n      <!-- −0.04 -->\r\n      <g transform=\"translate(7.2 198.78831)scale(0.1 -0.1)\">\r\n       <use xlink:href=\"#DejaVuSans-8722\"/>\r\n       <use x=\"83.789062\" xlink:href=\"#DejaVuSans-48\"/>\r\n       <use x=\"147.412109\" xlink:href=\"#DejaVuSans-46\"/>\r\n       <use x=\"179.199219\" xlink:href=\"#DejaVuSans-48\"/>\r\n       <use x=\"242.822266\" xlink:href=\"#DejaVuSans-52\"/>\r\n      </g>\r\n     </g>\r\n    </g>\r\n    <g id=\"ytick_2\">\r\n     <g id=\"line2d_7\">\r\n      <g>\r\n       <use style=\"stroke:#000000;stroke-width:0.8;\" x=\"44.845313\" xlink:href=\"#m0cf706a75d\" y=\"155.454545\"/>\r\n      </g>\r\n     </g>\r\n     <g id=\"text_7\">\r\n      <!-- −0.02 -->\r\n      <g transform=\"translate(7.2 159.253764)scale(0.1 -0.1)\">\r\n       <use xlink:href=\"#DejaVuSans-8722\"/>\r\n       <use x=\"83.789062\" xlink:href=\"#DejaVuSans-48\"/>\r\n       <use x=\"147.412109\" xlink:href=\"#DejaVuSans-46\"/>\r\n       <use x=\"179.199219\" xlink:href=\"#DejaVuSans-48\"/>\r\n       <use x=\"242.822266\" xlink:href=\"#DejaVuSans-50\"/>\r\n      </g>\r\n     </g>\r\n    </g>\r\n    <g id=\"ytick_3\">\r\n     <g id=\"line2d_8\">\r\n      <g>\r\n       <use style=\"stroke:#000000;stroke-width:0.8;\" x=\"44.845313\" xlink:href=\"#m0cf706a75d\" y=\"115.92\"/>\r\n      </g>\r\n     </g>\r\n     <g id=\"text_8\">\r\n      <!-- 0.00 -->\r\n      <g transform=\"translate(15.579688 119.719219)scale(0.1 -0.1)\">\r\n       <use xlink:href=\"#DejaVuSans-48\"/>\r\n       <use x=\"63.623047\" xlink:href=\"#DejaVuSans-46\"/>\r\n       <use x=\"95.410156\" xlink:href=\"#DejaVuSans-48\"/>\r\n       <use x=\"159.033203\" xlink:href=\"#DejaVuSans-48\"/>\r\n      </g>\r\n     </g>\r\n    </g>\r\n    <g id=\"ytick_4\">\r\n     <g id=\"line2d_9\">\r\n      <g>\r\n       <use style=\"stroke:#000000;stroke-width:0.8;\" x=\"44.845313\" xlink:href=\"#m0cf706a75d\" y=\"76.385455\"/>\r\n      </g>\r\n     </g>\r\n     <g id=\"text_9\">\r\n      <!-- 0.02 -->\r\n      <g transform=\"translate(15.579688 80.184673)scale(0.1 -0.1)\">\r\n       <use xlink:href=\"#DejaVuSans-48\"/>\r\n       <use x=\"63.623047\" xlink:href=\"#DejaVuSans-46\"/>\r\n       <use x=\"95.410156\" xlink:href=\"#DejaVuSans-48\"/>\r\n       <use x=\"159.033203\" xlink:href=\"#DejaVuSans-50\"/>\r\n      </g>\r\n     </g>\r\n    </g>\r\n    <g id=\"ytick_5\">\r\n     <g id=\"line2d_10\">\r\n      <g>\r\n       <use style=\"stroke:#000000;stroke-width:0.8;\" x=\"44.845313\" xlink:href=\"#m0cf706a75d\" y=\"36.850909\"/>\r\n      </g>\r\n     </g>\r\n     <g id=\"text_10\">\r\n      <!-- 0.04 -->\r\n      <g transform=\"translate(15.579688 40.650128)scale(0.1 -0.1)\">\r\n       <use xlink:href=\"#DejaVuSans-48\"/>\r\n       <use x=\"63.623047\" xlink:href=\"#DejaVuSans-46\"/>\r\n       <use x=\"95.410156\" xlink:href=\"#DejaVuSans-48\"/>\r\n       <use x=\"159.033203\" xlink:href=\"#DejaVuSans-52\"/>\r\n      </g>\r\n     </g>\r\n    </g>\r\n   </g>\r\n   <g id=\"line2d_11\"/>\r\n   <g id=\"patch_3\">\r\n    <path d=\"M 44.845313 224.64 \r\nL 44.845313 7.2 \r\n\" style=\"fill:none;stroke:#000000;stroke-linecap:square;stroke-linejoin:miter;stroke-width:0.8;\"/>\r\n   </g>\r\n   <g id=\"patch_4\">\r\n    <path d=\"M 379.645313 224.64 \r\nL 379.645313 7.2 \r\n\" style=\"fill:none;stroke:#000000;stroke-linecap:square;stroke-linejoin:miter;stroke-width:0.8;\"/>\r\n   </g>\r\n   <g id=\"patch_5\">\r\n    <path d=\"M 44.845313 224.64 \r\nL 379.645313 224.64 \r\n\" style=\"fill:none;stroke:#000000;stroke-linecap:square;stroke-linejoin:miter;stroke-width:0.8;\"/>\r\n   </g>\r\n   <g id=\"patch_6\">\r\n    <path d=\"M 44.845313 7.2 \r\nL 379.645313 7.2 \r\n\" style=\"fill:none;stroke:#000000;stroke-linecap:square;stroke-linejoin:miter;stroke-width:0.8;\"/>\r\n   </g>\r\n  </g>\r\n </g>\r\n</svg>\r\n",
      "text/plain": [
       "<Figure size 432x288 with 1 Axes>"
      ]
     },
     "metadata": {
      "needs_background": "light"
     },
     "output_type": "display_data"
    }
   ],
   "source": [
    "y = []\n",
    "for i in range(96):\n",
    "    try:\n",
    "        cond = nrscc_sorted[i]\n",
    "        y.append(len(clusters[cond]))\n",
    "    except KeyError:\n",
    "        continue\n",
    "plt.plot(y)"
   ]
  }
 ],
 "metadata": {
  "interpreter": {
   "hash": "b280b2e4a34e5354a667774cec9afb4a598cbe623e02dfcf3f45284b702e62ba"
  },
  "kernelspec": {
   "display_name": "Python 3.8.5 32-bit ('ShotgunII-YhwZ9gcy': virtualenvwrapper)",
   "name": "python3"
  },
  "language_info": {
   "codemirror_mode": {
    "name": "ipython",
    "version": 3
   },
   "file_extension": ".py",
   "mimetype": "text/x-python",
   "name": "python",
   "nbconvert_exporter": "python",
   "pygments_lexer": "ipython3",
   "version": "3.8.5"
  },
  "metadata": {
   "interpreter": {
    "hash": "b280b2e4a34e5354a667774cec9afb4a598cbe623e02dfcf3f45284b702e62ba"
   }
  },
  "orig_nbformat": 2
 },
 "nbformat": 4,
 "nbformat_minor": 2
}