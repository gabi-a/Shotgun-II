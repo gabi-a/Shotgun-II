{
 "cells": [
  {
   "cell_type": "code",
   "execution_count": 1,
   "metadata": {},
   "outputs": [],
   "source": [
    "from paths import *\n",
    "import pandas as pd\n",
    "import numpy as np\n",
    "import xml.etree.ElementTree as ET\n",
    "import matplotlib.pyplot as plt\n",
    "from collections import Counter\n",
    "from tqdm import tqdm\n",
    "from matplotlib import rc\n",
    "rc('font', **{'family': 'serif', 'serif': ['Computer Modern']})\n",
    "rc('text', usetex=True)\n",
    "rc('text.latex', preamble= r'\\usepackage{amsfonts}')"
   ]
  },
  {
   "cell_type": "code",
   "execution_count": 2,
   "metadata": {},
   "outputs": [],
   "source": [
    "def linewidth_from_data_units(linewidth, axis, reference='y'):\r\n",
    "    \"\"\"\r\n",
    "    Convert a linewidth in data units to linewidth in points.\r\n",
    "\r\n",
    "    Parameters\r\n",
    "    ----------\r\n",
    "    linewidth: float\r\n",
    "        Linewidth in data units of the respective reference-axis\r\n",
    "    axis: matplotlib axis\r\n",
    "        The axis which is used to extract the relevant transformation\r\n",
    "        data (data limits and size must not change afterwards)\r\n",
    "    reference: string\r\n",
    "        The axis that is taken as a reference for the data width.\r\n",
    "        Possible values: 'x' and 'y'. Defaults to 'y'.\r\n",
    "\r\n",
    "    Returns\r\n",
    "    -------\r\n",
    "    linewidth: float\r\n",
    "        Linewidth in points\r\n",
    "    \"\"\"\r\n",
    "    fig = axis.get_figure()\r\n",
    "    if reference == 'x':\r\n",
    "        length = fig.bbox_inches.width * axis.get_position().width\r\n",
    "        value_range = np.diff(axis.get_xlim())\r\n",
    "    elif reference == 'y':\r\n",
    "        length = fig.bbox_inches.height * axis.get_position().height\r\n",
    "        value_range = np.diff(axis.get_ylim())\r\n",
    "    # Convert length to points\r\n",
    "    length *= 72\r\n",
    "    # Scale linewidth to value range\r\n",
    "    return linewidth * (length / value_range)"
   ]
  },
  {
   "cell_type": "code",
   "execution_count": 3,
   "metadata": {},
   "outputs": [],
   "source": [
    "nrscc = pd.read_pickle(nrscc_path)\n",
    "dccc = pd.read_pickle(commercial_conditions_path)\n",
    "chems_pdb = pd.read_pickle(chems_table_from_pdb_path)\n",
    "chems_dccc = pd.read_pickle(chems_table_from_commercial_screens_path)\n",
    "pdb_dates = pd.read_pickle(pdb_dates_path)\n",
    "pdb_conditions = pd.read_pickle(pdb_conditions_path)\n",
    "dupes = pd.read_pickle(pdb_duplicates_lookup_path)\n",
    "nrscc_clusters = pd.read_pickle(nrscc_clusters_path)\n",
    "\n",
    "all_dupes = dupes.copy()\n",
    "for v in dupes.values():\n",
    "    all_dupes[v] = v\n",
    "\n",
    "def resolve_dupes(cond):\n",
    "    new_cond = []\n",
    "    for f in cond:\n",
    "        if f in all_dupes: \n",
    "            new_cond.append(all_dupes[f])\n",
    "        else:\n",
    "            new_cond.append(f)\n",
    "    return tuple(sorted(new_cond))\n",
    "\n",
    "nrscc_all = []\n",
    "for cluster in nrscc:\n",
    "    for cond in cluster:\n",
    "        nrscc_all.append(tuple(sorted(cond)))\n",
    "        \n",
    "clusters = {}\n",
    "for i in range(len(nrscc)):\n",
    "    cluster = nrscc[i]\n",
    "    for cond in cluster:\n",
    "        clusters.setdefault(resolve_dupes(cond), set()).add(i)"
   ]
  },
  {
   "cell_type": "code",
   "execution_count": 4,
   "metadata": {},
   "outputs": [],
   "source": [
    "linking_table = pd.read_pickle(pdb_commercial_linking_table_path)\n",
    "np_linking_table = linking_table.to_numpy()\n",
    "pdb_to_commercial = -1*np.ones(np.max(np_linking_table[:,1])+1, dtype=int)\n",
    "pdb_to_commercial[np_linking_table[:,1]] = np_linking_table[:,0]\n",
    "commercial_to_pdb = -1*np.ones(np.max(np_linking_table[:,0])+1, dtype=int)\n",
    "commercial_to_pdb[np_linking_table[:,0]] = np_linking_table[:,1]"
   ]
  },
  {
   "cell_type": "code",
   "execution_count": 5,
   "metadata": {},
   "outputs": [],
   "source": [
    "nrscc_filtered = []\n",
    "\n",
    "# Remove any conditions that are\n",
    "# -> only composed of a buffer\n",
    "# -> only one factor with concentration < 0.1 M\n",
    "# Also, filter by in DCCC\n",
    "for cond in nrscc_all:\n",
    "    if -1 in pdb_to_commercial[list(cond)]: # Note: doing this makes no difference, as expected :)\n",
    "        continue\n",
    "    if len(cond) == 1:\n",
    "        details = chems_pdb.iloc[cond[0]]\n",
    "        if details[\"buffer\"] == \"Buffer\" or details[\"molarity\"] <= 0.1:\n",
    "            continue\n",
    "    nrscc_filtered.append(cond)\n",
    "\n",
    "c = Counter(nrscc_filtered)\n",
    "nrscc_sorted = sorted(c, key=lambda x:c[x], reverse=True)"
   ]
  },
  {
   "cell_type": "code",
   "execution_count": 6,
   "metadata": {},
   "outputs": [],
   "source": [
    "def clusters_in(s):\n",
    "    out = []\n",
    "    for cond in s:\n",
    "        out.extend(clusters[cond])\n",
    "    return out"
   ]
  },
  {
   "cell_type": "code",
   "execution_count": 7,
   "metadata": {},
   "outputs": [],
   "source": [
    "sgD = {}\n",
    "for i in range(1, 6):\n",
    "    sgD[f\"0.{i}\"] = np.load(f\"generated/screen/Shotgun_II_Greedy_0.{i}.npy\", allow_pickle=True)\n",
    "sgGreedy = np.load(\"generated/screen/Shotgun_II_Greedy.npy\", allow_pickle=True)"
   ]
  },
  {
   "cell_type": "code",
   "execution_count": 8,
   "metadata": {},
   "outputs": [
    {
     "data": {
      "text/html": [
       "<div>\n",
       "<style scoped>\n",
       "    .dataframe tbody tr th:only-of-type {\n",
       "        vertical-align: middle;\n",
       "    }\n",
       "\n",
       "    .dataframe tbody tr th {\n",
       "        vertical-align: top;\n",
       "    }\n",
       "\n",
       "    .dataframe thead th {\n",
       "        text-align: right;\n",
       "    }\n",
       "</style>\n",
       "<table border=\"1\" class=\"dataframe\">\n",
       "  <thead>\n",
       "    <tr style=\"text-align: right;\">\n",
       "      <th></th>\n",
       "      <th>name</th>\n",
       "      <th>conc</th>\n",
       "      <th>units</th>\n",
       "      <th>ph</th>\n",
       "      <th>percentage concentration</th>\n",
       "      <th>molarity</th>\n",
       "      <th>ions</th>\n",
       "      <th>buffer</th>\n",
       "    </tr>\n",
       "  </thead>\n",
       "  <tbody>\n",
       "    <tr>\n",
       "      <th>77</th>\n",
       "      <td>glycerol</td>\n",
       "      <td>20.0</td>\n",
       "      <td>v/v</td>\n",
       "      <td>NaN</td>\n",
       "      <td>25.2</td>\n",
       "      <td>27.364535</td>\n",
       "      <td>[]</td>\n",
       "      <td>NotBuffer</td>\n",
       "    </tr>\n",
       "    <tr>\n",
       "      <th>115</th>\n",
       "      <td>polyethylene glycol 8000</td>\n",
       "      <td>16.0</td>\n",
       "      <td>w/v</td>\n",
       "      <td>NaN</td>\n",
       "      <td>16.0</td>\n",
       "      <td>0.200000</td>\n",
       "      <td>[]</td>\n",
       "      <td>NotBuffer</td>\n",
       "    </tr>\n",
       "    <tr>\n",
       "      <th>1254</th>\n",
       "      <td>potassium dihydrogen phosphate-dipotassium hyd...</td>\n",
       "      <td>0.8</td>\n",
       "      <td>m</td>\n",
       "      <td>NaN</td>\n",
       "      <td>NaN</td>\n",
       "      <td>0.800000</td>\n",
       "      <td>[(1, 21), (2, 52), (1, 7), (2, 21), (1, 52), (...</td>\n",
       "      <td>NotBuffer</td>\n",
       "    </tr>\n",
       "  </tbody>\n",
       "</table>\n",
       "</div>"
      ],
      "text/plain": [
       "                                                   name  conc units  ph  \\\n",
       "77                                             glycerol  20.0   v/v NaN   \n",
       "115                            polyethylene glycol 8000  16.0   w/v NaN   \n",
       "1254  potassium dihydrogen phosphate-dipotassium hyd...   0.8     m NaN   \n",
       "\n",
       "      percentage concentration   molarity  \\\n",
       "77                        25.2  27.364535   \n",
       "115                       16.0   0.200000   \n",
       "1254                       NaN   0.800000   \n",
       "\n",
       "                                                   ions     buffer  \n",
       "77                                                   []  NotBuffer  \n",
       "115                                                  []  NotBuffer  \n",
       "1254  [(1, 21), (2, 52), (1, 7), (2, 21), (1, 52), (...  NotBuffer  "
      ]
     },
     "execution_count": 8,
     "metadata": {},
     "output_type": "execute_result"
    }
   ],
   "source": [
    "chems_pdb.iloc[list(sgD[\"0.5\"][92])]"
   ]
  },
  {
   "cell_type": "code",
   "execution_count": 9,
   "metadata": {},
   "outputs": [
    {
     "data": {
      "text/plain": [
       "'potassium dihydrogen phosphate-dipotassium hydrogen phosphate'"
      ]
     },
     "execution_count": 9,
     "metadata": {},
     "output_type": "execute_result"
    }
   ],
   "source": [
    "chems_pdb.iloc[list(sgD[\"0.5\"][92])][\"name\"].iloc[2]"
   ]
  },
  {
   "cell_type": "code",
   "execution_count": 10,
   "metadata": {},
   "outputs": [],
   "source": [
    "conditions_pdb = {}\r\n",
    "for pdbid in pdb_conditions:\r\n",
    "    cond = resolve_dupes(pdb_conditions[pdbid])\r\n",
    "    conditions_pdb.setdefault(cond, []).append(pdbid)"
   ]
  },
  {
   "cell_type": "code",
   "execution_count": 11,
   "metadata": {},
   "outputs": [
    {
     "name": "stdout",
     "output_type": "stream",
     "text": [
      "3gvh\n",
      "2w59\n",
      "5v4e\n",
      "3gwc\n",
      "3hzg\n",
      "3lwa\n",
      "3n58\n",
      "2uvl\n",
      "4jb1\n",
      "2qhr\n",
      "5hde\n",
      "4uvq\n",
      "4di0\n"
     ]
    },
    {
     "data": {
      "text/plain": [
       "[None, None, None, None, None, None, None, None, None, None, None, None, None]"
      ]
     },
     "execution_count": 11,
     "metadata": {},
     "output_type": "execute_result"
    }
   ],
   "source": [
    "[print(x) for x in conditions_pdb[tuple(sorted(list(sgD[\"0.5\"][92])))]]"
   ]
  },
  {
   "cell_type": "code",
   "execution_count": 12,
   "metadata": {},
   "outputs": [
    {
     "data": {
      "text/html": [
       "<div>\n",
       "<style scoped>\n",
       "    .dataframe tbody tr th:only-of-type {\n",
       "        vertical-align: middle;\n",
       "    }\n",
       "\n",
       "    .dataframe tbody tr th {\n",
       "        vertical-align: top;\n",
       "    }\n",
       "\n",
       "    .dataframe thead th {\n",
       "        text-align: right;\n",
       "    }\n",
       "</style>\n",
       "<table border=\"1\" class=\"dataframe\">\n",
       "  <thead>\n",
       "    <tr style=\"text-align: right;\">\n",
       "      <th></th>\n",
       "      <th>name</th>\n",
       "      <th>conc</th>\n",
       "      <th>units</th>\n",
       "      <th>ph</th>\n",
       "      <th>percentage concentration</th>\n",
       "      <th>molarity</th>\n",
       "      <th>ions</th>\n",
       "      <th>buffer</th>\n",
       "    </tr>\n",
       "  </thead>\n",
       "  <tbody>\n",
       "    <tr>\n",
       "      <th>182</th>\n",
       "      <td>glycerol</td>\n",
       "      <td>20.0</td>\n",
       "      <td>v/v</td>\n",
       "      <td>NaN</td>\n",
       "      <td>25.2</td>\n",
       "      <td>27.364535</td>\n",
       "      <td>[]</td>\n",
       "      <td>NotBuffer</td>\n",
       "    </tr>\n",
       "    <tr>\n",
       "      <th>230</th>\n",
       "      <td>polyethylene glycol 8000</td>\n",
       "      <td>16.0</td>\n",
       "      <td>w/v</td>\n",
       "      <td>NaN</td>\n",
       "      <td>16.0</td>\n",
       "      <td>0.200000</td>\n",
       "      <td>[]</td>\n",
       "      <td>NotBuffer</td>\n",
       "    </tr>\n",
       "    <tr>\n",
       "      <th>467</th>\n",
       "      <td>potassium dihydrogen phosphate-dipotassium hyd...</td>\n",
       "      <td>0.3</td>\n",
       "      <td>m</td>\n",
       "      <td>NaN</td>\n",
       "      <td>NaN</td>\n",
       "      <td>0.300000</td>\n",
       "      <td>[(1, 21), (2, 52), (1, 7), (2, 21), (1, 52), (...</td>\n",
       "      <td>NotBuffer</td>\n",
       "    </tr>\n",
       "  </tbody>\n",
       "</table>\n",
       "</div>"
      ],
      "text/plain": [
       "                                                  name  conc units  ph  \\\n",
       "182                                           glycerol  20.0   v/v NaN   \n",
       "230                           polyethylene glycol 8000  16.0   w/v NaN   \n",
       "467  potassium dihydrogen phosphate-dipotassium hyd...   0.3     m NaN   \n",
       "\n",
       "     percentage concentration   molarity  \\\n",
       "182                      25.2  27.364535   \n",
       "230                      16.0   0.200000   \n",
       "467                       NaN   0.300000   \n",
       "\n",
       "                                                  ions     buffer  \n",
       "182                                                 []  NotBuffer  \n",
       "230                                                 []  NotBuffer  \n",
       "467  [(1, 21), (2, 52), (1, 7), (2, 21), (1, 52), (...  NotBuffer  "
      ]
     },
     "execution_count": 12,
     "metadata": {},
     "output_type": "execute_result"
    }
   ],
   "source": [
    "chems_dccc.iloc[pdb_to_commercial[list(sgD[\"0.5\"][92])]]"
   ]
  },
  {
   "cell_type": "code",
   "execution_count": 13,
   "metadata": {},
   "outputs": [],
   "source": [
    "dccc_lookup = {}\r\n",
    "for screen in dccc:\r\n",
    "    for cond in dccc[screen]:\r\n",
    "        k = tuple(sorted(cond))\r\n",
    "        dccc_lookup.setdefault(k, list()).append(screen)"
   ]
  },
  {
   "cell_type": "code",
   "execution_count": 14,
   "metadata": {},
   "outputs": [
    {
     "data": {
      "text/plain": [
       "(182, 230, 467)"
      ]
     },
     "execution_count": 14,
     "metadata": {},
     "output_type": "execute_result"
    }
   ],
   "source": [
    "tuple(sorted(pdb_to_commercial[list(sgD[\"0.5\"][92])]))"
   ]
  },
  {
   "cell_type": "code",
   "execution_count": 15,
   "metadata": {},
   "outputs": [
    {
     "data": {
      "text/plain": [
       "array([(89, 303, 304), (111,), (22, 66, 208), (89, 100, 303), (39, 89),\n",
       "       (118, 119), (39, 40, 66), (66, 245), (89, 96, 303),\n",
       "       (118, 119, 304), (58, 118, 119), (82, 336), (16, 118, 119), (829,),\n",
       "       (103, 110, 328), (66, 119, 304), (39, 268), (58, 82, 1775),\n",
       "       (66, 119), (82, 85, 495), (63, 208, 815), (96, 118, 119), (39,),\n",
       "       (66, 262), (81, 118, 119), (58, 268, 429), (39, 118), (111, 294),\n",
       "       (71, 168), (66, 328), (66, 105, 1387), (66, 222), (81, 268, 303),\n",
       "       (268, 1599), (50, 303, 607), (58, 98, 103), (83, 103, 389),\n",
       "       (66, 153, 282), (111, 584), (58, 66, 119), (89, 304, 328),\n",
       "       (82, 2896), (89, 119), (66, 96, 119), (66, 90, 304),\n",
       "       (89, 119, 304), (98, 100, 103), (39, 63, 511), (3895,),\n",
       "       (66, 170, 858), (111, 378), (103, 173), (152, 1054),\n",
       "       (63, 321, 624), (66, 85, 154), (268, 451), (910,),\n",
       "       (118, 197, 2401), (39, 66), (111, 511), (58, 268, 508), (111, 579),\n",
       "       (16, 66, 119), (66, 81, 119), (27, 328, 389), (16, 39, 103),\n",
       "       (152, 661), (268, 965, 1196), (111, 116), (355,), (16, 89, 119),\n",
       "       (111, 2241), (149, 152, 687), (19, 111), (58, 89, 119), (328, 864),\n",
       "       (89, 166, 3124), (79, 552), (105, 111), (1840,), (81, 89, 119),\n",
       "       (111, 1348), (82, 691, 897), (66, 348, 861), (76,), (66, 982),\n",
       "       (16, 88, 328), (67, 89), (66, 236, 687), (77, 576, 577, 578),\n",
       "       (89, 96, 119), (0, 508), (66, 1886), (111, 1655), (84, 323),\n",
       "       (168, 175, 389)], dtype=object)"
      ]
     },
     "execution_count": 15,
     "metadata": {},
     "output_type": "execute_result"
    }
   ],
   "source": [
    "sgD['0.2']"
   ]
  },
  {
   "cell_type": "code",
   "execution_count": 16,
   "metadata": {},
   "outputs": [],
   "source": [
    "sgBasic = np.load(\"generated/screen/Shotgun_II_0.0.npy\", allow_pickle=True)"
   ]
  },
  {
   "cell_type": "code",
   "execution_count": 17,
   "metadata": {},
   "outputs": [
    {
     "data": {
      "text/plain": [
       "5465"
      ]
     },
     "execution_count": 17,
     "metadata": {},
     "output_type": "execute_result"
    }
   ],
   "source": [
    "len(set(clusters_in(sgGreedy)))"
   ]
  },
  {
   "cell_type": "code",
   "execution_count": 18,
   "metadata": {},
   "outputs": [
    {
     "data": {
      "text/plain": [
       "5448"
      ]
     },
     "execution_count": 18,
     "metadata": {},
     "output_type": "execute_result"
    }
   ],
   "source": [
    "len(set(clusters_in(sgBasic)))"
   ]
  },
  {
   "cell_type": "code",
   "execution_count": 19,
   "metadata": {},
   "outputs": [
    {
     "data": {
      "image/png": "[encoded data removed]",
      "text/plain": [
       "<Figure size 432x288 with 1 Axes>"
      ]
     },
     "metadata": {
      "needs_background": "light"
     },
     "output_type": "display_data"
    }
   ],
   "source": [
    "tot = [len(clusters_in(sgGreedy))]\n",
    "totnr = [len(set(clusters_in(sgGreedy)))]\n",
    "for k in sgD:\n",
    "    x0 = len(clusters_in(sgD[k]))\n",
    "    x1 = len(set(clusters_in(sgD[k])))\n",
    "    tot.append(x0)\n",
    "    totnr.append(x1)\n",
    "\n",
    "x=np.arange(len(tot))\n",
    "plt.figure()\n",
    "plt.vlines(x, 0, tot, linewidth=25, alpha=0.3, label=\"Redundant coverage\\nof NR-SCC\")\n",
    "plt.vlines(x, 0, totnr, linewidth=25, alpha=0.7, label=\"Non-redundant\\ncoverage of NR-SCC\")\n",
    "plt.ylim(0, 6500)\n",
    "plt.xlim(-0.5, 6.5)\n",
    "plt.xlabel(\"C6 Diversity Cutoff\")\n",
    "plt.ylabel(\"\\#Proteins hit in NR-SCC\")\n",
    "plt.xticks(np.arange(0, 6), [f\"{n:.1f}\" for n in np.arange(0, 6)/10])\n",
    "lgnd = plt.legend()\n",
    "lgnd.legendHandles[0].set_linewidth(5)\n",
    "lgnd.legendHandles[1].set_linewidth(5)\n",
    "plt.savefig(\"generated/screen/hits.png\", dpi=500)\n",
    "plt.show()"
   ]
  },
  {
   "cell_type": "code",
   "execution_count": 20,
   "metadata": {},
   "outputs": [
    {
     "name": "stdout",
     "output_type": "stream",
     "text": [
      "Fraction of clusters (proteins) of SGII0.X that are found in SGII Greedy (SGII0.0)\n"
     ]
    },
    {
     "data": {
      "image/png": "[encoded data removed]",
      "text/plain": [
       "<Figure size 432x288 with 1 Axes>"
      ]
     },
     "metadata": {
      "needs_background": "light"
     },
     "output_type": "display_data"
    }
   ],
   "source": [
    "print(\"Fraction of clusters (proteins) of SGII0.X that are found in SGII Greedy (SGII0.0)\")\n",
    "fracIn0 = [100]\n",
    "for k in sgD:\n",
    "    x = len(set(clusters_in(sgGreedy)).intersection(set(clusters_in(sgD[k])))) / len(set(clusters_in(sgGreedy)))\n",
    "    fracIn0.append(x*100)\n",
    "    # print(\"{}: {:.0f}%\".format(k,  x* 100))\n",
    "\n",
    "x=np.arange(len(fracIn0))\n",
    "plt.figure()\n",
    "plt.vlines(x, 0, fracIn0, linewidth=25)\n",
    "plt.xlim(-0.5, 5.5)\n",
    "plt.ylim(0, 105)\n",
    "plt.xlabel(\"C6 Diversity Cutoff\")\n",
    "plt.ylabel(\"\\% in SGII0\")\n",
    "plt.xticks(np.arange(0, 6), [f\"{n:.1f}\" for n in np.arange(0, 6)/10])\n",
    "plt.savefig(\"generated/screen/fracIn0.png\", dpi=500)\n",
    "plt.show()"
   ]
  },
  {
   "cell_type": "code",
   "execution_count": 24,
   "metadata": {},
   "outputs": [
    {
     "data": {
      "image/png": "[encoded data removed]",
      "text/plain": [
       "<Figure size 432x288 with 1 Axes>"
      ]
     },
     "metadata": {
      "needs_background": "light"
     },
     "output_type": "display_data"
    }
   ],
   "source": [
    "inSg0 = [len(set(clusters_in(sgGreedy)))]\r\n",
    "for k in sgD:\r\n",
    "    x = len(set(clusters_in(sgGreedy)).intersection(set(clusters_in(sgD[k]))))\r\n",
    "    inSg0.append(x)\r\n",
    "\r\n",
    "x=np.arange(len(tot))\r\n",
    "fig, ax = plt.subplots()\r\n",
    "plt.xlim(-0.5, 6.5)\r\n",
    "lw = linewidth_from_data_units(0.5, ax, 'x')\r\n",
    "plt.vlines(x, 0, totnr, linewidth=lw, alpha=0.3, label=\"Coverage of NR-SCC\")\r\n",
    "plt.vlines(x, 0, inSg0, linewidth=lw, alpha=0.7, label=\"\\#Proteins also found in\\nSGII 0.0\")\r\n",
    "for xv, u in zip(x, inSg0):\r\n",
    "    plt.plot([-0.25, xv+0.25], [u,u], c='k', linestyle='--',linewidth=0.5, alpha=0.5)\r\n",
    "plt.ylim(0, 6500)\r\n",
    "plt.xlabel(\"C6 Diversity Cutoff\", fontsize=15)\r\n",
    "plt.ylabel(\"\\#Proteins hit in NR-SCC\", fontsize=15)\r\n",
    "plt.xticks(np.arange(0, 6), [f\"{n:.1f}\" for n in np.arange(0, 6)/10])\r\n",
    "lgnd = plt.legend()\r\n",
    "lgnd.legendHandles[0].set_linewidth(5)\r\n",
    "lgnd.legendHandles[1].set_linewidth(5)\r\n",
    "plt.savefig(\"generated/screen/hits.pdf\", dpi=90)\r\n",
    "plt.show()"
   ]
  },
  {
   "cell_type": "code",
   "execution_count": 22,
   "metadata": {},
   "outputs": [
    {
     "data": {
      "text/plain": [
       "[5465, 5438, 5310, 4708, 4106, 3340]"
      ]
     },
     "execution_count": 22,
     "metadata": {},
     "output_type": "execute_result"
    }
   ],
   "source": [
    "totnr"
   ]
  },
  {
   "cell_type": "code",
   "execution_count": 39,
   "metadata": {},
   "outputs": [
    {
     "data": {
      "image/png": "[encoded data removed]",
      "text/plain": [
       "<Figure size 504x288 with 2 Axes>"
      ]
     },
     "metadata": {
      "needs_background": "light"
     },
     "output_type": "display_data"
    }
   ],
   "source": [
    "fig, ax1 = plt.subplots(figsize=(7,4))\r\n",
    "ax2 = ax1.twinx()\r\n",
    "ax1.set_xlim(-0.5, 5.5)\r\n",
    "lw1 = linewidth_from_data_units(0.4, ax1, reference='x')\r\n",
    "lns1=ax1.vlines(x-0.2, 0, totnr, linewidth=lw1, alpha=1, colors=\"tab:blue\", label=\"\\#Proteins hit in NR-SCC\")\r\n",
    "lns2=ax2.vlines(x+0.2, 0, fracIn0, linewidth=lw1, alpha=0.7, colors=\"tab:orange\", label=\"\\%Proteins in screen\\nalso in SGII 0.0\")\r\n",
    "ax1.set_ylim(0, 5800)\r\n",
    "ax2.set_ylim(0, 5800/totnr[0]*100)\r\n",
    "ax1.set_xlabel(\"C6 Diversity Cutoff\")\r\n",
    "ax1.set_ylabel(\"Count\")\r\n",
    "ax2.set_ylabel(\"\\%\")\r\n",
    "plt.xticks(np.arange(0, 6), [f\"{n:.1f}\" for n in np.arange(0, 6)/10])\r\n",
    "lns = [lns1,lns2]\r\n",
    "labs = [l.get_label() for l in lns]\r\n",
    "lgnd = ax1.legend(lns, labs, loc=0)\r\n",
    "lgnd.legendHandles[0].set_linewidth(5)\r\n",
    "lgnd.legendHandles[1].set_linewidth(5)\r\n",
    "plt.show()"
   ]
  },
  {
   "cell_type": "code",
   "execution_count": 9,
   "metadata": {},
   "outputs": [
    {
     "data": {
      "text/plain": [
       "[<matplotlib.lines.Line2D at 0x16d85fb6f70>]"
      ]
     },
     "execution_count": 9,
     "metadata": {},
     "output_type": "execute_result"
    },
    {
     "data": {
      "image/png": "[encoded data removed]",
      "image/svg+xml": "<?xml version=\"1.0\" encoding=\"utf-8\" standalone=\"no\"?>\r\n<!DOCTYPE svg PUBLIC \"-//W3C//DTD SVG 1.1//EN\"\r\n  \"http://www.w3.org/Graphics/SVG/1.1/DTD/svg11.dtd\">\r\n<svg height=\"247.695677pt\" version=\"1.1\" viewBox=\"0 0 371.144006 247.695677\" width=\"371.144006pt\" xmlns=\"http://www.w3.org/2000/svg\" xmlns:xlink=\"http://www.w3.org/1999/xlink\">\r\n <metadata>\r\n  <rdf:RDF xmlns:cc=\"http://creativecommons.org/ns#\" xmlns:dc=\"http://purl.org/dc/elements/1.1/\" xmlns:rdf=\"http://www.w3.org/1999/02/22-rdf-syntax-ns#\">\r\n   <cc:Work>\r\n    <dc:type rdf:resource=\"http://purl.org/dc/dcmitype/StillImage\"/>\r\n    <dc:date>2021-06-17T15:58:13.362579</dc:date>\r\n    <dc:format>image/svg+xml</dc:format>\r\n    <dc:creator>\r\n     <cc:Agent>\r\n      <dc:title>Matplotlib v3.4.1, https://matplotlib.org/</dc:title>\r\n     </cc:Agent>\r\n    </dc:creator>\r\n   </cc:Work>\r\n  </rdf:RDF>\r\n </metadata>\r\n <defs>\r\n  <style type=\"text/css\">*{stroke-linecap:butt;stroke-linejoin:round;}</style>\r\n </defs>\r\n <g id=\"figure_1\">\r\n  <g id=\"patch_1\">\r\n   <path d=\"M 0 247.695677 \r\nL 371.144006 247.695677 \r\nL 371.144006 0 \r\nL 0 0 \r\nz\r\n\" style=\"fill:none;\"/>\r\n  </g>\r\n  <g id=\"axes_1\">\r\n   <g id=\"patch_2\">\r\n    <path d=\"M 29.144006 224.64 \r\nL 363.944006 224.64 \r\nL 363.944006 7.2 \r\nL 29.144006 7.2 \r\nz\r\n\" style=\"fill:#ffffff;\"/>\r\n   </g>\r\n   <g id=\"matplotlib.axis_1\">\r\n    <g id=\"xtick_1\">\r\n     <g id=\"line2d_1\">\r\n      <defs>\r\n       <path d=\"M 0 0 \r\nL 0 3.5 \r\n\" id=\"mbe4f998d2f\" style=\"stroke:#000000;stroke-width:0.8;\"/>\r\n      </defs>\r\n      <g>\r\n       <use style=\"stroke:#000000;stroke-width:0.8;\" x=\"44.362188\" xlink:href=\"#mbe4f998d2f\" y=\"224.64\"/>\r\n      </g>\r\n     </g>\r\n     <g id=\"text_1\">\r\n      <!-- $\\mathdefault{0}$ -->\r\n      <g transform=\"translate(41.87152 238.558498)scale(0.1 -0.1)\">\r\n       <defs>\r\n        <path d=\"M 2688 2025 \r\nC 2688 2416 2682 3080 2413 3591 \r\nC 2176 4039 1798 4198 1466 4198 \r\nC 1158 4198 768 4058 525 3597 \r\nC 269 3118 243 2524 243 2025 \r\nC 243 1661 250 1106 448 619 \r\nC 723 -39 1216 -128 1466 -128 \r\nC 1760 -128 2208 -7 2470 600 \r\nC 2662 1042 2688 1559 2688 2025 \r\nz\r\nM 1466 -26 \r\nC 1056 -26 813 325 723 812 \r\nC 653 1188 653 1738 653 2096 \r\nC 653 2588 653 2997 736 3387 \r\nC 858 3929 1216 4096 1466 4096 \r\nC 1728 4096 2067 3923 2189 3400 \r\nC 2272 3036 2278 2607 2278 2096 \r\nC 2278 1680 2278 1169 2202 792 \r\nC 2067 95 1690 -26 1466 -26 \r\nz\r\n\" id=\"CMR17-30\" transform=\"scale(0.015625)\"/>\r\n       </defs>\r\n       <use transform=\"scale(0.996264)\" xlink:href=\"#CMR17-30\"/>\r\n      </g>\r\n     </g>\r\n    </g>\r\n    <g id=\"xtick_2\">\r\n     <g id=\"line2d_2\">\r\n      <g>\r\n       <use style=\"stroke:#000000;stroke-width:0.8;\" x=\"105.234915\" xlink:href=\"#mbe4f998d2f\" y=\"224.64\"/>\r\n      </g>\r\n     </g>\r\n     <g id=\"text_2\">\r\n      <!-- $\\mathdefault{1}$ -->\r\n      <g transform=\"translate(102.744247 238.558498)scale(0.1 -0.1)\">\r\n       <defs>\r\n        <path d=\"M 1702 4058 \r\nC 1702 4192 1696 4192 1606 4192 \r\nC 1357 3916 979 3827 621 3827 \r\nC 602 3827 570 3827 563 3808 \r\nC 557 3795 557 3782 557 3648 \r\nC 755 3648 1088 3686 1344 3839 \r\nL 1344 461 \r\nC 1344 236 1331 160 781 160 \r\nL 589 160 \r\nL 589 0 \r\nC 896 0 1216 0 1523 0 \r\nC 1830 0 2150 0 2458 0 \r\nL 2458 160 \r\nL 2266 160 \r\nC 1715 160 1702 230 1702 458 \r\nL 1702 4058 \r\nz\r\n\" id=\"CMR17-31\" transform=\"scale(0.015625)\"/>\r\n       </defs>\r\n       <use transform=\"scale(0.996264)\" xlink:href=\"#CMR17-31\"/>\r\n      </g>\r\n     </g>\r\n    </g>\r\n    <g id=\"xtick_3\">\r\n     <g id=\"line2d_3\">\r\n      <g>\r\n       <use style=\"stroke:#000000;stroke-width:0.8;\" x=\"166.107642\" xlink:href=\"#mbe4f998d2f\" y=\"224.64\"/>\r\n      </g>\r\n     </g>\r\n     <g id=\"text_3\">\r\n      <!-- $\\mathdefault{2}$ -->\r\n      <g transform=\"translate(163.616974 238.558498)scale(0.1 -0.1)\">\r\n       <defs>\r\n        <path d=\"M 2669 989 \r\nL 2554 989 \r\nC 2490 536 2438 459 2413 420 \r\nC 2381 369 1920 369 1830 369 \r\nL 602 369 \r\nC 832 619 1280 1072 1824 1597 \r\nC 2214 1967 2669 2402 2669 3035 \r\nC 2669 3790 2067 4224 1395 4224 \r\nC 691 4224 262 3604 262 3030 \r\nC 262 2780 448 2748 525 2748 \r\nC 589 2748 781 2787 781 3010 \r\nC 781 3207 614 3264 525 3264 \r\nC 486 3264 448 3258 422 3245 \r\nC 544 3790 915 4058 1306 4058 \r\nC 1862 4058 2227 3617 2227 3035 \r\nC 2227 2479 1901 2000 1536 1584 \r\nL 262 146 \r\nL 262 0 \r\nL 2515 0 \r\nL 2669 989 \r\nz\r\n\" id=\"CMR17-32\" transform=\"scale(0.015625)\"/>\r\n       </defs>\r\n       <use transform=\"scale(0.996264)\" xlink:href=\"#CMR17-32\"/>\r\n      </g>\r\n     </g>\r\n    </g>\r\n    <g id=\"xtick_4\">\r\n     <g id=\"line2d_4\">\r\n      <g>\r\n       <use style=\"stroke:#000000;stroke-width:0.8;\" x=\"226.980369\" xlink:href=\"#mbe4f998d2f\" y=\"224.64\"/>\r\n      </g>\r\n     </g>\r\n     <g id=\"text_4\">\r\n      <!-- $\\mathdefault{3}$ -->\r\n      <g transform=\"translate(224.489702 238.558498)scale(0.1 -0.1)\">\r\n       <defs>\r\n        <path d=\"M 1414 2157 \r\nC 1984 2157 2234 1662 2234 1090 \r\nC 2234 320 1824 25 1453 25 \r\nC 1114 25 563 194 390 693 \r\nC 422 680 454 680 486 680 \r\nC 640 680 755 782 755 948 \r\nC 755 1133 614 1216 486 1216 \r\nC 378 1216 211 1165 211 926 \r\nC 211 335 787 -128 1466 -128 \r\nC 2176 -128 2720 430 2720 1085 \r\nC 2720 1707 2208 2157 1600 2227 \r\nC 2086 2328 2554 2756 2554 3329 \r\nC 2554 3820 2048 4179 1472 4179 \r\nC 890 4179 378 3829 378 3329 \r\nC 378 3110 544 3072 627 3072 \r\nC 762 3072 877 3155 877 3321 \r\nC 877 3486 762 3569 627 3569 \r\nC 602 3569 570 3569 544 3557 \r\nC 730 3959 1235 4032 1459 4032 \r\nC 1683 4032 2106 3925 2106 3320 \r\nC 2106 3143 2080 2828 1862 2550 \r\nC 1670 2304 1453 2304 1242 2284 \r\nC 1210 2284 1062 2269 1037 2269 \r\nC 992 2263 966 2257 966 2208 \r\nC 966 2163 973 2157 1101 2157 \r\nL 1414 2157 \r\nz\r\n\" id=\"CMR17-33\" transform=\"scale(0.015625)\"/>\r\n       </defs>\r\n       <use transform=\"scale(0.996264)\" xlink:href=\"#CMR17-33\"/>\r\n      </g>\r\n     </g>\r\n    </g>\r\n    <g id=\"xtick_5\">\r\n     <g id=\"line2d_5\">\r\n      <g>\r\n       <use style=\"stroke:#000000;stroke-width:0.8;\" x=\"287.853097\" xlink:href=\"#mbe4f998d2f\" y=\"224.64\"/>\r\n      </g>\r\n     </g>\r\n     <g id=\"text_5\">\r\n      <!-- $\\mathdefault{4}$ -->\r\n      <g transform=\"translate(285.362429 238.558498)scale(0.1 -0.1)\">\r\n       <defs>\r\n        <path d=\"M 2150 4122 \r\nC 2150 4256 2144 4256 2029 4256 \r\nL 128 1254 \r\nL 128 1088 \r\nL 1779 1088 \r\nL 1779 457 \r\nC 1779 224 1766 160 1318 160 \r\nL 1197 160 \r\nL 1197 0 \r\nC 1402 0 1747 0 1965 0 \r\nC 2182 0 2528 0 2733 0 \r\nL 2733 160 \r\nL 2611 160 \r\nC 2163 160 2150 224 2150 457 \r\nL 2150 1088 \r\nL 2803 1088 \r\nL 2803 1254 \r\nL 2150 1254 \r\nL 2150 4122 \r\nz\r\nM 1798 3703 \r\nL 1798 1254 \r\nL 256 1254 \r\nL 1798 3703 \r\nz\r\n\" id=\"CMR17-34\" transform=\"scale(0.015625)\"/>\r\n       </defs>\r\n       <use transform=\"scale(0.996264)\" xlink:href=\"#CMR17-34\"/>\r\n      </g>\r\n     </g>\r\n    </g>\r\n    <g id=\"xtick_6\">\r\n     <g id=\"line2d_6\">\r\n      <g>\r\n       <use style=\"stroke:#000000;stroke-width:0.8;\" x=\"348.725824\" xlink:href=\"#mbe4f998d2f\" y=\"224.64\"/>\r\n      </g>\r\n     </g>\r\n     <g id=\"text_6\">\r\n      <!-- $\\mathdefault{5}$ -->\r\n      <g transform=\"translate(346.235156 238.558498)scale(0.1 -0.1)\">\r\n       <defs>\r\n        <path d=\"M 730 3692 \r\nC 794 3666 1056 3584 1325 3584 \r\nC 1920 3584 2246 3911 2432 4100 \r\nC 2432 4157 2432 4192 2394 4192 \r\nC 2387 4192 2374 4192 2323 4163 \r\nC 2099 4058 1837 3973 1517 3973 \r\nC 1325 3973 1037 3999 723 4139 \r\nC 653 4171 640 4171 634 4171 \r\nC 602 4171 595 4164 595 4037 \r\nL 595 2203 \r\nC 595 2089 595 2057 659 2057 \r\nC 691 2057 704 2070 736 2114 \r\nC 941 2401 1222 2522 1542 2522 \r\nC 1766 2522 2246 2382 2246 1289 \r\nC 2246 1085 2246 715 2054 421 \r\nC 1894 159 1645 25 1370 25 \r\nC 947 25 518 320 403 814 \r\nC 429 807 480 795 506 795 \r\nC 589 795 749 840 749 1038 \r\nC 749 1210 627 1280 506 1280 \r\nC 358 1280 262 1190 262 1011 \r\nC 262 454 704 -128 1382 -128 \r\nC 2042 -128 2669 440 2669 1264 \r\nC 2669 2030 2170 2624 1549 2624 \r\nC 1222 2624 947 2503 730 2274 \r\nL 730 3692 \r\nz\r\n\" id=\"CMR17-35\" transform=\"scale(0.015625)\"/>\r\n       </defs>\r\n       <use transform=\"scale(0.996264)\" xlink:href=\"#CMR17-35\"/>\r\n      </g>\r\n     </g>\r\n    </g>\r\n   </g>\r\n   <g id=\"matplotlib.axis_2\">\r\n    <g id=\"ytick_1\">\r\n     <g id=\"line2d_7\">\r\n      <defs>\r\n       <path d=\"M 0 0 \r\nL -3.5 0 \r\n\" id=\"mdbabd4adde\" style=\"stroke:#000000;stroke-width:0.8;\"/>\r\n      </defs>\r\n      <g>\r\n       <use style=\"stroke:#000000;stroke-width:0.8;\" x=\"29.144006\" xlink:href=\"#mdbabd4adde\" y=\"209.532827\"/>\r\n      </g>\r\n     </g>\r\n     <g id=\"text_7\">\r\n      <!-- $\\mathdefault{40}$ -->\r\n      <g transform=\"translate(12.181335 212.992076)scale(0.1 -0.1)\">\r\n       <use transform=\"scale(0.996264)\" xlink:href=\"#CMR17-34\"/>\r\n       <use transform=\"translate(45.690477 0)scale(0.996264)\" xlink:href=\"#CMR17-30\"/>\r\n      </g>\r\n     </g>\r\n    </g>\r\n    <g id=\"ytick_2\">\r\n     <g id=\"line2d_8\">\r\n      <g>\r\n       <use style=\"stroke:#000000;stroke-width:0.8;\" x=\"29.144006\" xlink:href=\"#mdbabd4adde\" y=\"177.457962\"/>\r\n      </g>\r\n     </g>\r\n     <g id=\"text_8\">\r\n      <!-- $\\mathdefault{50}$ -->\r\n      <g transform=\"translate(12.181335 180.917211)scale(0.1 -0.1)\">\r\n       <use transform=\"scale(0.996264)\" xlink:href=\"#CMR17-35\"/>\r\n       <use transform=\"translate(45.690477 0)scale(0.996264)\" xlink:href=\"#CMR17-30\"/>\r\n      </g>\r\n     </g>\r\n    </g>\r\n    <g id=\"ytick_3\">\r\n     <g id=\"line2d_9\">\r\n      <g>\r\n       <use style=\"stroke:#000000;stroke-width:0.8;\" x=\"29.144006\" xlink:href=\"#mdbabd4adde\" y=\"145.383097\"/>\r\n      </g>\r\n     </g>\r\n     <g id=\"text_9\">\r\n      <!-- $\\mathdefault{60}$ -->\r\n      <g transform=\"translate(12.181335 148.842346)scale(0.1 -0.1)\">\r\n       <defs>\r\n        <path d=\"M 678 2176 \r\nC 678 3690 1395 4032 1811 4032 \r\nC 1946 4032 2272 4009 2400 3776 \r\nC 2298 3776 2106 3776 2106 3553 \r\nC 2106 3381 2246 3323 2336 3323 \r\nC 2394 3323 2566 3348 2566 3560 \r\nC 2566 3954 2246 4179 1805 4179 \r\nC 1043 4179 243 3390 243 1984 \r\nC 243 253 966 -128 1478 -128 \r\nC 2099 -128 2688 427 2688 1283 \r\nC 2688 2081 2170 2662 1517 2662 \r\nC 1126 2662 838 2407 678 1960 \r\nL 678 2176 \r\nz\r\nM 1478 25 \r\nC 691 25 691 1200 691 1436 \r\nC 691 1896 909 2560 1504 2560 \r\nC 1613 2560 1926 2560 2138 2120 \r\nC 2253 1870 2253 1609 2253 1289 \r\nC 2253 944 2253 690 2118 434 \r\nC 1978 171 1773 25 1478 25 \r\nz\r\n\" id=\"CMR17-36\" transform=\"scale(0.015625)\"/>\r\n       </defs>\r\n       <use transform=\"scale(0.996264)\" xlink:href=\"#CMR17-36\"/>\r\n       <use transform=\"translate(45.690477 0)scale(0.996264)\" xlink:href=\"#CMR17-30\"/>\r\n      </g>\r\n     </g>\r\n    </g>\r\n    <g id=\"ytick_4\">\r\n     <g id=\"line2d_10\">\r\n      <g>\r\n       <use style=\"stroke:#000000;stroke-width:0.8;\" x=\"29.144006\" xlink:href=\"#mdbabd4adde\" y=\"113.308231\"/>\r\n      </g>\r\n     </g>\r\n     <g id=\"text_10\">\r\n      <!-- $\\mathdefault{70}$ -->\r\n      <g transform=\"translate(12.181335 116.767481)scale(0.1 -0.1)\">\r\n       <defs>\r\n        <path d=\"M 2886 3941 \r\nL 2886 4081 \r\nL 1382 4081 \r\nC 634 4081 621 4165 595 4288 \r\nL 480 4288 \r\nL 294 3094 \r\nL 410 3094 \r\nC 429 3215 474 3540 550 3661 \r\nC 589 3712 1062 3712 1171 3712 \r\nL 2579 3712 \r\nL 1869 2661 \r\nC 1395 1954 1069 999 1069 165 \r\nC 1069 89 1069 -128 1299 -128 \r\nC 1530 -128 1530 89 1530 171 \r\nL 1530 465 \r\nC 1530 1508 1709 2196 2003 2636 \r\nL 2886 3941 \r\nz\r\n\" id=\"CMR17-37\" transform=\"scale(0.015625)\"/>\r\n       </defs>\r\n       <use transform=\"scale(0.996264)\" xlink:href=\"#CMR17-37\"/>\r\n       <use transform=\"translate(45.690477 0)scale(0.996264)\" xlink:href=\"#CMR17-30\"/>\r\n      </g>\r\n     </g>\r\n    </g>\r\n    <g id=\"ytick_5\">\r\n     <g id=\"line2d_11\">\r\n      <g>\r\n       <use style=\"stroke:#000000;stroke-width:0.8;\" x=\"29.144006\" xlink:href=\"#mdbabd4adde\" y=\"81.233366\"/>\r\n      </g>\r\n     </g>\r\n     <g id=\"text_11\">\r\n      <!-- $\\mathdefault{80}$ -->\r\n      <g transform=\"translate(12.181335 84.692616)scale(0.1 -0.1)\">\r\n       <defs>\r\n        <path d=\"M 1741 2264 \r\nC 2144 2467 2554 2773 2554 3263 \r\nC 2554 3841 1990 4179 1472 4179 \r\nC 890 4179 378 3759 378 3180 \r\nC 378 3021 416 2747 666 2505 \r\nC 730 2442 998 2251 1171 2130 \r\nC 883 1983 211 1634 211 934 \r\nC 211 279 838 -128 1459 -128 \r\nC 2144 -128 2720 362 2720 1010 \r\nC 2720 1590 2330 1857 2074 2029 \r\nL 1741 2264 \r\nz\r\nM 902 2822 \r\nC 851 2854 595 3051 595 3351 \r\nC 595 3739 998 4032 1459 4032 \r\nC 1965 4032 2336 3676 2336 3262 \r\nC 2336 2669 1670 2331 1638 2331 \r\nC 1632 2331 1626 2331 1574 2370 \r\nL 902 2822 \r\nz\r\nM 2080 1519 \r\nC 2176 1449 2483 1240 2483 851 \r\nC 2483 381 2010 25 1472 25 \r\nC 890 25 448 438 448 940 \r\nC 448 1443 838 1862 1280 2060 \r\nL 2080 1519 \r\nz\r\n\" id=\"CMR17-38\" transform=\"scale(0.015625)\"/>\r\n       </defs>\r\n       <use transform=\"scale(0.996264)\" xlink:href=\"#CMR17-38\"/>\r\n       <use transform=\"translate(45.690477 0)scale(0.996264)\" xlink:href=\"#CMR17-30\"/>\r\n      </g>\r\n     </g>\r\n    </g>\r\n    <g id=\"ytick_6\">\r\n     <g id=\"line2d_12\">\r\n      <g>\r\n       <use style=\"stroke:#000000;stroke-width:0.8;\" x=\"29.144006\" xlink:href=\"#mdbabd4adde\" y=\"49.158501\"/>\r\n      </g>\r\n     </g>\r\n     <g id=\"text_12\">\r\n      <!-- $\\mathdefault{90}$ -->\r\n      <g transform=\"translate(12.181335 52.617751)scale(0.1 -0.1)\">\r\n       <defs>\r\n        <path d=\"M 2253 1864 \r\nC 2253 464 1670 31 1190 31 \r\nC 1043 31 685 31 538 294 \r\nC 704 268 826 357 826 518 \r\nC 826 692 685 749 595 749 \r\nC 538 749 365 723 365 506 \r\nC 365 71 742 -128 1203 -128 \r\nC 1939 -128 2688 674 2688 2073 \r\nC 2688 3817 1971 4179 1485 4179 \r\nC 851 4179 243 3628 243 2778 \r\nC 243 1991 762 1408 1414 1408 \r\nC 1952 1408 2189 1903 2253 2112 \r\nL 2253 1864 \r\nz\r\nM 1427 1510 \r\nC 1254 1510 1011 1542 813 1922 \r\nC 678 2169 678 2461 678 2771 \r\nC 678 3146 678 3405 858 3684 \r\nC 947 3817 1114 4032 1485 4032 \r\nC 2240 4032 2240 2885 2240 2632 \r\nC 2240 2182 2035 1510 1427 1510 \r\nz\r\n\" id=\"CMR17-39\" transform=\"scale(0.015625)\"/>\r\n       </defs>\r\n       <use transform=\"scale(0.996264)\" xlink:href=\"#CMR17-39\"/>\r\n       <use transform=\"translate(45.690477 0)scale(0.996264)\" xlink:href=\"#CMR17-30\"/>\r\n      </g>\r\n     </g>\r\n    </g>\r\n    <g id=\"ytick_7\">\r\n     <g id=\"line2d_13\">\r\n      <g>\r\n       <use style=\"stroke:#000000;stroke-width:0.8;\" x=\"29.144006\" xlink:href=\"#mdbabd4adde\" y=\"17.083636\"/>\r\n      </g>\r\n     </g>\r\n     <g id=\"text_13\">\r\n      <!-- $\\mathdefault{100}$ -->\r\n      <g transform=\"translate(7.2 20.542886)scale(0.1 -0.1)\">\r\n       <use transform=\"scale(0.996264)\" xlink:href=\"#CMR17-31\"/>\r\n       <use transform=\"translate(45.690477 0)scale(0.996264)\" xlink:href=\"#CMR17-30\"/>\r\n       <use transform=\"translate(91.380954 0)scale(0.996264)\" xlink:href=\"#CMR17-30\"/>\r\n      </g>\r\n     </g>\r\n    </g>\r\n   </g>\r\n   <g id=\"line2d_14\">\r\n    <defs>\r\n     <path d=\"M -3 3 \r\nL 3 -3 \r\nM -3 -3 \r\nL 3 3 \r\n\" id=\"m8e805000bf\" style=\"stroke:#1f77b4;\"/>\r\n    </defs>\r\n    <g clip-path=\"url(#p0b4958f23b)\">\r\n     <use style=\"fill:#1f77b4;stroke:#1f77b4;\" x=\"44.362188\" xlink:href=\"#m8e805000bf\" y=\"17.083636\"/>\r\n     <use style=\"fill:#1f77b4;stroke:#1f77b4;\" x=\"105.234915\" xlink:href=\"#m8e805000bf\" y=\"21.955025\"/>\r\n     <use style=\"fill:#1f77b4;stroke:#1f77b4;\" x=\"166.107642\" xlink:href=\"#m8e805000bf\" y=\"40.560207\"/>\r\n     <use style=\"fill:#1f77b4;stroke:#1f77b4;\" x=\"226.980369\" xlink:href=\"#m8e805000bf\" y=\"106.705446\"/>\r\n     <use style=\"fill:#1f77b4;stroke:#1f77b4;\" x=\"287.853097\" xlink:href=\"#m8e805000bf\" y=\"159.879879\"/>\r\n     <use style=\"fill:#1f77b4;stroke:#1f77b4;\" x=\"348.725824\" xlink:href=\"#m8e805000bf\" y=\"214.756364\"/>\r\n    </g>\r\n   </g>\r\n   <g id=\"patch_3\">\r\n    <path d=\"M 29.144006 224.64 \r\nL 29.144006 7.2 \r\n\" style=\"fill:none;stroke:#000000;stroke-linecap:square;stroke-linejoin:miter;stroke-width:0.8;\"/>\r\n   </g>\r\n   <g id=\"patch_4\">\r\n    <path d=\"M 363.944006 224.64 \r\nL 363.944006 7.2 \r\n\" style=\"fill:none;stroke:#000000;stroke-linecap:square;stroke-linejoin:miter;stroke-width:0.8;\"/>\r\n   </g>\r\n   <g id=\"patch_5\">\r\n    <path d=\"M 29.144006 224.64 \r\nL 363.944006 224.64 \r\n\" style=\"fill:none;stroke:#000000;stroke-linecap:square;stroke-linejoin:miter;stroke-width:0.8;\"/>\r\n   </g>\r\n   <g id=\"patch_6\">\r\n    <path d=\"M 29.144006 7.2 \r\nL 363.944006 7.2 \r\n\" style=\"fill:none;stroke:#000000;stroke-linecap:square;stroke-linejoin:miter;stroke-width:0.8;\"/>\r\n   </g>\r\n  </g>\r\n </g>\r\n <defs>\r\n  <clipPath id=\"p0b4958f23b\">\r\n   <rect height=\"217.44\" width=\"334.8\" x=\"29.144006\" y=\"7.2\"/>\r\n  </clipPath>\r\n </defs>\r\n</svg>\r\n",
      "text/plain": [
       "<Figure size 432x288 with 1 Axes>"
      ]
     },
     "metadata": {
      "needs_background": "light"
     },
     "output_type": "display_data"
    }
   ],
   "source": [
    "plt.figure()\n",
    "plt.plot(fracIn0, 'x')\n"
   ]
  },
  {
   "cell_type": "code",
   "execution_count": 10,
   "metadata": {},
   "outputs": [
    {
     "ename": "KeyError",
     "evalue": "0",
     "output_type": "error",
     "traceback": [
      "\u001b[1;31m---------------------------------------------------------------------------\u001b[0m",
      "\u001b[1;31mKeyError\u001b[0m                                  Traceback (most recent call last)",
      "\u001b[1;32m<ipython-input-10-125987ad01b6>\u001b[0m in \u001b[0;36m<module>\u001b[1;34m\u001b[0m\n\u001b[1;32m----> 1\u001b[1;33m \u001b[0mlen\u001b[0m\u001b[1;33m(\u001b[0m\u001b[0mset\u001b[0m\u001b[1;33m(\u001b[0m\u001b[0mclusters_in\u001b[0m\u001b[1;33m(\u001b[0m\u001b[0msgD\u001b[0m\u001b[1;33m[\u001b[0m\u001b[1;36m0\u001b[0m\u001b[1;33m]\u001b[0m\u001b[1;33m)\u001b[0m\u001b[1;33m)\u001b[0m \u001b[1;33m^\u001b[0m \u001b[0mset\u001b[0m\u001b[1;33m(\u001b[0m\u001b[0mclusters_in\u001b[0m\u001b[1;33m(\u001b[0m\u001b[0msgD\u001b[0m\u001b[1;33m[\u001b[0m\u001b[1;36m1\u001b[0m\u001b[1;33m]\u001b[0m\u001b[1;33m)\u001b[0m\u001b[1;33m)\u001b[0m\u001b[1;33m)\u001b[0m\u001b[1;33m\u001b[0m\u001b[1;33m\u001b[0m\u001b[0m\n\u001b[0m",
      "\u001b[1;31mKeyError\u001b[0m: 0"
     ]
    }
   ],
   "source": [
    "len(set(clusters_in(sgD[0])) ^ set(clusters_in(sgD[1])))"
   ]
  },
  {
   "cell_type": "code",
   "execution_count": 11,
   "metadata": {},
   "outputs": [
    {
     "ename": "NameError",
     "evalue": "name 'sg00' is not defined",
     "output_type": "error",
     "traceback": [
      "\u001b[1;31m---------------------------------------------------------------------------\u001b[0m",
      "\u001b[1;31mNameError\u001b[0m                                 Traceback (most recent call last)",
      "\u001b[1;32m<ipython-input-11-e384ec22dfb9>\u001b[0m in \u001b[0;36m<module>\u001b[1;34m\u001b[0m\n\u001b[1;32m----> 1\u001b[1;33m \u001b[0mlen\u001b[0m\u001b[1;33m(\u001b[0m\u001b[0mset\u001b[0m\u001b[1;33m(\u001b[0m\u001b[0mclusters_in\u001b[0m\u001b[1;33m(\u001b[0m\u001b[0msg00\u001b[0m\u001b[1;33m)\u001b[0m\u001b[1;33m)\u001b[0m\u001b[1;33m)\u001b[0m\u001b[1;33m\u001b[0m\u001b[1;33m\u001b[0m\u001b[0m\n\u001b[0m",
      "\u001b[1;31mNameError\u001b[0m: name 'sg00' is not defined"
     ]
    }
   ],
   "source": [
    "len(set(clusters_in(sg00)))"
   ]
  },
  {
   "cell_type": "code",
   "execution_count": 31,
   "metadata": {},
   "outputs": [
    {
     "data": {
      "text/plain": [
       "5465"
      ]
     },
     "execution_count": 31,
     "metadata": {},
     "output_type": "execute_result"
    }
   ],
   "source": [
    "len(set(clusters_in(sgGreedy)))"
   ]
  },
  {
   "cell_type": "code",
   "execution_count": 26,
   "metadata": {},
   "outputs": [
    {
     "data": {
      "text/plain": [
       "5448"
      ]
     },
     "execution_count": 26,
     "metadata": {},
     "output_type": "execute_result"
    }
   ],
   "source": [
    "len(set(clusters_in_sgOld))"
   ]
  },
  {
   "cell_type": "code",
   "execution_count": 17,
   "metadata": {},
   "outputs": [
    {
     "data": {
      "text/plain": [
       "5500"
      ]
     },
     "execution_count": 17,
     "metadata": {},
     "output_type": "execute_result"
    }
   ],
   "source": [
    "len(set(clusters_in_sgOldUF))"
   ]
  },
  {
   "cell_type": "code",
   "execution_count": 21,
   "metadata": {},
   "outputs": [
    {
     "name": "stdout",
     "output_type": "stream",
     "text": [
      "(207,)\n",
      "(66,)\n",
      "(82,)\n",
      "(89,)\n"
     ]
    }
   ],
   "source": [
    "for x in sgOldUF:\n",
    "    if x not in sgOld:\n",
    "        print(x)"
   ]
  },
  {
   "cell_type": "code",
   "execution_count": 23,
   "metadata": {},
   "outputs": [
    {
     "data": {
      "text/plain": [
       "name                        sodium hepes\n",
       "conc                                 0.1\n",
       "units                                  m\n",
       "ph                                   7.5\n",
       "percentage concentration          0.2603\n",
       "molarity                             0.1\n",
       "ions                           [(1, 57)]\n",
       "buffer                            Buffer\n",
       "Name: 66, dtype: object"
      ]
     },
     "execution_count": 23,
     "metadata": {},
     "output_type": "execute_result"
    }
   ],
   "source": [
    "chems_pdb.iloc[66]"
   ]
  },
  {
   "cell_type": "code",
   "execution_count": 16,
   "metadata": {},
   "outputs": [],
   "source": [
    "sgOldUF = nrscc_sorted[:96]\n",
    "clusters_in_sgOldUF = []\n",
    "for cond in sgOldUF:\n",
    "    clusters_in_sgOldUF.extend(clusters[cond])"
   ]
  },
  {
   "cell_type": "code",
   "execution_count": 5,
   "metadata": {},
   "outputs": [],
   "source": [
    "sgOld = nrscc_sorted[:96]\n",
    "clusters_in_sgOld = []\n",
    "for cond in sgOld:\n",
    "    clusters_in_sgOld.extend(clusters[cond])"
   ]
  },
  {
   "cell_type": "code",
   "execution_count": 9,
   "metadata": {},
   "outputs": [],
   "source": [
    "for cond in sgOld:\n",
    "    if -1 in pdb_to_commercial[list(cond)]:\n",
    "        print(\"not found\")"
   ]
  },
  {
   "cell_type": "code",
   "execution_count": 9,
   "metadata": {},
   "outputs": [
    {
     "name": "stderr",
     "output_type": "stream",
     "text": [
      "  1%|          | 1/96 [00:00<00:10,  8.85it/s]Removed 39722 conditions (either bad or not in DCCC)\n",
      "100%|██████████| 96/96 [00:07<00:00, 12.47it/s]SGII x: 5465 / 6028 = 90.7% unique\n",
      "\n"
     ]
    }
   ],
   "source": [
    "# Create Shotgun X\n",
    "\n",
    "top_clusters= []\n",
    "remaining = []\n",
    "\n",
    "# Remove any conditions that are\n",
    "# -> only composed of a buffer\n",
    "# -> only one factor with concentration < 0.1 M\n",
    "# Also, filter by in DCCC\n",
    "for cond in nrscc_all:\n",
    "    if -1 in pdb_to_commercial[list(cond)]: # Note: doing this makes no difference, as expected :)\n",
    "        continue\n",
    "    if len(cond) == 1:\n",
    "        details = chems_pdb.iloc[cond[0]]\n",
    "        if details[\"buffer\"] == \"Buffer\" or details[\"molarity\"] <= 0.1:\n",
    "            continue\n",
    "    remaining.append(cond)\n",
    "\n",
    "print(f\"Removed {len(nrscc_all)-len(remaining)} conditions (either bad or not in DCCC)\")\n",
    "\n",
    "not_covered = set()\n",
    "for x in remaining:\n",
    "    not_covered.update(clusters[x])\n",
    "\n",
    "for i in tqdm(range(96)):\n",
    "    next_cond = sorted(remaining, key = lambda x: len(set(clusters[x]).intersection(not_covered)), reverse=True)[0]\n",
    "    next_cluster = clusters[next_cond]\n",
    "    top_clusters.append(next_cond)\n",
    "    remaining.remove(next_cond)\n",
    "    not_covered -= set(next_cluster)\n",
    "\n",
    "sgx = top_clusters\n",
    "clusters_in_sgx = []\n",
    "for cond in sgx:\n",
    "    clusters_in_sgx.extend(clusters[cond])\n",
    "print(f\"SGII x: {len(set(clusters_in_sgx))} / {len(clusters_in_sgx)} = {100*len(set(clusters_in_sgx))/len(clusters_in_sgx):.1f}% unique\")"
   ]
  },
  {
   "cell_type": "code",
   "execution_count": 11,
   "metadata": {},
   "outputs": [
    {
     "data": {
      "text/plain": [
       "(89, 303, 304)"
      ]
     },
     "execution_count": 11,
     "metadata": {},
     "output_type": "execute_result"
    }
   ],
   "source": [
    "sgOld[0]"
   ]
  },
  {
   "cell_type": "code",
   "execution_count": null,
   "metadata": {},
   "outputs": [],
   "source": [
    "len([x for x in clusters if len(clusters[x]) > 30])"
   ]
  },
  {
   "cell_type": "code",
   "execution_count": null,
   "metadata": {},
   "outputs": [],
   "source": []
  },
  {
   "cell_type": "code",
   "execution_count": null,
   "metadata": {},
   "outputs": [],
   "source": [
    "from matplotlib import rc\n",
    "rc('font', **{'family': 'serif', 'serif': ['Computer Modern']})\n",
    "rc('text', usetex=True)\n",
    "rc('text.latex', preamble= r'\\usepackage{amsfonts}')"
   ]
  },
  {
   "cell_type": "code",
   "execution_count": null,
   "metadata": {},
   "outputs": [],
   "source": [
    "from maxcov import greedy, bigStepGreedy"
   ]
  },
  {
   "cell_type": "code",
   "execution_count": null,
   "metadata": {},
   "outputs": [],
   "source": [
    "len([x for x in clusters if len(clusters[x]) > 30])"
   ]
  },
  {
   "cell_type": "code",
   "execution_count": null,
   "metadata": {},
   "outputs": [],
   "source": [
    "result = bigStepGreedy(clusters, 96, 4, [x for x in clusters if len(clusters[x]) > 30])\n",
    "print(result)"
   ]
  },
  {
   "cell_type": "code",
   "execution_count": null,
   "metadata": {},
   "outputs": [],
   "source": [
    "greedySol, greedyCov = greedy(clusters, 96, [x for x in clusters if len(clusters[x]) > 30])"
   ]
  },
  {
   "cell_type": "code",
   "execution_count": null,
   "metadata": {},
   "outputs": [],
   "source": [
    "for cond in greedySol:\n",
    "    if -1 in pdb_to_commercial[list(cond)]:\n",
    "        print(cond)"
   ]
  },
  {
   "cell_type": "code",
   "execution_count": null,
   "metadata": {},
   "outputs": [],
   "source": [
    "chems_pdb.iloc[239]"
   ]
  },
  {
   "cell_type": "code",
   "execution_count": null,
   "metadata": {},
   "outputs": [],
   "source": [
    "sg0, sg0cov = greedy(nrscc_all, 96)"
   ]
  },
  {
   "cell_type": "code",
   "execution_count": null,
   "metadata": {},
   "outputs": [],
   "source": []
  },
  {
   "cell_type": "code",
   "execution_count": null,
   "metadata": {},
   "outputs": [],
   "source": [
    "print(f\"SGII x: {len(set(clusters_in_sgx))} / {len(clusters_in_sgx)} = {100*len(set(clusters_in_sgx))/len(clusters_in_sgx):.1f}% unique\")"
   ]
  },
  {
   "cell_type": "code",
   "execution_count": null,
   "metadata": {},
   "outputs": [],
   "source": [
    "x = list(range(0,6))\n",
    "y1 = []\n",
    "y2 = []\n",
    "for i in x:\n",
    "    sgn = np.load(f\"generated/screen/Shotgun_II_0.{i}.npy\", allow_pickle=True)\n",
    "    clusters_in_sgn = []\n",
    "    for cond in sgn:\n",
    "        clusters_in_sgn.extend(clusters[cond])\n",
    "    y1.append(len(set(clusters_in_sgn)))\n",
    "    y2.append(len(clusters_in_sgn))\n",
    "    print(f\"SGII 0.{i}: {len(set(clusters_in_sgn))} / {len(clusters_in_sgn)} = {100*len(set(clusters_in_sgn))/len(clusters_in_sgn):.1f}% unique\")"
   ]
  },
  {
   "cell_type": "code",
   "execution_count": null,
   "metadata": {},
   "outputs": [],
   "source": [
    "plt.vlines(x, 0, y2, linewidth=25, alpha=0.3, label=\"Redundant coverage\\nof NR-SCC\")\n",
    "plt.vlines(x, 0, y1, linewidth=25, alpha=0.7, label=\"Non-redundant\\ncoverage of NR-SCC\")\n",
    "plt.ylim(0, 6500)\n",
    "plt.xlim(-0.5, 6.5)\n",
    "plt.xlabel(\"C6 Diversity Cutoff\")\n",
    "plt.ylabel(\"\\#Proteins hit in NR-SCC\")\n",
    "plt.xticks(np.arange(0, 6), [f\"{n:.1f}\" for n in np.arange(0, 6)/10])\n",
    "lgnd = plt.legend()\n",
    "lgnd.legendHandles[0].set_linewidth(5)\n",
    "lgnd.legendHandles[1].set_linewidth(5)\n",
    "plt.savefig(\"generated/screen/hits.png\", dpi=500)\n",
    "plt.show()"
   ]
  },
  {
   "cell_type": "code",
   "execution_count": null,
   "metadata": {},
   "outputs": [],
   "source": [
    "from scipy.special import comb"
   ]
  },
  {
   "cell_type": "code",
   "execution_count": null,
   "metadata": {},
   "outputs": [],
   "source": [
    "comb(len(nrscc), 96)"
   ]
  },
  {
   "cell_type": "code",
   "execution_count": null,
   "metadata": {},
   "outputs": [],
   "source": []
  },
  {
   "cell_type": "code",
   "execution_count": null,
   "metadata": {},
   "outputs": [],
   "source": [
    "sg0 = np.load(f\"generated/screen/Shotgun_II_0.0.npy\", allow_pickle=True)"
   ]
  },
  {
   "cell_type": "code",
   "execution_count": null,
   "metadata": {},
   "outputs": [],
   "source": [
    "conds = set(sg0) - set(sgx) # in sg0 and not in sgx\n",
    "for c in conds:\n",
    "    print(\"=\"*80)\n",
    "    print(chems_pdb.iloc[list(c)][['name','conc','units','ph']])"
   ]
  },
  {
   "cell_type": "code",
   "execution_count": null,
   "metadata": {},
   "outputs": [],
   "source": [
    "conds = set(sgx) - set(sg0) # in sgx and not in sg0\n",
    "for c in conds:\n",
    "    print(\"=\"*80)\n",
    "    print(chems_pdb.iloc[list(c)][['name','conc','units','ph']])"
   ]
  },
  {
   "cell_type": "code",
   "execution_count": null,
   "metadata": {},
   "outputs": [],
   "source": [
    "sg_nodccc = nrscc_sorted[:96]"
   ]
  },
  {
   "cell_type": "code",
   "execution_count": null,
   "metadata": {},
   "outputs": [],
   "source": [
    "(63,81,303) in nrscc_sorted"
   ]
  },
  {
   "cell_type": "code",
   "execution_count": null,
   "metadata": {},
   "outputs": [],
   "source": [
    "pdb_to_commercial[[63,81,303]]"
   ]
  },
  {
   "cell_type": "code",
   "execution_count": null,
   "metadata": {},
   "outputs": [],
   "source": [
    "conds = set(sg_nodccc) - set(sg0) # in sg with no dccc and not in sg from dccc\n",
    "for c in conds:\n",
    "    print(\"=\"*80)\n",
    "    print(chems_pdb.iloc[list(c)][['name','conc','units','ph']])\n",
    "\n",
    "    # why does (63,81,303) not appear in DCCC? It is A9 in Hampton Crystal Screen HT\n",
    "    # it is in the DCCC\n",
    "    # so why does it not appear in the screen with DCCC filtering..."
   ]
  },
  {
   "cell_type": "code",
   "execution_count": null,
   "metadata": {},
   "outputs": [],
   "source": [
    "sg_nodccc.index((63,81,303))\n",
    "sg_nodccc[83]"
   ]
  },
  {
   "cell_type": "code",
   "execution_count": null,
   "metadata": {},
   "outputs": [],
   "source": [
    "conds = set(sg0) - set(sg_nodccc) # in sg from dccc and not in sg with no dccc\n",
    "for c in conds:\n",
    "    print(\"=\"*80)\n",
    "    print(chems_pdb.iloc[list(c)][['name','conc','units','ph']])"
   ]
  }
 ],
 "metadata": {
  "interpreter": {
   "hash": "7d5c25a0dcd433e9174dbd40cc8162c4c651cca147fa234e40a811528338fdfd"
  },
  "kernelspec": {
   "display_name": "Python 3.8.7 64-bit",
   "name": "python3"
  },
  "language_info": {
   "codemirror_mode": {
    "name": "ipython",
    "version": 3
   },
   "file_extension": ".py",
   "mimetype": "text/x-python",
   "name": "python",
   "nbconvert_exporter": "python",
   "pygments_lexer": "ipython3",
   "version": "3.8.7"
  },
  "metadata": {
   "interpreter": {
    "hash": "c0f7883b67890e221c79ccff858bf00af5cb0720564b89613377b11d8cef329f"
   }
  },
  "orig_nbformat": 2
 },
 "nbformat": 4,
 "nbformat_minor": 2
}